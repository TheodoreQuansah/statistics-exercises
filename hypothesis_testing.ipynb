{
 "cells": [
  {
   "cell_type": "code",
   "execution_count": 7,
   "id": "7b150b8f-ca74-4d5e-be70-db0b83acbec4",
   "metadata": {},
   "outputs": [],
   "source": [
    "import numpy as np\n",
    "import pandas as pd\n",
    "\n",
    "\n",
    "from pydataset import data\n",
    "from scipy import stats\n",
    "from env import get_connection\n",
    "from sqlalchemy import text, create_engine"
   ]
  },
  {
   "cell_type": "markdown",
   "id": "b1db19da-3fa4-4b35-9405-9469f922c3f8",
   "metadata": {},
   "source": [
    "For each of the following questions, formulate a null and alternative hypothesis (be as specific as you can be), then give an example of what a true positive, true negative, type I and type II errors would look like. \n",
    "\n",
    "Note that some of the questions are intentionally phrased in a vague way. \n",
    "\n",
    "It is your job to reword these as more precise questions that could be tested."
   ]
  },
  {
   "cell_type": "markdown",
   "id": "39d8b781-4986-4e88-bc4d-14cc864ce387",
   "metadata": {},
   "source": [
    "1) Has the network latency gone up since we switched internet service providers?"
   ]
  },
  {
   "cell_type": "markdown",
   "id": "26988a25-3f72-401f-9664-ec3187171981",
   "metadata": {},
   "source": [
    "Null hypothesis : There has been no changes to the network latency since we switched internet providers."
   ]
  },
  {
   "cell_type": "markdown",
   "id": "e296b772-b105-4c01-b9d5-943334086195",
   "metadata": {},
   "source": [
    "Alternate hypothesis : The network latency has gone up since we switched internet service providers. "
   ]
  },
  {
   "cell_type": "markdown",
   "id": "7deec345-9740-4acd-a705-ba7c4a155785",
   "metadata": {},
   "source": [
    "True Positive : It is indeed true that the network latency has gone up since switching providers because the analysis detects a significant increase in network latency."
   ]
  },
  {
   "cell_type": "markdown",
   "id": "c685d3b8-b0f2-41a9-a527-d3f098d479ab",
   "metadata": {},
   "source": [
    "True Negative : It is true that the latency has not changed since switching providers because the analysis correctly finds no significant increase in network latency.  "
   ]
  },
  {
   "cell_type": "markdown",
   "id": "60abb31f-77f3-4ab8-a756-bed6e0edcbee",
   "metadata": {},
   "source": [
    "Type I Error : The analysis incorrectly concludes that there is significant increase in network latency, but in reality, the latency has not changed since switching providers."
   ]
  },
  {
   "cell_type": "markdown",
   "id": "c6bc41a0-c7d6-493c-a058-85dd093a6e05",
   "metadata": {},
   "source": [
    "Type II Error : The analysis fails to detect a significant increase in network latency, but in reality, the latenct has gone up since switching providers."
   ]
  },
  {
   "cell_type": "markdown",
   "id": "cb5f84d9-6a9a-42bb-939c-f2a253c11018",
   "metadata": {},
   "source": [
    "2) Is the website redesign any good?"
   ]
  },
  {
   "cell_type": "markdown",
   "id": "ddf366e1-f867-4775-8a1e-9375c590fae7",
   "metadata": {},
   "source": [
    "Null hypothesis : The website redesign has not played a significant role in improving performance or user engagement."
   ]
  },
  {
   "cell_type": "markdown",
   "id": "bf670ab9-89fa-4228-bd80-9ca5751b7ac9",
   "metadata": {},
   "source": [
    "Alternative hypothesis : The website redesign has led to improved performance and user engagement."
   ]
  },
  {
   "cell_type": "markdown",
   "id": "7794f0f7-82d7-4820-a31a-7c16abffab0d",
   "metadata": {},
   "source": [
    "True Positive : The website redesign is indeed effective because the evaluation indicates a significant improvement in performance and user engagement."
   ]
  },
  {
   "cell_type": "markdown",
   "id": "0eac2dd0-aafd-4d54-a311-17f38199bec9",
   "metadata": {},
   "source": [
    "True Negative : The website redesign has not been effective because the evaluation correctly concludes that there is no significant improvement in performance and user engagement."
   ]
  },
  {
   "cell_type": "markdown",
   "id": "ed116c18-fb46-4e50-9cfd-fefeefac997b",
   "metadata": {},
   "source": [
    "Type I : The evaluation is incorrect because it suggests a significant improvement in performance and user engagement even though there is no actual improvement."
   ]
  },
  {
   "cell_type": "markdown",
   "id": "174ae0a6-8a3c-44bc-b37d-f88c42124a76",
   "metadata": {},
   "source": [
    "Type II : The evaluation fails to detect a significant improvement in performance or user engagement, but the website redesign is actually effective"
   ]
  },
  {
   "cell_type": "markdown",
   "id": "2830e66b-10c8-4616-af07-1cb56d93c668",
   "metadata": {},
   "source": [
    "3) Is our television ad driving more sales?"
   ]
  },
  {
   "cell_type": "markdown",
   "id": "10213ce2-5cf4-4d87-b89b-d8ba889d39c4",
   "metadata": {},
   "source": [
    "Null hypothesis : Our television ad has not played a crucial in driving up overall sales."
   ]
  },
  {
   "cell_type": "markdown",
   "id": "3a915003-ed13-401d-9c9e-d2ff8953f499",
   "metadata": {},
   "source": [
    "Alternative hypothesis : Our television ad has led to a significant rise in overall sales."
   ]
  },
  {
   "cell_type": "markdown",
   "id": "171970ff-22ed-4418-994a-44da4b212fe8",
   "metadata": {},
   "source": [
    "True Positive : Based on our analysis, it is evident that our television ad has played a crucial role in driving up overall sales."
   ]
  },
  {
   "cell_type": "markdown",
   "id": "b39827da-cf9a-4d40-9fb6-30252cf36126",
   "metadata": {},
   "source": [
    "True Negative : It is evident that our television ad has not not led to a signiificant rise in overall sales, based on our analysis."
   ]
  },
  {
   "cell_type": "markdown",
   "id": "91cdaeeb-6554-4063-bd5a-a14b06f4f1fc",
   "metadata": {},
   "source": [
    "Type I : The analysis does not support the proposition that our television ad has resulted in a significant increase in overall sales, given that there has been no observed improvement in the overall sales figures."
   ]
  },
  {
   "cell_type": "markdown",
   "id": "438e9013-5d8e-40af-bd3e-d70627f6a53d",
   "metadata": {},
   "source": [
    "Type II : The analysis fails to detect a significant increase in sales, despite the television ad being actually effective in drving up sales."
   ]
  },
  {
   "cell_type": "markdown",
   "id": "69ceece3-3609-4616-9030-88443ffc340a",
   "metadata": {},
   "source": [
    "# Comparison of Groups"
   ]
  },
  {
   "cell_type": "markdown",
   "id": "acebf6a4-5268-45c9-a19b-0c532510aa3d",
   "metadata": {},
   "source": [
    "1) Use the following contingency table to help answer the question of whether using a macbook and being a codeup student are independent of each other."
   ]
  },
  {
   "cell_type": "markdown",
   "id": "810fcd34-afff-487d-b1a2-38e7b532d3f3",
   "metadata": {},
   "source": [
    " \tCodeup Student\tNot Codeup Student\n",
    "Uses a Macbook\t        49\t  20\n",
    "\n",
    "Doesn't Use A Macbook\t1\t  30"
   ]
  },
  {
   "cell_type": "code",
   "execution_count": 2,
   "id": "4de7a700-23ba-4650-8146-844a76552c28",
   "metadata": {},
   "outputs": [],
   "source": [
    "data = {\n",
    "    'Codeup Student': [49, 1],\n",
    "    'Not code up student': [20, 30],\n",
    "}\n",
    "\n",
    "index = ['Uses a Macbook', 'Does not Use A Macbook']"
   ]
  },
  {
   "cell_type": "code",
   "execution_count": 3,
   "id": "1e939ddb-7928-468f-b079-45c2689b7545",
   "metadata": {},
   "outputs": [
    {
     "data": {
      "text/html": [
       "<div>\n",
       "<style scoped>\n",
       "    .dataframe tbody tr th:only-of-type {\n",
       "        vertical-align: middle;\n",
       "    }\n",
       "\n",
       "    .dataframe tbody tr th {\n",
       "        vertical-align: top;\n",
       "    }\n",
       "\n",
       "    .dataframe thead th {\n",
       "        text-align: right;\n",
       "    }\n",
       "</style>\n",
       "<table border=\"1\" class=\"dataframe\">\n",
       "  <thead>\n",
       "    <tr style=\"text-align: right;\">\n",
       "      <th></th>\n",
       "      <th>Codeup Student</th>\n",
       "      <th>Not code up student</th>\n",
       "    </tr>\n",
       "  </thead>\n",
       "  <tbody>\n",
       "    <tr>\n",
       "      <th>Uses a Macbook</th>\n",
       "      <td>49</td>\n",
       "      <td>20</td>\n",
       "    </tr>\n",
       "    <tr>\n",
       "      <th>Does not Use A Macbook</th>\n",
       "      <td>1</td>\n",
       "      <td>30</td>\n",
       "    </tr>\n",
       "  </tbody>\n",
       "</table>\n",
       "</div>"
      ],
      "text/plain": [
       "                        Codeup Student  Not code up student\n",
       "Uses a Macbook                      49                   20\n",
       "Does not Use A Macbook               1                   30"
      ]
     },
     "execution_count": 3,
     "metadata": {},
     "output_type": "execute_result"
    }
   ],
   "source": [
    "cs = pd.DataFrame(data, index=index)\n",
    "cs"
   ]
  },
  {
   "cell_type": "code",
   "execution_count": 4,
   "id": "0d556db1-0b9d-4098-9d86-99d7920fbeaf",
   "metadata": {},
   "outputs": [],
   "source": [
    "chi, p, degf, exp = stats.chi2_contingency(cs)"
   ]
  },
  {
   "cell_type": "code",
   "execution_count": 5,
   "id": "3f3ac2e3-7ef2-4327-bbb2-eaf43a07ec2b",
   "metadata": {},
   "outputs": [
    {
     "name": "stdout",
     "output_type": "stream",
     "text": [
      "we reject the null hypothesis. There appears to be a relationship\n"
     ]
    }
   ],
   "source": [
    "a = 0.05\n",
    "\n",
    "if p < a:\n",
    "    print('we reject the null hypothesis. There appears to be a relationship')\n",
    "else:\n",
    "    print('we fail to reject the null hypothesis')"
   ]
  },
  {
   "cell_type": "markdown",
   "id": "ca3b6a4e-075f-4d8b-a90f-2af3870cf451",
   "metadata": {},
   "source": [
    "2) Choose another 2 categorical variables from the mpg dataset.\n",
    "\n",
    "State your null and alternative hypotheses.\n",
    "\n",
    "State your alpha.\n",
    "\n",
    "Perform a chi2 test of independence.\n",
    "\n",
    "State your conclusion"
   ]
  },
  {
   "cell_type": "code",
   "execution_count": 8,
   "id": "c7a7947c-5588-4b93-96ef-6593dac29539",
   "metadata": {},
   "outputs": [
    {
     "data": {
      "text/html": [
       "<div>\n",
       "<style scoped>\n",
       "    .dataframe tbody tr th:only-of-type {\n",
       "        vertical-align: middle;\n",
       "    }\n",
       "\n",
       "    .dataframe tbody tr th {\n",
       "        vertical-align: top;\n",
       "    }\n",
       "\n",
       "    .dataframe thead th {\n",
       "        text-align: right;\n",
       "    }\n",
       "</style>\n",
       "<table border=\"1\" class=\"dataframe\">\n",
       "  <thead>\n",
       "    <tr style=\"text-align: right;\">\n",
       "      <th></th>\n",
       "      <th>manufacturer</th>\n",
       "      <th>model</th>\n",
       "      <th>displ</th>\n",
       "      <th>year</th>\n",
       "      <th>cyl</th>\n",
       "      <th>trans</th>\n",
       "      <th>drv</th>\n",
       "      <th>cty</th>\n",
       "      <th>hwy</th>\n",
       "      <th>fl</th>\n",
       "      <th>class</th>\n",
       "    </tr>\n",
       "  </thead>\n",
       "  <tbody>\n",
       "    <tr>\n",
       "      <th>1</th>\n",
       "      <td>audi</td>\n",
       "      <td>a4</td>\n",
       "      <td>1.8</td>\n",
       "      <td>1999</td>\n",
       "      <td>4</td>\n",
       "      <td>auto(l5)</td>\n",
       "      <td>f</td>\n",
       "      <td>18</td>\n",
       "      <td>29</td>\n",
       "      <td>p</td>\n",
       "      <td>compact</td>\n",
       "    </tr>\n",
       "    <tr>\n",
       "      <th>2</th>\n",
       "      <td>audi</td>\n",
       "      <td>a4</td>\n",
       "      <td>1.8</td>\n",
       "      <td>1999</td>\n",
       "      <td>4</td>\n",
       "      <td>manual(m5)</td>\n",
       "      <td>f</td>\n",
       "      <td>21</td>\n",
       "      <td>29</td>\n",
       "      <td>p</td>\n",
       "      <td>compact</td>\n",
       "    </tr>\n",
       "    <tr>\n",
       "      <th>3</th>\n",
       "      <td>audi</td>\n",
       "      <td>a4</td>\n",
       "      <td>2.0</td>\n",
       "      <td>2008</td>\n",
       "      <td>4</td>\n",
       "      <td>manual(m6)</td>\n",
       "      <td>f</td>\n",
       "      <td>20</td>\n",
       "      <td>31</td>\n",
       "      <td>p</td>\n",
       "      <td>compact</td>\n",
       "    </tr>\n",
       "    <tr>\n",
       "      <th>4</th>\n",
       "      <td>audi</td>\n",
       "      <td>a4</td>\n",
       "      <td>2.0</td>\n",
       "      <td>2008</td>\n",
       "      <td>4</td>\n",
       "      <td>auto(av)</td>\n",
       "      <td>f</td>\n",
       "      <td>21</td>\n",
       "      <td>30</td>\n",
       "      <td>p</td>\n",
       "      <td>compact</td>\n",
       "    </tr>\n",
       "    <tr>\n",
       "      <th>5</th>\n",
       "      <td>audi</td>\n",
       "      <td>a4</td>\n",
       "      <td>2.8</td>\n",
       "      <td>1999</td>\n",
       "      <td>6</td>\n",
       "      <td>auto(l5)</td>\n",
       "      <td>f</td>\n",
       "      <td>16</td>\n",
       "      <td>26</td>\n",
       "      <td>p</td>\n",
       "      <td>compact</td>\n",
       "    </tr>\n",
       "  </tbody>\n",
       "</table>\n",
       "</div>"
      ],
      "text/plain": [
       "  manufacturer model  displ  year  cyl       trans drv  cty  hwy fl    class\n",
       "1         audi    a4    1.8  1999    4    auto(l5)   f   18   29  p  compact\n",
       "2         audi    a4    1.8  1999    4  manual(m5)   f   21   29  p  compact\n",
       "3         audi    a4    2.0  2008    4  manual(m6)   f   20   31  p  compact\n",
       "4         audi    a4    2.0  2008    4    auto(av)   f   21   30  p  compact\n",
       "5         audi    a4    2.8  1999    6    auto(l5)   f   16   26  p  compact"
      ]
     },
     "execution_count": 8,
     "metadata": {},
     "output_type": "execute_result"
    }
   ],
   "source": [
    "mpg = data('mpg')\n",
    "mpg.head()"
   ]
  },
  {
   "cell_type": "code",
   "execution_count": 9,
   "id": "69836590-1b8d-4880-9a93-985352b7387d",
   "metadata": {},
   "outputs": [
    {
     "data": {
      "text/html": [
       "<div>\n",
       "<style scoped>\n",
       "    .dataframe tbody tr th:only-of-type {\n",
       "        vertical-align: middle;\n",
       "    }\n",
       "\n",
       "    .dataframe tbody tr th {\n",
       "        vertical-align: top;\n",
       "    }\n",
       "\n",
       "    .dataframe thead th {\n",
       "        text-align: right;\n",
       "    }\n",
       "</style>\n",
       "<table border=\"1\" class=\"dataframe\">\n",
       "  <thead>\n",
       "    <tr style=\"text-align: right;\">\n",
       "      <th></th>\n",
       "      <th>manufacturer</th>\n",
       "      <th>model</th>\n",
       "      <th>displ</th>\n",
       "      <th>year</th>\n",
       "      <th>cyl</th>\n",
       "      <th>trans</th>\n",
       "      <th>drv</th>\n",
       "      <th>cty</th>\n",
       "      <th>hwy</th>\n",
       "      <th>fl</th>\n",
       "      <th>class</th>\n",
       "      <th>suv_vs_nonsuv</th>\n",
       "    </tr>\n",
       "  </thead>\n",
       "  <tbody>\n",
       "    <tr>\n",
       "      <th>1</th>\n",
       "      <td>audi</td>\n",
       "      <td>a4</td>\n",
       "      <td>1.8</td>\n",
       "      <td>1999</td>\n",
       "      <td>4</td>\n",
       "      <td>auto(l5)</td>\n",
       "      <td>f</td>\n",
       "      <td>18</td>\n",
       "      <td>29</td>\n",
       "      <td>p</td>\n",
       "      <td>compact</td>\n",
       "      <td>not_suv</td>\n",
       "    </tr>\n",
       "    <tr>\n",
       "      <th>2</th>\n",
       "      <td>audi</td>\n",
       "      <td>a4</td>\n",
       "      <td>1.8</td>\n",
       "      <td>1999</td>\n",
       "      <td>4</td>\n",
       "      <td>manual(m5)</td>\n",
       "      <td>f</td>\n",
       "      <td>21</td>\n",
       "      <td>29</td>\n",
       "      <td>p</td>\n",
       "      <td>compact</td>\n",
       "      <td>not_suv</td>\n",
       "    </tr>\n",
       "    <tr>\n",
       "      <th>3</th>\n",
       "      <td>audi</td>\n",
       "      <td>a4</td>\n",
       "      <td>2.0</td>\n",
       "      <td>2008</td>\n",
       "      <td>4</td>\n",
       "      <td>manual(m6)</td>\n",
       "      <td>f</td>\n",
       "      <td>20</td>\n",
       "      <td>31</td>\n",
       "      <td>p</td>\n",
       "      <td>compact</td>\n",
       "      <td>not_suv</td>\n",
       "    </tr>\n",
       "    <tr>\n",
       "      <th>4</th>\n",
       "      <td>audi</td>\n",
       "      <td>a4</td>\n",
       "      <td>2.0</td>\n",
       "      <td>2008</td>\n",
       "      <td>4</td>\n",
       "      <td>auto(av)</td>\n",
       "      <td>f</td>\n",
       "      <td>21</td>\n",
       "      <td>30</td>\n",
       "      <td>p</td>\n",
       "      <td>compact</td>\n",
       "      <td>not_suv</td>\n",
       "    </tr>\n",
       "    <tr>\n",
       "      <th>5</th>\n",
       "      <td>audi</td>\n",
       "      <td>a4</td>\n",
       "      <td>2.8</td>\n",
       "      <td>1999</td>\n",
       "      <td>6</td>\n",
       "      <td>auto(l5)</td>\n",
       "      <td>f</td>\n",
       "      <td>16</td>\n",
       "      <td>26</td>\n",
       "      <td>p</td>\n",
       "      <td>compact</td>\n",
       "      <td>not_suv</td>\n",
       "    </tr>\n",
       "  </tbody>\n",
       "</table>\n",
       "</div>"
      ],
      "text/plain": [
       "  manufacturer model  displ  year  cyl       trans drv  cty  hwy fl    class  \\\n",
       "1         audi    a4    1.8  1999    4    auto(l5)   f   18   29  p  compact   \n",
       "2         audi    a4    1.8  1999    4  manual(m5)   f   21   29  p  compact   \n",
       "3         audi    a4    2.0  2008    4  manual(m6)   f   20   31  p  compact   \n",
       "4         audi    a4    2.0  2008    4    auto(av)   f   21   30  p  compact   \n",
       "5         audi    a4    2.8  1999    6    auto(l5)   f   16   26  p  compact   \n",
       "\n",
       "  suv_vs_nonsuv  \n",
       "1       not_suv  \n",
       "2       not_suv  \n",
       "3       not_suv  \n",
       "4       not_suv  \n",
       "5       not_suv  "
      ]
     },
     "execution_count": 9,
     "metadata": {},
     "output_type": "execute_result"
    }
   ],
   "source": [
    "mpg['suv_vs_nonsuv'] = np.where(mpg['class'].str.startswith('s'), 'suv', 'not_suv')\n",
    "mpg.head()"
   ]
  },
  {
   "cell_type": "code",
   "execution_count": 10,
   "id": "3468127b-ba06-47f2-9442-9dc79417c288",
   "metadata": {},
   "outputs": [
    {
     "data": {
      "text/html": [
       "<div>\n",
       "<style scoped>\n",
       "    .dataframe tbody tr th:only-of-type {\n",
       "        vertical-align: middle;\n",
       "    }\n",
       "\n",
       "    .dataframe tbody tr th {\n",
       "        vertical-align: top;\n",
       "    }\n",
       "\n",
       "    .dataframe thead th {\n",
       "        text-align: right;\n",
       "    }\n",
       "</style>\n",
       "<table border=\"1\" class=\"dataframe\">\n",
       "  <thead>\n",
       "    <tr style=\"text-align: right;\">\n",
       "      <th></th>\n",
       "      <th>manufacturer</th>\n",
       "      <th>model</th>\n",
       "      <th>displ</th>\n",
       "      <th>year</th>\n",
       "      <th>cyl</th>\n",
       "      <th>trans</th>\n",
       "      <th>drv</th>\n",
       "      <th>cty</th>\n",
       "      <th>hwy</th>\n",
       "      <th>fl</th>\n",
       "      <th>class</th>\n",
       "      <th>suv_vs_nonsuv</th>\n",
       "      <th>4wd_vs_f_or_rwd</th>\n",
       "    </tr>\n",
       "  </thead>\n",
       "  <tbody>\n",
       "    <tr>\n",
       "      <th>1</th>\n",
       "      <td>audi</td>\n",
       "      <td>a4</td>\n",
       "      <td>1.8</td>\n",
       "      <td>1999</td>\n",
       "      <td>4</td>\n",
       "      <td>auto(l5)</td>\n",
       "      <td>f</td>\n",
       "      <td>18</td>\n",
       "      <td>29</td>\n",
       "      <td>p</td>\n",
       "      <td>compact</td>\n",
       "      <td>not_suv</td>\n",
       "      <td>f_or_rwd</td>\n",
       "    </tr>\n",
       "    <tr>\n",
       "      <th>2</th>\n",
       "      <td>audi</td>\n",
       "      <td>a4</td>\n",
       "      <td>1.8</td>\n",
       "      <td>1999</td>\n",
       "      <td>4</td>\n",
       "      <td>manual(m5)</td>\n",
       "      <td>f</td>\n",
       "      <td>21</td>\n",
       "      <td>29</td>\n",
       "      <td>p</td>\n",
       "      <td>compact</td>\n",
       "      <td>not_suv</td>\n",
       "      <td>f_or_rwd</td>\n",
       "    </tr>\n",
       "    <tr>\n",
       "      <th>3</th>\n",
       "      <td>audi</td>\n",
       "      <td>a4</td>\n",
       "      <td>2.0</td>\n",
       "      <td>2008</td>\n",
       "      <td>4</td>\n",
       "      <td>manual(m6)</td>\n",
       "      <td>f</td>\n",
       "      <td>20</td>\n",
       "      <td>31</td>\n",
       "      <td>p</td>\n",
       "      <td>compact</td>\n",
       "      <td>not_suv</td>\n",
       "      <td>f_or_rwd</td>\n",
       "    </tr>\n",
       "    <tr>\n",
       "      <th>4</th>\n",
       "      <td>audi</td>\n",
       "      <td>a4</td>\n",
       "      <td>2.0</td>\n",
       "      <td>2008</td>\n",
       "      <td>4</td>\n",
       "      <td>auto(av)</td>\n",
       "      <td>f</td>\n",
       "      <td>21</td>\n",
       "      <td>30</td>\n",
       "      <td>p</td>\n",
       "      <td>compact</td>\n",
       "      <td>not_suv</td>\n",
       "      <td>f_or_rwd</td>\n",
       "    </tr>\n",
       "    <tr>\n",
       "      <th>5</th>\n",
       "      <td>audi</td>\n",
       "      <td>a4</td>\n",
       "      <td>2.8</td>\n",
       "      <td>1999</td>\n",
       "      <td>6</td>\n",
       "      <td>auto(l5)</td>\n",
       "      <td>f</td>\n",
       "      <td>16</td>\n",
       "      <td>26</td>\n",
       "      <td>p</td>\n",
       "      <td>compact</td>\n",
       "      <td>not_suv</td>\n",
       "      <td>f_or_rwd</td>\n",
       "    </tr>\n",
       "  </tbody>\n",
       "</table>\n",
       "</div>"
      ],
      "text/plain": [
       "  manufacturer model  displ  year  cyl       trans drv  cty  hwy fl    class  \\\n",
       "1         audi    a4    1.8  1999    4    auto(l5)   f   18   29  p  compact   \n",
       "2         audi    a4    1.8  1999    4  manual(m5)   f   21   29  p  compact   \n",
       "3         audi    a4    2.0  2008    4  manual(m6)   f   20   31  p  compact   \n",
       "4         audi    a4    2.0  2008    4    auto(av)   f   21   30  p  compact   \n",
       "5         audi    a4    2.8  1999    6    auto(l5)   f   16   26  p  compact   \n",
       "\n",
       "  suv_vs_nonsuv 4wd_vs_f_or_rwd  \n",
       "1       not_suv        f_or_rwd  \n",
       "2       not_suv        f_or_rwd  \n",
       "3       not_suv        f_or_rwd  \n",
       "4       not_suv        f_or_rwd  \n",
       "5       not_suv        f_or_rwd  "
      ]
     },
     "execution_count": 10,
     "metadata": {},
     "output_type": "execute_result"
    }
   ],
   "source": [
    "mpg['4wd_vs_f_or_rwd'] = np.where(mpg['drv'].str.startswith('4'), '4wd', 'f_or_rwd')\n",
    "mpg.head()"
   ]
  },
  {
   "cell_type": "markdown",
   "id": "f287beef-307c-413e-877c-dcf1a6f11924",
   "metadata": {},
   "source": [
    "Null hypothesis : There is no association between suvs and 4wd\n",
    "\n",
    "Alternative : There is an association between suvs and 4wd"
   ]
  },
  {
   "cell_type": "code",
   "execution_count": 11,
   "id": "6814d4b2-4feb-4fb3-988c-4dac25f6b1fa",
   "metadata": {},
   "outputs": [
    {
     "data": {
      "text/html": [
       "<div>\n",
       "<style scoped>\n",
       "    .dataframe tbody tr th:only-of-type {\n",
       "        vertical-align: middle;\n",
       "    }\n",
       "\n",
       "    .dataframe tbody tr th {\n",
       "        vertical-align: top;\n",
       "    }\n",
       "\n",
       "    .dataframe thead th {\n",
       "        text-align: right;\n",
       "    }\n",
       "</style>\n",
       "<table border=\"1\" class=\"dataframe\">\n",
       "  <thead>\n",
       "    <tr style=\"text-align: right;\">\n",
       "      <th>4wd_vs_f_or_rwd</th>\n",
       "      <th>4wd</th>\n",
       "      <th>f_or_rwd</th>\n",
       "    </tr>\n",
       "    <tr>\n",
       "      <th>suv_vs_nonsuv</th>\n",
       "      <th></th>\n",
       "      <th></th>\n",
       "    </tr>\n",
       "  </thead>\n",
       "  <tbody>\n",
       "    <tr>\n",
       "      <th>not_suv</th>\n",
       "      <td>48</td>\n",
       "      <td>89</td>\n",
       "    </tr>\n",
       "    <tr>\n",
       "      <th>suv</th>\n",
       "      <td>55</td>\n",
       "      <td>42</td>\n",
       "    </tr>\n",
       "  </tbody>\n",
       "</table>\n",
       "</div>"
      ],
      "text/plain": [
       "4wd_vs_f_or_rwd  4wd  f_or_rwd\n",
       "suv_vs_nonsuv                 \n",
       "not_suv           48        89\n",
       "suv               55        42"
      ]
     },
     "execution_count": 11,
     "metadata": {},
     "output_type": "execute_result"
    }
   ],
   "source": [
    "c_drv = pd.crosstab(mpg.suv_vs_nonsuv, mpg['4wd_vs_f_or_rwd'])\n",
    "c_drv"
   ]
  },
  {
   "cell_type": "code",
   "execution_count": 12,
   "id": "561136cd-ab87-4888-a3aa-fcd4215b92fd",
   "metadata": {},
   "outputs": [],
   "source": [
    "chi, p, degf, exp = stats.chi2_contingency(c_drv)"
   ]
  },
  {
   "cell_type": "code",
   "execution_count": 13,
   "id": "4813c5e6-b1da-49f6-ab2f-3068b10d7c9f",
   "metadata": {},
   "outputs": [
    {
     "name": "stdout",
     "output_type": "stream",
     "text": [
      "we reject the null hypothesis. There appears to be a relationship\n"
     ]
    }
   ],
   "source": [
    "a = 0.05\n",
    "\n",
    "if p < a:\n",
    "    print('we reject the null hypothesis. There appears to be a relationship')\n",
    "else:\n",
    "    print('we fail to reject the null hypothesis')"
   ]
  },
  {
   "cell_type": "markdown",
   "id": "06fff830-ad68-456f-8668-17bf8d1fa280",
   "metadata": {},
   "source": [
    "3) Use the data from the employees database to answer these questions:\n",
    "\n",
    "Is an employee's gender independent of whether an employee works in sales or marketing? (only look at current employees)\n",
    "\n",
    "Is an employee's gender independent of whether or not they are or have been a manager?"
   ]
  },
  {
   "cell_type": "code",
   "execution_count": 14,
   "id": "cb252a37-0ae4-41f1-a581-ca107482864a",
   "metadata": {},
   "outputs": [],
   "source": [
    "def get_db_url(database):\n",
    "    return get_connection(database)"
   ]
  },
  {
   "cell_type": "code",
   "execution_count": 15,
   "id": "cbf6b461-3daf-4853-8cb7-eb3d3ed4260d",
   "metadata": {},
   "outputs": [],
   "source": [
    "url = get_db_url('employees')"
   ]
  },
  {
   "cell_type": "code",
   "execution_count": 16,
   "id": "0e0dabaa-9875-4808-a423-3f27d8c951f4",
   "metadata": {},
   "outputs": [],
   "source": [
    "engine =  create_engine(url)"
   ]
  },
  {
   "cell_type": "code",
   "execution_count": 17,
   "id": "ecfcc1c1-d8ba-44ea-8189-0a604a2ef735",
   "metadata": {},
   "outputs": [],
   "source": [
    "query = '''\n",
    "        SELECT *\n",
    "        FROM employees\n",
    "        LEFT JOIN dept_emp ON dept_emp.emp_no = employees.emp_no\n",
    "        LEFT JOIN departments ON departments.dept_no = dept_emp.dept_no\n",
    "        WHERE to_date > CURDATE() AND (dept_name = 'sales' OR dept_name = 'marketing')\n",
    "        '''"
   ]
  },
  {
   "cell_type": "code",
   "execution_count": 18,
   "id": "1df7a85f-ab1c-4738-bc6b-8a41bb5b717f",
   "metadata": {},
   "outputs": [],
   "source": [
    "text_query = text(query)"
   ]
  },
  {
   "cell_type": "code",
   "execution_count": 19,
   "id": "2ada1064-e165-45db-ab59-db55c700576a",
   "metadata": {},
   "outputs": [
    {
     "data": {
      "text/html": [
       "<div>\n",
       "<style scoped>\n",
       "    .dataframe tbody tr th:only-of-type {\n",
       "        vertical-align: middle;\n",
       "    }\n",
       "\n",
       "    .dataframe tbody tr th {\n",
       "        vertical-align: top;\n",
       "    }\n",
       "\n",
       "    .dataframe thead th {\n",
       "        text-align: right;\n",
       "    }\n",
       "</style>\n",
       "<table border=\"1\" class=\"dataframe\">\n",
       "  <thead>\n",
       "    <tr style=\"text-align: right;\">\n",
       "      <th></th>\n",
       "      <th>emp_no</th>\n",
       "      <th>birth_date</th>\n",
       "      <th>first_name</th>\n",
       "      <th>last_name</th>\n",
       "      <th>gender</th>\n",
       "      <th>hire_date</th>\n",
       "      <th>emp_no</th>\n",
       "      <th>dept_no</th>\n",
       "      <th>from_date</th>\n",
       "      <th>to_date</th>\n",
       "      <th>dept_no</th>\n",
       "      <th>dept_name</th>\n",
       "    </tr>\n",
       "  </thead>\n",
       "  <tbody>\n",
       "    <tr>\n",
       "      <th>0</th>\n",
       "      <td>10017</td>\n",
       "      <td>1958-07-06</td>\n",
       "      <td>Cristinel</td>\n",
       "      <td>Bouloucos</td>\n",
       "      <td>F</td>\n",
       "      <td>1993-08-03</td>\n",
       "      <td>10017</td>\n",
       "      <td>d001</td>\n",
       "      <td>1993-08-03</td>\n",
       "      <td>9999-01-01</td>\n",
       "      <td>d001</td>\n",
       "      <td>Marketing</td>\n",
       "    </tr>\n",
       "    <tr>\n",
       "      <th>1</th>\n",
       "      <td>10058</td>\n",
       "      <td>1954-10-01</td>\n",
       "      <td>Berhard</td>\n",
       "      <td>McFarlin</td>\n",
       "      <td>M</td>\n",
       "      <td>1987-04-13</td>\n",
       "      <td>10058</td>\n",
       "      <td>d001</td>\n",
       "      <td>1988-04-25</td>\n",
       "      <td>9999-01-01</td>\n",
       "      <td>d001</td>\n",
       "      <td>Marketing</td>\n",
       "    </tr>\n",
       "    <tr>\n",
       "      <th>2</th>\n",
       "      <td>10140</td>\n",
       "      <td>1957-03-11</td>\n",
       "      <td>Yucel</td>\n",
       "      <td>Auria</td>\n",
       "      <td>F</td>\n",
       "      <td>1991-03-14</td>\n",
       "      <td>10140</td>\n",
       "      <td>d001</td>\n",
       "      <td>1991-03-14</td>\n",
       "      <td>9999-01-01</td>\n",
       "      <td>d001</td>\n",
       "      <td>Marketing</td>\n",
       "    </tr>\n",
       "    <tr>\n",
       "      <th>3</th>\n",
       "      <td>10228</td>\n",
       "      <td>1953-04-21</td>\n",
       "      <td>Karoline</td>\n",
       "      <td>Cesareni</td>\n",
       "      <td>F</td>\n",
       "      <td>1991-08-26</td>\n",
       "      <td>10228</td>\n",
       "      <td>d001</td>\n",
       "      <td>1993-01-28</td>\n",
       "      <td>9999-01-01</td>\n",
       "      <td>d001</td>\n",
       "      <td>Marketing</td>\n",
       "    </tr>\n",
       "    <tr>\n",
       "      <th>4</th>\n",
       "      <td>10239</td>\n",
       "      <td>1955-03-31</td>\n",
       "      <td>Nikolaos</td>\n",
       "      <td>Llado</td>\n",
       "      <td>F</td>\n",
       "      <td>1995-05-08</td>\n",
       "      <td>10239</td>\n",
       "      <td>d001</td>\n",
       "      <td>1996-05-04</td>\n",
       "      <td>9999-01-01</td>\n",
       "      <td>d001</td>\n",
       "      <td>Marketing</td>\n",
       "    </tr>\n",
       "  </tbody>\n",
       "</table>\n",
       "</div>"
      ],
      "text/plain": [
       "   emp_no  birth_date first_name  last_name gender   hire_date  emp_no  \\\n",
       "0   10017  1958-07-06  Cristinel  Bouloucos      F  1993-08-03   10017   \n",
       "1   10058  1954-10-01    Berhard   McFarlin      M  1987-04-13   10058   \n",
       "2   10140  1957-03-11      Yucel      Auria      F  1991-03-14   10140   \n",
       "3   10228  1953-04-21   Karoline   Cesareni      F  1991-08-26   10228   \n",
       "4   10239  1955-03-31   Nikolaos      Llado      F  1995-05-08   10239   \n",
       "\n",
       "  dept_no   from_date     to_date dept_no  dept_name  \n",
       "0    d001  1993-08-03  9999-01-01    d001  Marketing  \n",
       "1    d001  1988-04-25  9999-01-01    d001  Marketing  \n",
       "2    d001  1991-03-14  9999-01-01    d001  Marketing  \n",
       "3    d001  1993-01-28  9999-01-01    d001  Marketing  \n",
       "4    d001  1996-05-04  9999-01-01    d001  Marketing  "
      ]
     },
     "execution_count": 19,
     "metadata": {},
     "output_type": "execute_result"
    }
   ],
   "source": [
    "df = pd.read_sql(text(query), engine.connect())\n",
    "df.head()"
   ]
  },
  {
   "cell_type": "code",
   "execution_count": 20,
   "id": "b279682a-2104-4b78-a397-20a6717a821e",
   "metadata": {},
   "outputs": [
    {
     "data": {
      "text/html": [
       "<div>\n",
       "<style scoped>\n",
       "    .dataframe tbody tr th:only-of-type {\n",
       "        vertical-align: middle;\n",
       "    }\n",
       "\n",
       "    .dataframe tbody tr th {\n",
       "        vertical-align: top;\n",
       "    }\n",
       "\n",
       "    .dataframe thead th {\n",
       "        text-align: right;\n",
       "    }\n",
       "</style>\n",
       "<table border=\"1\" class=\"dataframe\">\n",
       "  <thead>\n",
       "    <tr style=\"text-align: right;\">\n",
       "      <th>dept_name</th>\n",
       "      <th>Marketing</th>\n",
       "      <th>Sales</th>\n",
       "    </tr>\n",
       "    <tr>\n",
       "      <th>gender</th>\n",
       "      <th></th>\n",
       "      <th></th>\n",
       "    </tr>\n",
       "  </thead>\n",
       "  <tbody>\n",
       "    <tr>\n",
       "      <th>F</th>\n",
       "      <td>5864</td>\n",
       "      <td>14999</td>\n",
       "    </tr>\n",
       "    <tr>\n",
       "      <th>M</th>\n",
       "      <td>8978</td>\n",
       "      <td>22702</td>\n",
       "    </tr>\n",
       "  </tbody>\n",
       "</table>\n",
       "</div>"
      ],
      "text/plain": [
       "dept_name  Marketing  Sales\n",
       "gender                     \n",
       "F               5864  14999\n",
       "M               8978  22702"
      ]
     },
     "execution_count": 20,
     "metadata": {},
     "output_type": "execute_result"
    }
   ],
   "source": [
    "gd = pd.crosstab(df.gender, df.dept_name)\n",
    "gd"
   ]
  },
  {
   "cell_type": "code",
   "execution_count": 21,
   "id": "2ce1c2d2-e056-4e55-bc6e-664272a067c3",
   "metadata": {},
   "outputs": [],
   "source": [
    "chi, p, degf, exp = stats.chi2_contingency(gd)"
   ]
  },
  {
   "cell_type": "code",
   "execution_count": 22,
   "id": "9bd32cd9-9e67-433f-8e0f-dc16b6e363e4",
   "metadata": {
    "tags": []
   },
   "outputs": [
    {
     "name": "stdout",
     "output_type": "stream",
     "text": [
      "we fail to reject the null hypothesis\n"
     ]
    }
   ],
   "source": [
    "a = 0.05\n",
    "\n",
    "if p < a:\n",
    "    print('we reject the null hypothesis. There appears to be a relationship')\n",
    "else:\n",
    "    print('we fail to reject the null hypothesis')"
   ]
  },
  {
   "cell_type": "code",
   "execution_count": 23,
   "id": "82a87a3b-e37d-40f6-87e7-e5e13aa7c687",
   "metadata": {},
   "outputs": [],
   "source": [
    "query = '''\n",
    "        SELECT *\n",
    "        FROM employees\n",
    "        LEFT JOIN dept_manager ON dept_manager.emp_no = employees.emp_no\n",
    "        '''"
   ]
  },
  {
   "cell_type": "code",
   "execution_count": 24,
   "id": "326d2c5c-eabf-4863-a7e4-b03c87998bb2",
   "metadata": {},
   "outputs": [],
   "source": [
    "text_query = text(query)"
   ]
  },
  {
   "cell_type": "code",
   "execution_count": 25,
   "id": "f42ffe5c-a56e-466b-abc1-cb8483640eed",
   "metadata": {},
   "outputs": [
    {
     "data": {
      "text/html": [
       "<div>\n",
       "<style scoped>\n",
       "    .dataframe tbody tr th:only-of-type {\n",
       "        vertical-align: middle;\n",
       "    }\n",
       "\n",
       "    .dataframe tbody tr th {\n",
       "        vertical-align: top;\n",
       "    }\n",
       "\n",
       "    .dataframe thead th {\n",
       "        text-align: right;\n",
       "    }\n",
       "</style>\n",
       "<table border=\"1\" class=\"dataframe\">\n",
       "  <thead>\n",
       "    <tr style=\"text-align: right;\">\n",
       "      <th></th>\n",
       "      <th>emp_no</th>\n",
       "      <th>birth_date</th>\n",
       "      <th>first_name</th>\n",
       "      <th>last_name</th>\n",
       "      <th>gender</th>\n",
       "      <th>hire_date</th>\n",
       "      <th>emp_no</th>\n",
       "      <th>dept_no</th>\n",
       "      <th>from_date</th>\n",
       "      <th>to_date</th>\n",
       "    </tr>\n",
       "  </thead>\n",
       "  <tbody>\n",
       "    <tr>\n",
       "      <th>0</th>\n",
       "      <td>10001</td>\n",
       "      <td>1953-09-02</td>\n",
       "      <td>Georgi</td>\n",
       "      <td>Facello</td>\n",
       "      <td>M</td>\n",
       "      <td>1986-06-26</td>\n",
       "      <td>NaN</td>\n",
       "      <td>None</td>\n",
       "      <td>None</td>\n",
       "      <td>None</td>\n",
       "    </tr>\n",
       "    <tr>\n",
       "      <th>1</th>\n",
       "      <td>10002</td>\n",
       "      <td>1964-06-02</td>\n",
       "      <td>Bezalel</td>\n",
       "      <td>Simmel</td>\n",
       "      <td>F</td>\n",
       "      <td>1985-11-21</td>\n",
       "      <td>NaN</td>\n",
       "      <td>None</td>\n",
       "      <td>None</td>\n",
       "      <td>None</td>\n",
       "    </tr>\n",
       "    <tr>\n",
       "      <th>2</th>\n",
       "      <td>10003</td>\n",
       "      <td>1959-12-03</td>\n",
       "      <td>Parto</td>\n",
       "      <td>Bamford</td>\n",
       "      <td>M</td>\n",
       "      <td>1986-08-28</td>\n",
       "      <td>NaN</td>\n",
       "      <td>None</td>\n",
       "      <td>None</td>\n",
       "      <td>None</td>\n",
       "    </tr>\n",
       "    <tr>\n",
       "      <th>3</th>\n",
       "      <td>10004</td>\n",
       "      <td>1954-05-01</td>\n",
       "      <td>Chirstian</td>\n",
       "      <td>Koblick</td>\n",
       "      <td>M</td>\n",
       "      <td>1986-12-01</td>\n",
       "      <td>NaN</td>\n",
       "      <td>None</td>\n",
       "      <td>None</td>\n",
       "      <td>None</td>\n",
       "    </tr>\n",
       "    <tr>\n",
       "      <th>4</th>\n",
       "      <td>10005</td>\n",
       "      <td>1955-01-21</td>\n",
       "      <td>Kyoichi</td>\n",
       "      <td>Maliniak</td>\n",
       "      <td>M</td>\n",
       "      <td>1989-09-12</td>\n",
       "      <td>NaN</td>\n",
       "      <td>None</td>\n",
       "      <td>None</td>\n",
       "      <td>None</td>\n",
       "    </tr>\n",
       "  </tbody>\n",
       "</table>\n",
       "</div>"
      ],
      "text/plain": [
       "   emp_no  birth_date first_name last_name gender   hire_date  emp_no dept_no  \\\n",
       "0   10001  1953-09-02     Georgi   Facello      M  1986-06-26     NaN    None   \n",
       "1   10002  1964-06-02    Bezalel    Simmel      F  1985-11-21     NaN    None   \n",
       "2   10003  1959-12-03      Parto   Bamford      M  1986-08-28     NaN    None   \n",
       "3   10004  1954-05-01  Chirstian   Koblick      M  1986-12-01     NaN    None   \n",
       "4   10005  1955-01-21    Kyoichi  Maliniak      M  1989-09-12     NaN    None   \n",
       "\n",
       "  from_date to_date  \n",
       "0      None    None  \n",
       "1      None    None  \n",
       "2      None    None  \n",
       "3      None    None  \n",
       "4      None    None  "
      ]
     },
     "execution_count": 25,
     "metadata": {},
     "output_type": "execute_result"
    }
   ],
   "source": [
    "dfm = pd.read_sql(text(query), engine.connect())\n",
    "dfm.head()"
   ]
  },
  {
   "cell_type": "code",
   "execution_count": 26,
   "id": "6cf8045d-bf30-40af-aba5-584ab8826507",
   "metadata": {},
   "outputs": [
    {
     "data": {
      "text/html": [
       "<div>\n",
       "<style scoped>\n",
       "    .dataframe tbody tr th:only-of-type {\n",
       "        vertical-align: middle;\n",
       "    }\n",
       "\n",
       "    .dataframe tbody tr th {\n",
       "        vertical-align: top;\n",
       "    }\n",
       "\n",
       "    .dataframe thead th {\n",
       "        text-align: right;\n",
       "    }\n",
       "</style>\n",
       "<table border=\"1\" class=\"dataframe\">\n",
       "  <thead>\n",
       "    <tr style=\"text-align: right;\">\n",
       "      <th></th>\n",
       "      <th>emp_no</th>\n",
       "      <th>birth_date</th>\n",
       "      <th>first_name</th>\n",
       "      <th>last_name</th>\n",
       "      <th>gender</th>\n",
       "      <th>hire_date</th>\n",
       "      <th>emp_no</th>\n",
       "      <th>dept_no</th>\n",
       "      <th>from_date</th>\n",
       "      <th>to_date</th>\n",
       "      <th>managers</th>\n",
       "    </tr>\n",
       "  </thead>\n",
       "  <tbody>\n",
       "    <tr>\n",
       "      <th>0</th>\n",
       "      <td>10001</td>\n",
       "      <td>1953-09-02</td>\n",
       "      <td>Georgi</td>\n",
       "      <td>Facello</td>\n",
       "      <td>M</td>\n",
       "      <td>1986-06-26</td>\n",
       "      <td>NaN</td>\n",
       "      <td>None</td>\n",
       "      <td>None</td>\n",
       "      <td>None</td>\n",
       "      <td>not_manager</td>\n",
       "    </tr>\n",
       "    <tr>\n",
       "      <th>1</th>\n",
       "      <td>10002</td>\n",
       "      <td>1964-06-02</td>\n",
       "      <td>Bezalel</td>\n",
       "      <td>Simmel</td>\n",
       "      <td>F</td>\n",
       "      <td>1985-11-21</td>\n",
       "      <td>NaN</td>\n",
       "      <td>None</td>\n",
       "      <td>None</td>\n",
       "      <td>None</td>\n",
       "      <td>not_manager</td>\n",
       "    </tr>\n",
       "    <tr>\n",
       "      <th>2</th>\n",
       "      <td>10003</td>\n",
       "      <td>1959-12-03</td>\n",
       "      <td>Parto</td>\n",
       "      <td>Bamford</td>\n",
       "      <td>M</td>\n",
       "      <td>1986-08-28</td>\n",
       "      <td>NaN</td>\n",
       "      <td>None</td>\n",
       "      <td>None</td>\n",
       "      <td>None</td>\n",
       "      <td>not_manager</td>\n",
       "    </tr>\n",
       "    <tr>\n",
       "      <th>3</th>\n",
       "      <td>10004</td>\n",
       "      <td>1954-05-01</td>\n",
       "      <td>Chirstian</td>\n",
       "      <td>Koblick</td>\n",
       "      <td>M</td>\n",
       "      <td>1986-12-01</td>\n",
       "      <td>NaN</td>\n",
       "      <td>None</td>\n",
       "      <td>None</td>\n",
       "      <td>None</td>\n",
       "      <td>not_manager</td>\n",
       "    </tr>\n",
       "    <tr>\n",
       "      <th>4</th>\n",
       "      <td>10005</td>\n",
       "      <td>1955-01-21</td>\n",
       "      <td>Kyoichi</td>\n",
       "      <td>Maliniak</td>\n",
       "      <td>M</td>\n",
       "      <td>1989-09-12</td>\n",
       "      <td>NaN</td>\n",
       "      <td>None</td>\n",
       "      <td>None</td>\n",
       "      <td>None</td>\n",
       "      <td>not_manager</td>\n",
       "    </tr>\n",
       "  </tbody>\n",
       "</table>\n",
       "</div>"
      ],
      "text/plain": [
       "   emp_no  birth_date first_name last_name gender   hire_date  emp_no dept_no  \\\n",
       "0   10001  1953-09-02     Georgi   Facello      M  1986-06-26     NaN    None   \n",
       "1   10002  1964-06-02    Bezalel    Simmel      F  1985-11-21     NaN    None   \n",
       "2   10003  1959-12-03      Parto   Bamford      M  1986-08-28     NaN    None   \n",
       "3   10004  1954-05-01  Chirstian   Koblick      M  1986-12-01     NaN    None   \n",
       "4   10005  1955-01-21    Kyoichi  Maliniak      M  1989-09-12     NaN    None   \n",
       "\n",
       "  from_date to_date     managers  \n",
       "0      None    None  not_manager  \n",
       "1      None    None  not_manager  \n",
       "2      None    None  not_manager  \n",
       "3      None    None  not_manager  \n",
       "4      None    None  not_manager  "
      ]
     },
     "execution_count": 26,
     "metadata": {},
     "output_type": "execute_result"
    }
   ],
   "source": [
    "dfm['managers'] = np.where(dfm['dept_no'].str.startswith('d'), 'manager', 'not_manager')\n",
    "dfm.head()"
   ]
  },
  {
   "cell_type": "code",
   "execution_count": 27,
   "id": "d596acd7-8869-437b-81f9-7b7a43d16bfe",
   "metadata": {},
   "outputs": [
    {
     "data": {
      "text/plain": [
       "not_manager    300000\n",
       "manager            24\n",
       "Name: managers, dtype: int64"
      ]
     },
     "execution_count": 27,
     "metadata": {},
     "output_type": "execute_result"
    }
   ],
   "source": [
    "dfm.managers.value_counts()"
   ]
  },
  {
   "cell_type": "code",
   "execution_count": 28,
   "id": "08649aba-b34e-41aa-bba3-6f53e45dd3b6",
   "metadata": {},
   "outputs": [
    {
     "data": {
      "text/html": [
       "<div>\n",
       "<style scoped>\n",
       "    .dataframe tbody tr th:only-of-type {\n",
       "        vertical-align: middle;\n",
       "    }\n",
       "\n",
       "    .dataframe tbody tr th {\n",
       "        vertical-align: top;\n",
       "    }\n",
       "\n",
       "    .dataframe thead th {\n",
       "        text-align: right;\n",
       "    }\n",
       "</style>\n",
       "<table border=\"1\" class=\"dataframe\">\n",
       "  <thead>\n",
       "    <tr style=\"text-align: right;\">\n",
       "      <th>managers</th>\n",
       "      <th>manager</th>\n",
       "      <th>not_manager</th>\n",
       "    </tr>\n",
       "    <tr>\n",
       "      <th>gender</th>\n",
       "      <th></th>\n",
       "      <th></th>\n",
       "    </tr>\n",
       "  </thead>\n",
       "  <tbody>\n",
       "    <tr>\n",
       "      <th>F</th>\n",
       "      <td>13</td>\n",
       "      <td>120038</td>\n",
       "    </tr>\n",
       "    <tr>\n",
       "      <th>M</th>\n",
       "      <td>11</td>\n",
       "      <td>179962</td>\n",
       "    </tr>\n",
       "  </tbody>\n",
       "</table>\n",
       "</div>"
      ],
      "text/plain": [
       "managers  manager  not_manager\n",
       "gender                        \n",
       "F              13       120038\n",
       "M              11       179962"
      ]
     },
     "execution_count": 28,
     "metadata": {},
     "output_type": "execute_result"
    }
   ],
   "source": [
    "m = pd.crosstab(dfm.gender, dfm.managers)\n",
    "m"
   ]
  },
  {
   "cell_type": "code",
   "execution_count": 29,
   "id": "0f9237d9-9f3f-424f-86bc-5e9d93f04f08",
   "metadata": {},
   "outputs": [],
   "source": [
    "chi, p, degf, exp = stats.chi2_contingency(m)"
   ]
  },
  {
   "cell_type": "code",
   "execution_count": 31,
   "id": "29e40bd0-f2bd-4ee7-b37e-da2ef8ca5469",
   "metadata": {},
   "outputs": [
    {
     "name": "stdout",
     "output_type": "stream",
     "text": [
      "we fail to reject the null hypothesis\n"
     ]
    }
   ],
   "source": [
    "a = 0.05\n",
    "\n",
    "if p < a:\n",
    "    print('we reject the null hypothesis. There appears to be a relationship')\n",
    "else:\n",
    "    print('we fail to reject the null hypothesis')"
   ]
  }
 ],
 "metadata": {
  "kernelspec": {
   "display_name": "Python 3 (ipykernel)",
   "language": "python",
   "name": "python3"
  },
  "language_info": {
   "codemirror_mode": {
    "name": "ipython",
    "version": 3
   },
   "file_extension": ".py",
   "mimetype": "text/x-python",
   "name": "python",
   "nbconvert_exporter": "python",
   "pygments_lexer": "ipython3",
   "version": "3.10.9"
  }
 },
 "nbformat": 4,
 "nbformat_minor": 5
}
