{
 "cells": [
  {
   "cell_type": "markdown",
   "id": "b1db19da-3fa4-4b35-9405-9469f922c3f8",
   "metadata": {},
   "source": [
    "For each of the following questions, formulate a null and alternative hypothesis (be as specific as you can be), then give an example of what a true positive, true negative, type I and type II errors would look like. \n",
    "\n",
    "Note that some of the questions are intentionally phrased in a vague way. \n",
    "\n",
    "It is your job to reword these as more precise questions that could be tested."
   ]
  },
  {
   "cell_type": "markdown",
   "id": "39d8b781-4986-4e88-bc4d-14cc864ce387",
   "metadata": {},
   "source": [
    "1) Has the network latency gone up since we switched internet service providers?"
   ]
  },
  {
   "cell_type": "markdown",
   "id": "26988a25-3f72-401f-9664-ec3187171981",
   "metadata": {},
   "source": [
    "Null hypothesis : There has been no changes to the network latency since we switched internet providers."
   ]
  },
  {
   "cell_type": "markdown",
   "id": "e296b772-b105-4c01-b9d5-943334086195",
   "metadata": {},
   "source": [
    "Alternate hypothesis : The network latency has gone up since we switched internet service providers. "
   ]
  },
  {
   "cell_type": "markdown",
   "id": "7deec345-9740-4acd-a705-ba7c4a155785",
   "metadata": {},
   "source": [
    "True Positive : It is indeed true that the network latency has gone up since switching providers because the analysis detects a significant increase in network latency."
   ]
  },
  {
   "cell_type": "markdown",
   "id": "c685d3b8-b0f2-41a9-a527-d3f098d479ab",
   "metadata": {},
   "source": [
    "True Negative : It is true that the latency has not changed since switching providers because the analysis correctly finds no significant increase in network latency.  "
   ]
  },
  {
   "cell_type": "markdown",
   "id": "60abb31f-77f3-4ab8-a756-bed6e0edcbee",
   "metadata": {},
   "source": [
    "Type I Error : The analysis incorrectly concludes that there is significant increase in network latency, but in reality, the latency has not changed since switching providers."
   ]
  },
  {
   "cell_type": "markdown",
   "id": "c6bc41a0-c7d6-493c-a058-85dd093a6e05",
   "metadata": {},
   "source": [
    "Type II Error : The analysis fails to detect a significant increase in network latency, but in reality, the latenct has gone up since switching providers."
   ]
  },
  {
   "cell_type": "markdown",
   "id": "cb5f84d9-6a9a-42bb-939c-f2a253c11018",
   "metadata": {},
   "source": [
    "2) Is the website redesign any good?"
   ]
  },
  {
   "cell_type": "markdown",
   "id": "ddf366e1-f867-4775-8a1e-9375c590fae7",
   "metadata": {},
   "source": [
    "Null hypothesis : The website redesign has not played a significant role in improving performance or user engagement."
   ]
  },
  {
   "cell_type": "markdown",
   "id": "bf670ab9-89fa-4228-bd80-9ca5751b7ac9",
   "metadata": {},
   "source": [
    "Alternative hypothesis : The website redesign has led to improved performance and user engagement."
   ]
  },
  {
   "cell_type": "markdown",
   "id": "7794f0f7-82d7-4820-a31a-7c16abffab0d",
   "metadata": {},
   "source": [
    "True Positive : The website redesign is indeed effective because the evaluation indicates a significant improvement in performance and user engagement."
   ]
  },
  {
   "cell_type": "markdown",
   "id": "0eac2dd0-aafd-4d54-a311-17f38199bec9",
   "metadata": {},
   "source": [
    "True Negative : The website redesign has not been effective because the evaluation correctly concludes that there is no significant improvement in performance and user engagement."
   ]
  },
  {
   "cell_type": "markdown",
   "id": "ed116c18-fb46-4e50-9cfd-fefeefac997b",
   "metadata": {},
   "source": [
    "Type I : The evaluation is incorrect because it suggests a significant improvement in performance and user engagement even though there is no actual improvement."
   ]
  },
  {
   "cell_type": "markdown",
   "id": "174ae0a6-8a3c-44bc-b37d-f88c42124a76",
   "metadata": {},
   "source": [
    "Type II : The evaluation fails to detect a significant improvement in performance or user engagement, but the website redesign is actually effective"
   ]
  },
  {
   "cell_type": "markdown",
   "id": "2830e66b-10c8-4616-af07-1cb56d93c668",
   "metadata": {},
   "source": [
    "3) Is our television ad driving more sales?"
   ]
  },
  {
   "cell_type": "markdown",
   "id": "10213ce2-5cf4-4d87-b89b-d8ba889d39c4",
   "metadata": {},
   "source": [
    "Null hypothesis : Our television ad has not played a crucial in driving up overall sales."
   ]
  },
  {
   "cell_type": "markdown",
   "id": "3a915003-ed13-401d-9c9e-d2ff8953f499",
   "metadata": {},
   "source": [
    "Alternative hypothesis : Our television ad has led to a significant rise in overall sales."
   ]
  },
  {
   "cell_type": "markdown",
   "id": "171970ff-22ed-4418-994a-44da4b212fe8",
   "metadata": {},
   "source": [
    "True Positive : Based on our analysis, it is evident that our television ad has played a crucial role in driving up overall sales."
   ]
  },
  {
   "cell_type": "markdown",
   "id": "b39827da-cf9a-4d40-9fb6-30252cf36126",
   "metadata": {},
   "source": [
    "True Negative : It is evident that our television ad has not not led to a signiificant rise in overall sales, based on our analysis."
   ]
  },
  {
   "cell_type": "markdown",
   "id": "91cdaeeb-6554-4063-bd5a-a14b06f4f1fc",
   "metadata": {},
   "source": [
    "Type I : The analysis does not support the proposition that our television ad has resulted in a significant increase in overall sales, given that there has been no observed improvement in the overall sales figures."
   ]
  },
  {
   "cell_type": "markdown",
   "id": "438e9013-5d8e-40af-bd3e-d70627f6a53d",
   "metadata": {},
   "source": [
    "Type II : The analysis fails to detect a significant increase in sales, despite the television ad being actually effective in drving up sales."
   ]
  }
 ],
 "metadata": {
  "kernelspec": {
   "display_name": "Python 3 (ipykernel)",
   "language": "python",
   "name": "python3"
  },
  "language_info": {
   "codemirror_mode": {
    "name": "ipython",
    "version": 3
   },
   "file_extension": ".py",
   "mimetype": "text/x-python",
   "name": "python",
   "nbconvert_exporter": "python",
   "pygments_lexer": "ipython3",
   "version": "3.10.9"
  }
 },
 "nbformat": 4,
 "nbformat_minor": 5
}
