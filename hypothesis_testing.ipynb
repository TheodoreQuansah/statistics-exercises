{
 "cells": [
  {
   "cell_type": "code",
   "execution_count": 8,
   "id": "7b150b8f-ca74-4d5e-be70-db0b83acbec4",
   "metadata": {},
   "outputs": [],
   "source": [
    "import numpy as np\n",
    "import pandas as pd\n",
    "import matplotlib.pyplot as plt\n",
    "import seaborn as sns\n",
    "from pydataset import data\n",
    "from scipy import stats\n",
    "from env import get_connection\n",
    "from sqlalchemy import text, create_engine"
   ]
  },
  {
   "cell_type": "markdown",
   "id": "b1db19da-3fa4-4b35-9405-9469f922c3f8",
   "metadata": {},
   "source": [
    "For each of the following questions, formulate a null and alternative hypothesis (be as specific as you can be), then give an example of what a true positive, true negative, type I and type II errors would look like. \n",
    "\n",
    "Note that some of the questions are intentionally phrased in a vague way. \n",
    "\n",
    "It is your job to reword these as more precise questions that could be tested."
   ]
  },
  {
   "cell_type": "markdown",
   "id": "39d8b781-4986-4e88-bc4d-14cc864ce387",
   "metadata": {},
   "source": [
    "1) Has the network latency gone up since we switched internet service providers?"
   ]
  },
  {
   "cell_type": "markdown",
   "id": "26988a25-3f72-401f-9664-ec3187171981",
   "metadata": {},
   "source": [
    "Null hypothesis : There has been no changes to the network latency since we switched internet providers."
   ]
  },
  {
   "cell_type": "markdown",
   "id": "e296b772-b105-4c01-b9d5-943334086195",
   "metadata": {},
   "source": [
    "Alternate hypothesis : The network latency has gone up since we switched internet service providers. "
   ]
  },
  {
   "cell_type": "markdown",
   "id": "7deec345-9740-4acd-a705-ba7c4a155785",
   "metadata": {},
   "source": [
    "True Positive : It is indeed true that the network latency has gone up since switching providers because the analysis detects a significant increase in network latency."
   ]
  },
  {
   "cell_type": "markdown",
   "id": "c685d3b8-b0f2-41a9-a527-d3f098d479ab",
   "metadata": {},
   "source": [
    "True Negative : It is true that the latency has not changed since switching providers because the analysis correctly finds no significant increase in network latency.  "
   ]
  },
  {
   "cell_type": "markdown",
   "id": "60abb31f-77f3-4ab8-a756-bed6e0edcbee",
   "metadata": {},
   "source": [
    "Type I Error : The analysis incorrectly concludes that there is significant increase in network latency, but in reality, the latency has not changed since switching providers."
   ]
  },
  {
   "cell_type": "markdown",
   "id": "c6bc41a0-c7d6-493c-a058-85dd093a6e05",
   "metadata": {},
   "source": [
    "Type II Error : The analysis fails to detect a significant increase in network latency, but in reality, the latenct has gone up since switching providers."
   ]
  },
  {
   "cell_type": "markdown",
   "id": "cb5f84d9-6a9a-42bb-939c-f2a253c11018",
   "metadata": {},
   "source": [
    "2) Is the website redesign any good?"
   ]
  },
  {
   "cell_type": "markdown",
   "id": "ddf366e1-f867-4775-8a1e-9375c590fae7",
   "metadata": {},
   "source": [
    "Null hypothesis : The website redesign has not played a significant role in improving performance or user engagement."
   ]
  },
  {
   "cell_type": "markdown",
   "id": "bf670ab9-89fa-4228-bd80-9ca5751b7ac9",
   "metadata": {},
   "source": [
    "Alternative hypothesis : The website redesign has led to improved performance and user engagement."
   ]
  },
  {
   "cell_type": "markdown",
   "id": "7794f0f7-82d7-4820-a31a-7c16abffab0d",
   "metadata": {},
   "source": [
    "True Positive : The website redesign is indeed effective because the evaluation indicates a significant improvement in performance and user engagement."
   ]
  },
  {
   "cell_type": "markdown",
   "id": "0eac2dd0-aafd-4d54-a311-17f38199bec9",
   "metadata": {},
   "source": [
    "True Negative : The website redesign has not been effective because the evaluation correctly concludes that there is no significant improvement in performance and user engagement."
   ]
  },
  {
   "cell_type": "markdown",
   "id": "ed116c18-fb46-4e50-9cfd-fefeefac997b",
   "metadata": {},
   "source": [
    "Type I : The evaluation is incorrect because it suggests a significant improvement in performance and user engagement even though there is no actual improvement."
   ]
  },
  {
   "cell_type": "markdown",
   "id": "174ae0a6-8a3c-44bc-b37d-f88c42124a76",
   "metadata": {},
   "source": [
    "Type II : The evaluation fails to detect a significant improvement in performance or user engagement, but the website redesign is actually effective"
   ]
  },
  {
   "cell_type": "markdown",
   "id": "2830e66b-10c8-4616-af07-1cb56d93c668",
   "metadata": {},
   "source": [
    "3) Is our television ad driving more sales?"
   ]
  },
  {
   "cell_type": "markdown",
   "id": "10213ce2-5cf4-4d87-b89b-d8ba889d39c4",
   "metadata": {},
   "source": [
    "Null hypothesis : Our television ad has not played a crucial in driving up overall sales."
   ]
  },
  {
   "cell_type": "markdown",
   "id": "3a915003-ed13-401d-9c9e-d2ff8953f499",
   "metadata": {},
   "source": [
    "Alternative hypothesis : Our television ad has led to a significant rise in overall sales."
   ]
  },
  {
   "cell_type": "markdown",
   "id": "171970ff-22ed-4418-994a-44da4b212fe8",
   "metadata": {},
   "source": [
    "True Positive : Based on our analysis, it is evident that our television ad has played a crucial role in driving up overall sales."
   ]
  },
  {
   "cell_type": "markdown",
   "id": "b39827da-cf9a-4d40-9fb6-30252cf36126",
   "metadata": {},
   "source": [
    "True Negative : It is evident that our television ad has not not led to a signiificant rise in overall sales, based on our analysis."
   ]
  },
  {
   "cell_type": "markdown",
   "id": "91cdaeeb-6554-4063-bd5a-a14b06f4f1fc",
   "metadata": {},
   "source": [
    "Type I : The analysis does not support the proposition that our television ad has resulted in a significant increase in overall sales, given that there has been no observed improvement in the overall sales figures."
   ]
  },
  {
   "cell_type": "markdown",
   "id": "438e9013-5d8e-40af-bd3e-d70627f6a53d",
   "metadata": {},
   "source": [
    "Type II : The analysis fails to detect a significant increase in sales, despite the television ad being actually effective in drving up sales."
   ]
  },
  {
   "cell_type": "markdown",
   "id": "69ceece3-3609-4616-9030-88443ffc340a",
   "metadata": {},
   "source": [
    "# Comparison of Groups"
   ]
  },
  {
   "cell_type": "markdown",
   "id": "acebf6a4-5268-45c9-a19b-0c532510aa3d",
   "metadata": {},
   "source": [
    "1) Use the following contingency table to help answer the question of whether using a macbook and being a codeup student are independent of each other."
   ]
  },
  {
   "cell_type": "markdown",
   "id": "810fcd34-afff-487d-b1a2-38e7b532d3f3",
   "metadata": {},
   "source": [
    " \tCodeup Student\tNot Codeup Student\n",
    "Uses a Macbook\t        49\t  20\n",
    "\n",
    "Doesn't Use A Macbook\t1\t  30"
   ]
  },
  {
   "cell_type": "code",
   "execution_count": 3,
   "id": "4de7a700-23ba-4650-8146-844a76552c28",
   "metadata": {},
   "outputs": [],
   "source": [
    "data = {\n",
    "    'Codeup Student': [49, 1],\n",
    "    'Not code up student': [20, 30],\n",
    "}\n",
    "\n",
    "index = ['Uses a Macbook', 'Does not Use A Macbook']"
   ]
  },
  {
   "cell_type": "code",
   "execution_count": 4,
   "id": "1e939ddb-7928-468f-b079-45c2689b7545",
   "metadata": {},
   "outputs": [
    {
     "data": {
      "text/html": [
       "<div>\n",
       "<style scoped>\n",
       "    .dataframe tbody tr th:only-of-type {\n",
       "        vertical-align: middle;\n",
       "    }\n",
       "\n",
       "    .dataframe tbody tr th {\n",
       "        vertical-align: top;\n",
       "    }\n",
       "\n",
       "    .dataframe thead th {\n",
       "        text-align: right;\n",
       "    }\n",
       "</style>\n",
       "<table border=\"1\" class=\"dataframe\">\n",
       "  <thead>\n",
       "    <tr style=\"text-align: right;\">\n",
       "      <th></th>\n",
       "      <th>Codeup Student</th>\n",
       "      <th>Not code up student</th>\n",
       "    </tr>\n",
       "  </thead>\n",
       "  <tbody>\n",
       "    <tr>\n",
       "      <th>Uses a Macbook</th>\n",
       "      <td>49</td>\n",
       "      <td>20</td>\n",
       "    </tr>\n",
       "    <tr>\n",
       "      <th>Does not Use A Macbook</th>\n",
       "      <td>1</td>\n",
       "      <td>30</td>\n",
       "    </tr>\n",
       "  </tbody>\n",
       "</table>\n",
       "</div>"
      ],
      "text/plain": [
       "                        Codeup Student  Not code up student\n",
       "Uses a Macbook                      49                   20\n",
       "Does not Use A Macbook               1                   30"
      ]
     },
     "execution_count": 4,
     "metadata": {},
     "output_type": "execute_result"
    }
   ],
   "source": [
    "cs = pd.DataFrame(data, index=index)\n",
    "cs"
   ]
  },
  {
   "cell_type": "code",
   "execution_count": 5,
   "id": "0d556db1-0b9d-4098-9d86-99d7920fbeaf",
   "metadata": {},
   "outputs": [],
   "source": [
    "chi, p, degf, exp = stats.chi2_contingency(cs)"
   ]
  },
  {
   "cell_type": "code",
   "execution_count": 6,
   "id": "3f3ac2e3-7ef2-4327-bbb2-eaf43a07ec2b",
   "metadata": {},
   "outputs": [
    {
     "name": "stdout",
     "output_type": "stream",
     "text": [
      "we reject the null hypothesis. There appears to be a relationship\n"
     ]
    }
   ],
   "source": [
    "a = 0.05\n",
    "\n",
    "if p < a:\n",
    "    print('we reject the null hypothesis. There appears to be a relationship')\n",
    "else:\n",
    "    print('we fail to reject the null hypothesis')"
   ]
  },
  {
   "cell_type": "markdown",
   "id": "ca3b6a4e-075f-4d8b-a90f-2af3870cf451",
   "metadata": {},
   "source": [
    "2) Choose another 2 categorical variables from the mpg dataset.\n",
    "\n",
    "State your null and alternative hypotheses.\n",
    "\n",
    "State your alpha.\n",
    "\n",
    "Perform a chi2 test of independence.\n",
    "\n",
    "State your conclusion"
   ]
  },
  {
   "cell_type": "code",
   "execution_count": 9,
   "id": "c7a7947c-5588-4b93-96ef-6593dac29539",
   "metadata": {},
   "outputs": [
    {
     "data": {
      "text/html": [
       "<div>\n",
       "<style scoped>\n",
       "    .dataframe tbody tr th:only-of-type {\n",
       "        vertical-align: middle;\n",
       "    }\n",
       "\n",
       "    .dataframe tbody tr th {\n",
       "        vertical-align: top;\n",
       "    }\n",
       "\n",
       "    .dataframe thead th {\n",
       "        text-align: right;\n",
       "    }\n",
       "</style>\n",
       "<table border=\"1\" class=\"dataframe\">\n",
       "  <thead>\n",
       "    <tr style=\"text-align: right;\">\n",
       "      <th></th>\n",
       "      <th>manufacturer</th>\n",
       "      <th>model</th>\n",
       "      <th>displ</th>\n",
       "      <th>year</th>\n",
       "      <th>cyl</th>\n",
       "      <th>trans</th>\n",
       "      <th>drv</th>\n",
       "      <th>cty</th>\n",
       "      <th>hwy</th>\n",
       "      <th>fl</th>\n",
       "      <th>class</th>\n",
       "    </tr>\n",
       "  </thead>\n",
       "  <tbody>\n",
       "    <tr>\n",
       "      <th>1</th>\n",
       "      <td>audi</td>\n",
       "      <td>a4</td>\n",
       "      <td>1.8</td>\n",
       "      <td>1999</td>\n",
       "      <td>4</td>\n",
       "      <td>auto(l5)</td>\n",
       "      <td>f</td>\n",
       "      <td>18</td>\n",
       "      <td>29</td>\n",
       "      <td>p</td>\n",
       "      <td>compact</td>\n",
       "    </tr>\n",
       "    <tr>\n",
       "      <th>2</th>\n",
       "      <td>audi</td>\n",
       "      <td>a4</td>\n",
       "      <td>1.8</td>\n",
       "      <td>1999</td>\n",
       "      <td>4</td>\n",
       "      <td>manual(m5)</td>\n",
       "      <td>f</td>\n",
       "      <td>21</td>\n",
       "      <td>29</td>\n",
       "      <td>p</td>\n",
       "      <td>compact</td>\n",
       "    </tr>\n",
       "    <tr>\n",
       "      <th>3</th>\n",
       "      <td>audi</td>\n",
       "      <td>a4</td>\n",
       "      <td>2.0</td>\n",
       "      <td>2008</td>\n",
       "      <td>4</td>\n",
       "      <td>manual(m6)</td>\n",
       "      <td>f</td>\n",
       "      <td>20</td>\n",
       "      <td>31</td>\n",
       "      <td>p</td>\n",
       "      <td>compact</td>\n",
       "    </tr>\n",
       "    <tr>\n",
       "      <th>4</th>\n",
       "      <td>audi</td>\n",
       "      <td>a4</td>\n",
       "      <td>2.0</td>\n",
       "      <td>2008</td>\n",
       "      <td>4</td>\n",
       "      <td>auto(av)</td>\n",
       "      <td>f</td>\n",
       "      <td>21</td>\n",
       "      <td>30</td>\n",
       "      <td>p</td>\n",
       "      <td>compact</td>\n",
       "    </tr>\n",
       "    <tr>\n",
       "      <th>5</th>\n",
       "      <td>audi</td>\n",
       "      <td>a4</td>\n",
       "      <td>2.8</td>\n",
       "      <td>1999</td>\n",
       "      <td>6</td>\n",
       "      <td>auto(l5)</td>\n",
       "      <td>f</td>\n",
       "      <td>16</td>\n",
       "      <td>26</td>\n",
       "      <td>p</td>\n",
       "      <td>compact</td>\n",
       "    </tr>\n",
       "  </tbody>\n",
       "</table>\n",
       "</div>"
      ],
      "text/plain": [
       "  manufacturer model  displ  year  cyl       trans drv  cty  hwy fl    class\n",
       "1         audi    a4    1.8  1999    4    auto(l5)   f   18   29  p  compact\n",
       "2         audi    a4    1.8  1999    4  manual(m5)   f   21   29  p  compact\n",
       "3         audi    a4    2.0  2008    4  manual(m6)   f   20   31  p  compact\n",
       "4         audi    a4    2.0  2008    4    auto(av)   f   21   30  p  compact\n",
       "5         audi    a4    2.8  1999    6    auto(l5)   f   16   26  p  compact"
      ]
     },
     "execution_count": 9,
     "metadata": {},
     "output_type": "execute_result"
    }
   ],
   "source": [
    "mpg = data('mpg')\n",
    "mpg.head()"
   ]
  },
  {
   "cell_type": "code",
   "execution_count": 10,
   "id": "69836590-1b8d-4880-9a93-985352b7387d",
   "metadata": {},
   "outputs": [
    {
     "data": {
      "text/html": [
       "<div>\n",
       "<style scoped>\n",
       "    .dataframe tbody tr th:only-of-type {\n",
       "        vertical-align: middle;\n",
       "    }\n",
       "\n",
       "    .dataframe tbody tr th {\n",
       "        vertical-align: top;\n",
       "    }\n",
       "\n",
       "    .dataframe thead th {\n",
       "        text-align: right;\n",
       "    }\n",
       "</style>\n",
       "<table border=\"1\" class=\"dataframe\">\n",
       "  <thead>\n",
       "    <tr style=\"text-align: right;\">\n",
       "      <th></th>\n",
       "      <th>manufacturer</th>\n",
       "      <th>model</th>\n",
       "      <th>displ</th>\n",
       "      <th>year</th>\n",
       "      <th>cyl</th>\n",
       "      <th>trans</th>\n",
       "      <th>drv</th>\n",
       "      <th>cty</th>\n",
       "      <th>hwy</th>\n",
       "      <th>fl</th>\n",
       "      <th>class</th>\n",
       "      <th>suv_vs_nonsuv</th>\n",
       "    </tr>\n",
       "  </thead>\n",
       "  <tbody>\n",
       "    <tr>\n",
       "      <th>1</th>\n",
       "      <td>audi</td>\n",
       "      <td>a4</td>\n",
       "      <td>1.8</td>\n",
       "      <td>1999</td>\n",
       "      <td>4</td>\n",
       "      <td>auto(l5)</td>\n",
       "      <td>f</td>\n",
       "      <td>18</td>\n",
       "      <td>29</td>\n",
       "      <td>p</td>\n",
       "      <td>compact</td>\n",
       "      <td>not_suv</td>\n",
       "    </tr>\n",
       "    <tr>\n",
       "      <th>2</th>\n",
       "      <td>audi</td>\n",
       "      <td>a4</td>\n",
       "      <td>1.8</td>\n",
       "      <td>1999</td>\n",
       "      <td>4</td>\n",
       "      <td>manual(m5)</td>\n",
       "      <td>f</td>\n",
       "      <td>21</td>\n",
       "      <td>29</td>\n",
       "      <td>p</td>\n",
       "      <td>compact</td>\n",
       "      <td>not_suv</td>\n",
       "    </tr>\n",
       "    <tr>\n",
       "      <th>3</th>\n",
       "      <td>audi</td>\n",
       "      <td>a4</td>\n",
       "      <td>2.0</td>\n",
       "      <td>2008</td>\n",
       "      <td>4</td>\n",
       "      <td>manual(m6)</td>\n",
       "      <td>f</td>\n",
       "      <td>20</td>\n",
       "      <td>31</td>\n",
       "      <td>p</td>\n",
       "      <td>compact</td>\n",
       "      <td>not_suv</td>\n",
       "    </tr>\n",
       "    <tr>\n",
       "      <th>4</th>\n",
       "      <td>audi</td>\n",
       "      <td>a4</td>\n",
       "      <td>2.0</td>\n",
       "      <td>2008</td>\n",
       "      <td>4</td>\n",
       "      <td>auto(av)</td>\n",
       "      <td>f</td>\n",
       "      <td>21</td>\n",
       "      <td>30</td>\n",
       "      <td>p</td>\n",
       "      <td>compact</td>\n",
       "      <td>not_suv</td>\n",
       "    </tr>\n",
       "    <tr>\n",
       "      <th>5</th>\n",
       "      <td>audi</td>\n",
       "      <td>a4</td>\n",
       "      <td>2.8</td>\n",
       "      <td>1999</td>\n",
       "      <td>6</td>\n",
       "      <td>auto(l5)</td>\n",
       "      <td>f</td>\n",
       "      <td>16</td>\n",
       "      <td>26</td>\n",
       "      <td>p</td>\n",
       "      <td>compact</td>\n",
       "      <td>not_suv</td>\n",
       "    </tr>\n",
       "  </tbody>\n",
       "</table>\n",
       "</div>"
      ],
      "text/plain": [
       "  manufacturer model  displ  year  cyl       trans drv  cty  hwy fl    class  \\\n",
       "1         audi    a4    1.8  1999    4    auto(l5)   f   18   29  p  compact   \n",
       "2         audi    a4    1.8  1999    4  manual(m5)   f   21   29  p  compact   \n",
       "3         audi    a4    2.0  2008    4  manual(m6)   f   20   31  p  compact   \n",
       "4         audi    a4    2.0  2008    4    auto(av)   f   21   30  p  compact   \n",
       "5         audi    a4    2.8  1999    6    auto(l5)   f   16   26  p  compact   \n",
       "\n",
       "  suv_vs_nonsuv  \n",
       "1       not_suv  \n",
       "2       not_suv  \n",
       "3       not_suv  \n",
       "4       not_suv  \n",
       "5       not_suv  "
      ]
     },
     "execution_count": 10,
     "metadata": {},
     "output_type": "execute_result"
    }
   ],
   "source": [
    "mpg['suv_vs_nonsuv'] = np.where(mpg['class'].str.startswith('s'), 'suv', 'not_suv')\n",
    "mpg.head()"
   ]
  },
  {
   "cell_type": "code",
   "execution_count": 11,
   "id": "3468127b-ba06-47f2-9442-9dc79417c288",
   "metadata": {},
   "outputs": [
    {
     "data": {
      "text/html": [
       "<div>\n",
       "<style scoped>\n",
       "    .dataframe tbody tr th:only-of-type {\n",
       "        vertical-align: middle;\n",
       "    }\n",
       "\n",
       "    .dataframe tbody tr th {\n",
       "        vertical-align: top;\n",
       "    }\n",
       "\n",
       "    .dataframe thead th {\n",
       "        text-align: right;\n",
       "    }\n",
       "</style>\n",
       "<table border=\"1\" class=\"dataframe\">\n",
       "  <thead>\n",
       "    <tr style=\"text-align: right;\">\n",
       "      <th></th>\n",
       "      <th>manufacturer</th>\n",
       "      <th>model</th>\n",
       "      <th>displ</th>\n",
       "      <th>year</th>\n",
       "      <th>cyl</th>\n",
       "      <th>trans</th>\n",
       "      <th>drv</th>\n",
       "      <th>cty</th>\n",
       "      <th>hwy</th>\n",
       "      <th>fl</th>\n",
       "      <th>class</th>\n",
       "      <th>suv_vs_nonsuv</th>\n",
       "      <th>4wd_vs_f_or_rwd</th>\n",
       "    </tr>\n",
       "  </thead>\n",
       "  <tbody>\n",
       "    <tr>\n",
       "      <th>1</th>\n",
       "      <td>audi</td>\n",
       "      <td>a4</td>\n",
       "      <td>1.8</td>\n",
       "      <td>1999</td>\n",
       "      <td>4</td>\n",
       "      <td>auto(l5)</td>\n",
       "      <td>f</td>\n",
       "      <td>18</td>\n",
       "      <td>29</td>\n",
       "      <td>p</td>\n",
       "      <td>compact</td>\n",
       "      <td>not_suv</td>\n",
       "      <td>f_or_rwd</td>\n",
       "    </tr>\n",
       "    <tr>\n",
       "      <th>2</th>\n",
       "      <td>audi</td>\n",
       "      <td>a4</td>\n",
       "      <td>1.8</td>\n",
       "      <td>1999</td>\n",
       "      <td>4</td>\n",
       "      <td>manual(m5)</td>\n",
       "      <td>f</td>\n",
       "      <td>21</td>\n",
       "      <td>29</td>\n",
       "      <td>p</td>\n",
       "      <td>compact</td>\n",
       "      <td>not_suv</td>\n",
       "      <td>f_or_rwd</td>\n",
       "    </tr>\n",
       "    <tr>\n",
       "      <th>3</th>\n",
       "      <td>audi</td>\n",
       "      <td>a4</td>\n",
       "      <td>2.0</td>\n",
       "      <td>2008</td>\n",
       "      <td>4</td>\n",
       "      <td>manual(m6)</td>\n",
       "      <td>f</td>\n",
       "      <td>20</td>\n",
       "      <td>31</td>\n",
       "      <td>p</td>\n",
       "      <td>compact</td>\n",
       "      <td>not_suv</td>\n",
       "      <td>f_or_rwd</td>\n",
       "    </tr>\n",
       "    <tr>\n",
       "      <th>4</th>\n",
       "      <td>audi</td>\n",
       "      <td>a4</td>\n",
       "      <td>2.0</td>\n",
       "      <td>2008</td>\n",
       "      <td>4</td>\n",
       "      <td>auto(av)</td>\n",
       "      <td>f</td>\n",
       "      <td>21</td>\n",
       "      <td>30</td>\n",
       "      <td>p</td>\n",
       "      <td>compact</td>\n",
       "      <td>not_suv</td>\n",
       "      <td>f_or_rwd</td>\n",
       "    </tr>\n",
       "    <tr>\n",
       "      <th>5</th>\n",
       "      <td>audi</td>\n",
       "      <td>a4</td>\n",
       "      <td>2.8</td>\n",
       "      <td>1999</td>\n",
       "      <td>6</td>\n",
       "      <td>auto(l5)</td>\n",
       "      <td>f</td>\n",
       "      <td>16</td>\n",
       "      <td>26</td>\n",
       "      <td>p</td>\n",
       "      <td>compact</td>\n",
       "      <td>not_suv</td>\n",
       "      <td>f_or_rwd</td>\n",
       "    </tr>\n",
       "  </tbody>\n",
       "</table>\n",
       "</div>"
      ],
      "text/plain": [
       "  manufacturer model  displ  year  cyl       trans drv  cty  hwy fl    class  \\\n",
       "1         audi    a4    1.8  1999    4    auto(l5)   f   18   29  p  compact   \n",
       "2         audi    a4    1.8  1999    4  manual(m5)   f   21   29  p  compact   \n",
       "3         audi    a4    2.0  2008    4  manual(m6)   f   20   31  p  compact   \n",
       "4         audi    a4    2.0  2008    4    auto(av)   f   21   30  p  compact   \n",
       "5         audi    a4    2.8  1999    6    auto(l5)   f   16   26  p  compact   \n",
       "\n",
       "  suv_vs_nonsuv 4wd_vs_f_or_rwd  \n",
       "1       not_suv        f_or_rwd  \n",
       "2       not_suv        f_or_rwd  \n",
       "3       not_suv        f_or_rwd  \n",
       "4       not_suv        f_or_rwd  \n",
       "5       not_suv        f_or_rwd  "
      ]
     },
     "execution_count": 11,
     "metadata": {},
     "output_type": "execute_result"
    }
   ],
   "source": [
    "mpg['4wd_vs_f_or_rwd'] = np.where(mpg['drv'].str.startswith('4'), '4wd', 'f_or_rwd')\n",
    "mpg.head()"
   ]
  },
  {
   "cell_type": "markdown",
   "id": "f287beef-307c-413e-877c-dcf1a6f11924",
   "metadata": {},
   "source": [
    "Null hypothesis : There is no association between suvs and 4wd\n",
    "\n",
    "Alternative : There is an association between suvs and 4wd"
   ]
  },
  {
   "cell_type": "code",
   "execution_count": 12,
   "id": "6814d4b2-4feb-4fb3-988c-4dac25f6b1fa",
   "metadata": {},
   "outputs": [
    {
     "data": {
      "text/html": [
       "<div>\n",
       "<style scoped>\n",
       "    .dataframe tbody tr th:only-of-type {\n",
       "        vertical-align: middle;\n",
       "    }\n",
       "\n",
       "    .dataframe tbody tr th {\n",
       "        vertical-align: top;\n",
       "    }\n",
       "\n",
       "    .dataframe thead th {\n",
       "        text-align: right;\n",
       "    }\n",
       "</style>\n",
       "<table border=\"1\" class=\"dataframe\">\n",
       "  <thead>\n",
       "    <tr style=\"text-align: right;\">\n",
       "      <th>4wd_vs_f_or_rwd</th>\n",
       "      <th>4wd</th>\n",
       "      <th>f_or_rwd</th>\n",
       "    </tr>\n",
       "    <tr>\n",
       "      <th>suv_vs_nonsuv</th>\n",
       "      <th></th>\n",
       "      <th></th>\n",
       "    </tr>\n",
       "  </thead>\n",
       "  <tbody>\n",
       "    <tr>\n",
       "      <th>not_suv</th>\n",
       "      <td>48</td>\n",
       "      <td>89</td>\n",
       "    </tr>\n",
       "    <tr>\n",
       "      <th>suv</th>\n",
       "      <td>55</td>\n",
       "      <td>42</td>\n",
       "    </tr>\n",
       "  </tbody>\n",
       "</table>\n",
       "</div>"
      ],
      "text/plain": [
       "4wd_vs_f_or_rwd  4wd  f_or_rwd\n",
       "suv_vs_nonsuv                 \n",
       "not_suv           48        89\n",
       "suv               55        42"
      ]
     },
     "execution_count": 12,
     "metadata": {},
     "output_type": "execute_result"
    }
   ],
   "source": [
    "c_drv = pd.crosstab(mpg.suv_vs_nonsuv, mpg['4wd_vs_f_or_rwd'])\n",
    "c_drv"
   ]
  },
  {
   "cell_type": "code",
   "execution_count": 13,
   "id": "561136cd-ab87-4888-a3aa-fcd4215b92fd",
   "metadata": {},
   "outputs": [],
   "source": [
    "chi, p, degf, exp = stats.chi2_contingency(c_drv)"
   ]
  },
  {
   "cell_type": "code",
   "execution_count": 14,
   "id": "4813c5e6-b1da-49f6-ab2f-3068b10d7c9f",
   "metadata": {},
   "outputs": [
    {
     "name": "stdout",
     "output_type": "stream",
     "text": [
      "we reject the null hypothesis. There appears to be a relationship\n"
     ]
    }
   ],
   "source": [
    "a = 0.05\n",
    "\n",
    "if p < a:\n",
    "    print('we reject the null hypothesis. There appears to be a relationship')\n",
    "else:\n",
    "    print('we fail to reject the null hypothesis')"
   ]
  },
  {
   "cell_type": "markdown",
   "id": "06fff830-ad68-456f-8668-17bf8d1fa280",
   "metadata": {},
   "source": [
    "3) Use the data from the employees database to answer these questions:\n",
    "\n",
    "Is an employee's gender independent of whether an employee works in sales or marketing? (only look at current employees)\n",
    "\n",
    "Is an employee's gender independent of whether or not they are or have been a manager?"
   ]
  },
  {
   "cell_type": "code",
   "execution_count": 15,
   "id": "cb252a37-0ae4-41f1-a581-ca107482864a",
   "metadata": {},
   "outputs": [],
   "source": [
    "def get_db_url(database):\n",
    "    return get_connection(database)"
   ]
  },
  {
   "cell_type": "code",
   "execution_count": 16,
   "id": "cbf6b461-3daf-4853-8cb7-eb3d3ed4260d",
   "metadata": {},
   "outputs": [],
   "source": [
    "url = get_db_url('employees')"
   ]
  },
  {
   "cell_type": "code",
   "execution_count": 17,
   "id": "0e0dabaa-9875-4808-a423-3f27d8c951f4",
   "metadata": {},
   "outputs": [],
   "source": [
    "engine =  create_engine(url)"
   ]
  },
  {
   "cell_type": "code",
   "execution_count": 18,
   "id": "ecfcc1c1-d8ba-44ea-8189-0a604a2ef735",
   "metadata": {},
   "outputs": [],
   "source": [
    "query = '''\n",
    "        SELECT *\n",
    "        FROM employees\n",
    "        LEFT JOIN dept_emp ON dept_emp.emp_no = employees.emp_no\n",
    "        LEFT JOIN departments ON departments.dept_no = dept_emp.dept_no\n",
    "        WHERE to_date > CURDATE() AND (dept_name = 'sales' OR dept_name = 'marketing')\n",
    "        '''"
   ]
  },
  {
   "cell_type": "code",
   "execution_count": 19,
   "id": "1df7a85f-ab1c-4738-bc6b-8a41bb5b717f",
   "metadata": {},
   "outputs": [],
   "source": [
    "text_query = text(query)"
   ]
  },
  {
   "cell_type": "code",
   "execution_count": 20,
   "id": "2ada1064-e165-45db-ab59-db55c700576a",
   "metadata": {},
   "outputs": [
    {
     "data": {
      "text/html": [
       "<div>\n",
       "<style scoped>\n",
       "    .dataframe tbody tr th:only-of-type {\n",
       "        vertical-align: middle;\n",
       "    }\n",
       "\n",
       "    .dataframe tbody tr th {\n",
       "        vertical-align: top;\n",
       "    }\n",
       "\n",
       "    .dataframe thead th {\n",
       "        text-align: right;\n",
       "    }\n",
       "</style>\n",
       "<table border=\"1\" class=\"dataframe\">\n",
       "  <thead>\n",
       "    <tr style=\"text-align: right;\">\n",
       "      <th></th>\n",
       "      <th>emp_no</th>\n",
       "      <th>birth_date</th>\n",
       "      <th>first_name</th>\n",
       "      <th>last_name</th>\n",
       "      <th>gender</th>\n",
       "      <th>hire_date</th>\n",
       "      <th>emp_no</th>\n",
       "      <th>dept_no</th>\n",
       "      <th>from_date</th>\n",
       "      <th>to_date</th>\n",
       "      <th>dept_no</th>\n",
       "      <th>dept_name</th>\n",
       "    </tr>\n",
       "  </thead>\n",
       "  <tbody>\n",
       "    <tr>\n",
       "      <th>0</th>\n",
       "      <td>10017</td>\n",
       "      <td>1958-07-06</td>\n",
       "      <td>Cristinel</td>\n",
       "      <td>Bouloucos</td>\n",
       "      <td>F</td>\n",
       "      <td>1993-08-03</td>\n",
       "      <td>10017</td>\n",
       "      <td>d001</td>\n",
       "      <td>1993-08-03</td>\n",
       "      <td>9999-01-01</td>\n",
       "      <td>d001</td>\n",
       "      <td>Marketing</td>\n",
       "    </tr>\n",
       "    <tr>\n",
       "      <th>1</th>\n",
       "      <td>10058</td>\n",
       "      <td>1954-10-01</td>\n",
       "      <td>Berhard</td>\n",
       "      <td>McFarlin</td>\n",
       "      <td>M</td>\n",
       "      <td>1987-04-13</td>\n",
       "      <td>10058</td>\n",
       "      <td>d001</td>\n",
       "      <td>1988-04-25</td>\n",
       "      <td>9999-01-01</td>\n",
       "      <td>d001</td>\n",
       "      <td>Marketing</td>\n",
       "    </tr>\n",
       "    <tr>\n",
       "      <th>2</th>\n",
       "      <td>10140</td>\n",
       "      <td>1957-03-11</td>\n",
       "      <td>Yucel</td>\n",
       "      <td>Auria</td>\n",
       "      <td>F</td>\n",
       "      <td>1991-03-14</td>\n",
       "      <td>10140</td>\n",
       "      <td>d001</td>\n",
       "      <td>1991-03-14</td>\n",
       "      <td>9999-01-01</td>\n",
       "      <td>d001</td>\n",
       "      <td>Marketing</td>\n",
       "    </tr>\n",
       "    <tr>\n",
       "      <th>3</th>\n",
       "      <td>10228</td>\n",
       "      <td>1953-04-21</td>\n",
       "      <td>Karoline</td>\n",
       "      <td>Cesareni</td>\n",
       "      <td>F</td>\n",
       "      <td>1991-08-26</td>\n",
       "      <td>10228</td>\n",
       "      <td>d001</td>\n",
       "      <td>1993-01-28</td>\n",
       "      <td>9999-01-01</td>\n",
       "      <td>d001</td>\n",
       "      <td>Marketing</td>\n",
       "    </tr>\n",
       "    <tr>\n",
       "      <th>4</th>\n",
       "      <td>10239</td>\n",
       "      <td>1955-03-31</td>\n",
       "      <td>Nikolaos</td>\n",
       "      <td>Llado</td>\n",
       "      <td>F</td>\n",
       "      <td>1995-05-08</td>\n",
       "      <td>10239</td>\n",
       "      <td>d001</td>\n",
       "      <td>1996-05-04</td>\n",
       "      <td>9999-01-01</td>\n",
       "      <td>d001</td>\n",
       "      <td>Marketing</td>\n",
       "    </tr>\n",
       "  </tbody>\n",
       "</table>\n",
       "</div>"
      ],
      "text/plain": [
       "   emp_no  birth_date first_name  last_name gender   hire_date  emp_no  \\\n",
       "0   10017  1958-07-06  Cristinel  Bouloucos      F  1993-08-03   10017   \n",
       "1   10058  1954-10-01    Berhard   McFarlin      M  1987-04-13   10058   \n",
       "2   10140  1957-03-11      Yucel      Auria      F  1991-03-14   10140   \n",
       "3   10228  1953-04-21   Karoline   Cesareni      F  1991-08-26   10228   \n",
       "4   10239  1955-03-31   Nikolaos      Llado      F  1995-05-08   10239   \n",
       "\n",
       "  dept_no   from_date     to_date dept_no  dept_name  \n",
       "0    d001  1993-08-03  9999-01-01    d001  Marketing  \n",
       "1    d001  1988-04-25  9999-01-01    d001  Marketing  \n",
       "2    d001  1991-03-14  9999-01-01    d001  Marketing  \n",
       "3    d001  1993-01-28  9999-01-01    d001  Marketing  \n",
       "4    d001  1996-05-04  9999-01-01    d001  Marketing  "
      ]
     },
     "execution_count": 20,
     "metadata": {},
     "output_type": "execute_result"
    }
   ],
   "source": [
    "df = pd.read_sql(text(query), engine.connect())\n",
    "df.head()"
   ]
  },
  {
   "cell_type": "code",
   "execution_count": 22,
   "id": "b279682a-2104-4b78-a397-20a6717a821e",
   "metadata": {},
   "outputs": [
    {
     "data": {
      "text/html": [
       "<div>\n",
       "<style scoped>\n",
       "    .dataframe tbody tr th:only-of-type {\n",
       "        vertical-align: middle;\n",
       "    }\n",
       "\n",
       "    .dataframe tbody tr th {\n",
       "        vertical-align: top;\n",
       "    }\n",
       "\n",
       "    .dataframe thead th {\n",
       "        text-align: right;\n",
       "    }\n",
       "</style>\n",
       "<table border=\"1\" class=\"dataframe\">\n",
       "  <thead>\n",
       "    <tr style=\"text-align: right;\">\n",
       "      <th>dept_name</th>\n",
       "      <th>Marketing</th>\n",
       "      <th>Sales</th>\n",
       "    </tr>\n",
       "    <tr>\n",
       "      <th>gender</th>\n",
       "      <th></th>\n",
       "      <th></th>\n",
       "    </tr>\n",
       "  </thead>\n",
       "  <tbody>\n",
       "    <tr>\n",
       "      <th>F</th>\n",
       "      <td>5864</td>\n",
       "      <td>14999</td>\n",
       "    </tr>\n",
       "    <tr>\n",
       "      <th>M</th>\n",
       "      <td>8978</td>\n",
       "      <td>22702</td>\n",
       "    </tr>\n",
       "  </tbody>\n",
       "</table>\n",
       "</div>"
      ],
      "text/plain": [
       "dept_name  Marketing  Sales\n",
       "gender                     \n",
       "F               5864  14999\n",
       "M               8978  22702"
      ]
     },
     "execution_count": 22,
     "metadata": {},
     "output_type": "execute_result"
    }
   ],
   "source": [
    "gd = pd.crosstab(df.gender, df.dept_name)\n",
    "gd"
   ]
  },
  {
   "cell_type": "code",
   "execution_count": 23,
   "id": "2ce1c2d2-e056-4e55-bc6e-664272a067c3",
   "metadata": {},
   "outputs": [],
   "source": [
    "chi, p, degf, exp = stats.chi2_contingency(gd)"
   ]
  },
  {
   "cell_type": "code",
   "execution_count": 24,
   "id": "9bd32cd9-9e67-433f-8e0f-dc16b6e363e4",
   "metadata": {
    "tags": []
   },
   "outputs": [
    {
     "name": "stdout",
     "output_type": "stream",
     "text": [
      "we fail to reject the null hypothesis\n"
     ]
    }
   ],
   "source": [
    "a = 0.05\n",
    "\n",
    "if p < a:\n",
    "    print('we reject the null hypothesis. There appears to be a relationship')\n",
    "else:\n",
    "    print('we fail to reject the null hypothesis')"
   ]
  },
  {
   "cell_type": "code",
   "execution_count": 25,
   "id": "82a87a3b-e37d-40f6-87e7-e5e13aa7c687",
   "metadata": {},
   "outputs": [],
   "source": [
    "query = '''\n",
    "        SELECT *\n",
    "        FROM employees\n",
    "        LEFT JOIN dept_manager ON dept_manager.emp_no = employees.emp_no\n",
    "        '''"
   ]
  },
  {
   "cell_type": "code",
   "execution_count": 26,
   "id": "326d2c5c-eabf-4863-a7e4-b03c87998bb2",
   "metadata": {},
   "outputs": [],
   "source": [
    "text_query = text(query)"
   ]
  },
  {
   "cell_type": "code",
   "execution_count": 27,
   "id": "f42ffe5c-a56e-466b-abc1-cb8483640eed",
   "metadata": {},
   "outputs": [
    {
     "data": {
      "text/html": [
       "<div>\n",
       "<style scoped>\n",
       "    .dataframe tbody tr th:only-of-type {\n",
       "        vertical-align: middle;\n",
       "    }\n",
       "\n",
       "    .dataframe tbody tr th {\n",
       "        vertical-align: top;\n",
       "    }\n",
       "\n",
       "    .dataframe thead th {\n",
       "        text-align: right;\n",
       "    }\n",
       "</style>\n",
       "<table border=\"1\" class=\"dataframe\">\n",
       "  <thead>\n",
       "    <tr style=\"text-align: right;\">\n",
       "      <th></th>\n",
       "      <th>emp_no</th>\n",
       "      <th>birth_date</th>\n",
       "      <th>first_name</th>\n",
       "      <th>last_name</th>\n",
       "      <th>gender</th>\n",
       "      <th>hire_date</th>\n",
       "      <th>emp_no</th>\n",
       "      <th>dept_no</th>\n",
       "      <th>from_date</th>\n",
       "      <th>to_date</th>\n",
       "    </tr>\n",
       "  </thead>\n",
       "  <tbody>\n",
       "    <tr>\n",
       "      <th>0</th>\n",
       "      <td>10001</td>\n",
       "      <td>1953-09-02</td>\n",
       "      <td>Georgi</td>\n",
       "      <td>Facello</td>\n",
       "      <td>M</td>\n",
       "      <td>1986-06-26</td>\n",
       "      <td>NaN</td>\n",
       "      <td>None</td>\n",
       "      <td>None</td>\n",
       "      <td>None</td>\n",
       "    </tr>\n",
       "    <tr>\n",
       "      <th>1</th>\n",
       "      <td>10002</td>\n",
       "      <td>1964-06-02</td>\n",
       "      <td>Bezalel</td>\n",
       "      <td>Simmel</td>\n",
       "      <td>F</td>\n",
       "      <td>1985-11-21</td>\n",
       "      <td>NaN</td>\n",
       "      <td>None</td>\n",
       "      <td>None</td>\n",
       "      <td>None</td>\n",
       "    </tr>\n",
       "    <tr>\n",
       "      <th>2</th>\n",
       "      <td>10003</td>\n",
       "      <td>1959-12-03</td>\n",
       "      <td>Parto</td>\n",
       "      <td>Bamford</td>\n",
       "      <td>M</td>\n",
       "      <td>1986-08-28</td>\n",
       "      <td>NaN</td>\n",
       "      <td>None</td>\n",
       "      <td>None</td>\n",
       "      <td>None</td>\n",
       "    </tr>\n",
       "    <tr>\n",
       "      <th>3</th>\n",
       "      <td>10004</td>\n",
       "      <td>1954-05-01</td>\n",
       "      <td>Chirstian</td>\n",
       "      <td>Koblick</td>\n",
       "      <td>M</td>\n",
       "      <td>1986-12-01</td>\n",
       "      <td>NaN</td>\n",
       "      <td>None</td>\n",
       "      <td>None</td>\n",
       "      <td>None</td>\n",
       "    </tr>\n",
       "    <tr>\n",
       "      <th>4</th>\n",
       "      <td>10005</td>\n",
       "      <td>1955-01-21</td>\n",
       "      <td>Kyoichi</td>\n",
       "      <td>Maliniak</td>\n",
       "      <td>M</td>\n",
       "      <td>1989-09-12</td>\n",
       "      <td>NaN</td>\n",
       "      <td>None</td>\n",
       "      <td>None</td>\n",
       "      <td>None</td>\n",
       "    </tr>\n",
       "  </tbody>\n",
       "</table>\n",
       "</div>"
      ],
      "text/plain": [
       "   emp_no  birth_date first_name last_name gender   hire_date  emp_no dept_no  \\\n",
       "0   10001  1953-09-02     Georgi   Facello      M  1986-06-26     NaN    None   \n",
       "1   10002  1964-06-02    Bezalel    Simmel      F  1985-11-21     NaN    None   \n",
       "2   10003  1959-12-03      Parto   Bamford      M  1986-08-28     NaN    None   \n",
       "3   10004  1954-05-01  Chirstian   Koblick      M  1986-12-01     NaN    None   \n",
       "4   10005  1955-01-21    Kyoichi  Maliniak      M  1989-09-12     NaN    None   \n",
       "\n",
       "  from_date to_date  \n",
       "0      None    None  \n",
       "1      None    None  \n",
       "2      None    None  \n",
       "3      None    None  \n",
       "4      None    None  "
      ]
     },
     "execution_count": 27,
     "metadata": {},
     "output_type": "execute_result"
    }
   ],
   "source": [
    "dfm = pd.read_sql(text(query), engine.connect())\n",
    "dfm.head()"
   ]
  },
  {
   "cell_type": "code",
   "execution_count": 28,
   "id": "6cf8045d-bf30-40af-aba5-584ab8826507",
   "metadata": {},
   "outputs": [
    {
     "data": {
      "text/html": [
       "<div>\n",
       "<style scoped>\n",
       "    .dataframe tbody tr th:only-of-type {\n",
       "        vertical-align: middle;\n",
       "    }\n",
       "\n",
       "    .dataframe tbody tr th {\n",
       "        vertical-align: top;\n",
       "    }\n",
       "\n",
       "    .dataframe thead th {\n",
       "        text-align: right;\n",
       "    }\n",
       "</style>\n",
       "<table border=\"1\" class=\"dataframe\">\n",
       "  <thead>\n",
       "    <tr style=\"text-align: right;\">\n",
       "      <th></th>\n",
       "      <th>emp_no</th>\n",
       "      <th>birth_date</th>\n",
       "      <th>first_name</th>\n",
       "      <th>last_name</th>\n",
       "      <th>gender</th>\n",
       "      <th>hire_date</th>\n",
       "      <th>emp_no</th>\n",
       "      <th>dept_no</th>\n",
       "      <th>from_date</th>\n",
       "      <th>to_date</th>\n",
       "      <th>managers</th>\n",
       "    </tr>\n",
       "  </thead>\n",
       "  <tbody>\n",
       "    <tr>\n",
       "      <th>0</th>\n",
       "      <td>10001</td>\n",
       "      <td>1953-09-02</td>\n",
       "      <td>Georgi</td>\n",
       "      <td>Facello</td>\n",
       "      <td>M</td>\n",
       "      <td>1986-06-26</td>\n",
       "      <td>NaN</td>\n",
       "      <td>None</td>\n",
       "      <td>None</td>\n",
       "      <td>None</td>\n",
       "      <td>not_manager</td>\n",
       "    </tr>\n",
       "    <tr>\n",
       "      <th>1</th>\n",
       "      <td>10002</td>\n",
       "      <td>1964-06-02</td>\n",
       "      <td>Bezalel</td>\n",
       "      <td>Simmel</td>\n",
       "      <td>F</td>\n",
       "      <td>1985-11-21</td>\n",
       "      <td>NaN</td>\n",
       "      <td>None</td>\n",
       "      <td>None</td>\n",
       "      <td>None</td>\n",
       "      <td>not_manager</td>\n",
       "    </tr>\n",
       "    <tr>\n",
       "      <th>2</th>\n",
       "      <td>10003</td>\n",
       "      <td>1959-12-03</td>\n",
       "      <td>Parto</td>\n",
       "      <td>Bamford</td>\n",
       "      <td>M</td>\n",
       "      <td>1986-08-28</td>\n",
       "      <td>NaN</td>\n",
       "      <td>None</td>\n",
       "      <td>None</td>\n",
       "      <td>None</td>\n",
       "      <td>not_manager</td>\n",
       "    </tr>\n",
       "    <tr>\n",
       "      <th>3</th>\n",
       "      <td>10004</td>\n",
       "      <td>1954-05-01</td>\n",
       "      <td>Chirstian</td>\n",
       "      <td>Koblick</td>\n",
       "      <td>M</td>\n",
       "      <td>1986-12-01</td>\n",
       "      <td>NaN</td>\n",
       "      <td>None</td>\n",
       "      <td>None</td>\n",
       "      <td>None</td>\n",
       "      <td>not_manager</td>\n",
       "    </tr>\n",
       "    <tr>\n",
       "      <th>4</th>\n",
       "      <td>10005</td>\n",
       "      <td>1955-01-21</td>\n",
       "      <td>Kyoichi</td>\n",
       "      <td>Maliniak</td>\n",
       "      <td>M</td>\n",
       "      <td>1989-09-12</td>\n",
       "      <td>NaN</td>\n",
       "      <td>None</td>\n",
       "      <td>None</td>\n",
       "      <td>None</td>\n",
       "      <td>not_manager</td>\n",
       "    </tr>\n",
       "  </tbody>\n",
       "</table>\n",
       "</div>"
      ],
      "text/plain": [
       "   emp_no  birth_date first_name last_name gender   hire_date  emp_no dept_no  \\\n",
       "0   10001  1953-09-02     Georgi   Facello      M  1986-06-26     NaN    None   \n",
       "1   10002  1964-06-02    Bezalel    Simmel      F  1985-11-21     NaN    None   \n",
       "2   10003  1959-12-03      Parto   Bamford      M  1986-08-28     NaN    None   \n",
       "3   10004  1954-05-01  Chirstian   Koblick      M  1986-12-01     NaN    None   \n",
       "4   10005  1955-01-21    Kyoichi  Maliniak      M  1989-09-12     NaN    None   \n",
       "\n",
       "  from_date to_date     managers  \n",
       "0      None    None  not_manager  \n",
       "1      None    None  not_manager  \n",
       "2      None    None  not_manager  \n",
       "3      None    None  not_manager  \n",
       "4      None    None  not_manager  "
      ]
     },
     "execution_count": 28,
     "metadata": {},
     "output_type": "execute_result"
    }
   ],
   "source": [
    "dfm['managers'] = np.where(dfm['dept_no'].str.startswith('d'), 'manager', 'not_manager')\n",
    "dfm.head()"
   ]
  },
  {
   "cell_type": "code",
   "execution_count": 29,
   "id": "d596acd7-8869-437b-81f9-7b7a43d16bfe",
   "metadata": {},
   "outputs": [
    {
     "data": {
      "text/plain": [
       "managers\n",
       "not_manager    300000\n",
       "manager            24\n",
       "Name: count, dtype: int64"
      ]
     },
     "execution_count": 29,
     "metadata": {},
     "output_type": "execute_result"
    }
   ],
   "source": [
    "dfm.managers.value_counts()"
   ]
  },
  {
   "cell_type": "code",
   "execution_count": 30,
   "id": "08649aba-b34e-41aa-bba3-6f53e45dd3b6",
   "metadata": {},
   "outputs": [
    {
     "data": {
      "text/html": [
       "<div>\n",
       "<style scoped>\n",
       "    .dataframe tbody tr th:only-of-type {\n",
       "        vertical-align: middle;\n",
       "    }\n",
       "\n",
       "    .dataframe tbody tr th {\n",
       "        vertical-align: top;\n",
       "    }\n",
       "\n",
       "    .dataframe thead th {\n",
       "        text-align: right;\n",
       "    }\n",
       "</style>\n",
       "<table border=\"1\" class=\"dataframe\">\n",
       "  <thead>\n",
       "    <tr style=\"text-align: right;\">\n",
       "      <th>managers</th>\n",
       "      <th>manager</th>\n",
       "      <th>not_manager</th>\n",
       "    </tr>\n",
       "    <tr>\n",
       "      <th>gender</th>\n",
       "      <th></th>\n",
       "      <th></th>\n",
       "    </tr>\n",
       "  </thead>\n",
       "  <tbody>\n",
       "    <tr>\n",
       "      <th>F</th>\n",
       "      <td>13</td>\n",
       "      <td>120038</td>\n",
       "    </tr>\n",
       "    <tr>\n",
       "      <th>M</th>\n",
       "      <td>11</td>\n",
       "      <td>179962</td>\n",
       "    </tr>\n",
       "  </tbody>\n",
       "</table>\n",
       "</div>"
      ],
      "text/plain": [
       "managers  manager  not_manager\n",
       "gender                        \n",
       "F              13       120038\n",
       "M              11       179962"
      ]
     },
     "execution_count": 30,
     "metadata": {},
     "output_type": "execute_result"
    }
   ],
   "source": [
    "m = pd.crosstab(dfm.gender, dfm.managers)\n",
    "m"
   ]
  },
  {
   "cell_type": "code",
   "execution_count": 31,
   "id": "0f9237d9-9f3f-424f-86bc-5e9d93f04f08",
   "metadata": {},
   "outputs": [],
   "source": [
    "chi, p, degf, exp = stats.chi2_contingency(m)"
   ]
  },
  {
   "cell_type": "code",
   "execution_count": 32,
   "id": "29e40bd0-f2bd-4ee7-b37e-da2ef8ca5469",
   "metadata": {},
   "outputs": [
    {
     "name": "stdout",
     "output_type": "stream",
     "text": [
      "we fail to reject the null hypothesis\n"
     ]
    }
   ],
   "source": [
    "a = 0.05\n",
    "\n",
    "if p < a:\n",
    "    print('we reject the null hypothesis. There appears to be a relationship')\n",
    "else:\n",
    "    print('we fail to reject the null hypothesis')"
   ]
  },
  {
   "cell_type": "markdown",
   "id": "1710afc7-385c-4c95-80b6-087cc4f9e540",
   "metadata": {},
   "source": [
    "# Correlation"
   ]
  },
  {
   "cell_type": "markdown",
   "id": "3e110abc-ca8c-4ff5-9838-03f376629967",
   "metadata": {},
   "source": [
    "1) Answer with the type of stats test you would use (assume normal distribution):"
   ]
  },
  {
   "cell_type": "markdown",
   "id": "966a855a-2165-4b06-9351-0c043507ea77",
   "metadata": {},
   "source": [
    "a) Is there a relationship between the length of your arm and the length of your foot\n",
    "\n",
    "Pearsons"
   ]
  },
  {
   "cell_type": "markdown",
   "id": "a081629d-c1fa-4896-8b88-dc2ce9e6fd79",
   "metadata": {},
   "source": [
    "b) Does smoking affect when or not someone has lung cancer?\n",
    "\n",
    "Chi2"
   ]
  },
  {
   "cell_type": "markdown",
   "id": "4b13c549-d176-4ffd-8954-f13567056284",
   "metadata": {},
   "source": [
    "c) Is gender independent of a person’s blood type?\n",
    "\n",
    "Chi2"
   ]
  },
  {
   "cell_type": "markdown",
   "id": "b4704b03-2903-49c4-9c83-6fd052c709e1",
   "metadata": {},
   "source": [
    "d) Does whether or not a person has a cat or dog affect whether they live in an apartment?\n",
    "\n",
    "Chi2"
   ]
  },
  {
   "cell_type": "markdown",
   "id": "d51ba99b-2dd0-4bfb-957f-59d30dc1324c",
   "metadata": {},
   "source": [
    "e) Does the length of time of the lecture correlate with a student's grade?\n",
    "\n",
    "Pearsons"
   ]
  },
  {
   "cell_type": "markdown",
   "id": "758842fe-cf8c-4838-9d3b-a2a536ecbe71",
   "metadata": {},
   "source": [
    "2) Use the telco_churn data.\n",
    "   \n",
    "a) Does tenure correlate with monthly charges?"
   ]
  },
  {
   "cell_type": "code",
   "execution_count": 33,
   "id": "244b4d87-5682-42a1-9c9e-73e7d6af80f5",
   "metadata": {},
   "outputs": [],
   "source": [
    "def get_db_url(database):\n",
    "    return get_connection(database)"
   ]
  },
  {
   "cell_type": "code",
   "execution_count": 34,
   "id": "a0a3258a-7551-4e38-9fca-10441936ff24",
   "metadata": {},
   "outputs": [],
   "source": [
    "url = get_db_url('telco_churn')"
   ]
  },
  {
   "cell_type": "code",
   "execution_count": 35,
   "id": "fc783888-a201-4e3f-9d9e-58894e8c0186",
   "metadata": {},
   "outputs": [],
   "source": [
    "engine =  create_engine(url)"
   ]
  },
  {
   "cell_type": "code",
   "execution_count": 36,
   "id": "c206d885-6c25-4955-b985-242b7b6119ed",
   "metadata": {},
   "outputs": [],
   "source": [
    "query = '''\n",
    "        SELECT *\n",
    "        FROM customers\n",
    "        '''"
   ]
  },
  {
   "cell_type": "code",
   "execution_count": 38,
   "id": "abf596c8-0fe3-40e8-8f7e-5004f42feea2",
   "metadata": {},
   "outputs": [],
   "source": [
    "text_query = text(query)"
   ]
  },
  {
   "cell_type": "code",
   "execution_count": 37,
   "id": "89923e4c-5c3a-4720-9c9b-cf0d0c4cc3fd",
   "metadata": {
    "scrolled": true
   },
   "outputs": [
    {
     "data": {
      "text/html": [
       "<div>\n",
       "<style scoped>\n",
       "    .dataframe tbody tr th:only-of-type {\n",
       "        vertical-align: middle;\n",
       "    }\n",
       "\n",
       "    .dataframe tbody tr th {\n",
       "        vertical-align: top;\n",
       "    }\n",
       "\n",
       "    .dataframe thead th {\n",
       "        text-align: right;\n",
       "    }\n",
       "</style>\n",
       "<table border=\"1\" class=\"dataframe\">\n",
       "  <thead>\n",
       "    <tr style=\"text-align: right;\">\n",
       "      <th></th>\n",
       "      <th>customer_id</th>\n",
       "      <th>gender</th>\n",
       "      <th>senior_citizen</th>\n",
       "      <th>partner</th>\n",
       "      <th>dependents</th>\n",
       "      <th>tenure</th>\n",
       "      <th>phone_service</th>\n",
       "      <th>multiple_lines</th>\n",
       "      <th>internet_service_type_id</th>\n",
       "      <th>online_security</th>\n",
       "      <th>...</th>\n",
       "      <th>device_protection</th>\n",
       "      <th>tech_support</th>\n",
       "      <th>streaming_tv</th>\n",
       "      <th>streaming_movies</th>\n",
       "      <th>contract_type_id</th>\n",
       "      <th>paperless_billing</th>\n",
       "      <th>payment_type_id</th>\n",
       "      <th>monthly_charges</th>\n",
       "      <th>total_charges</th>\n",
       "      <th>churn</th>\n",
       "    </tr>\n",
       "  </thead>\n",
       "  <tbody>\n",
       "    <tr>\n",
       "      <th>0</th>\n",
       "      <td>0002-ORFBO</td>\n",
       "      <td>Female</td>\n",
       "      <td>0</td>\n",
       "      <td>Yes</td>\n",
       "      <td>Yes</td>\n",
       "      <td>9</td>\n",
       "      <td>Yes</td>\n",
       "      <td>No</td>\n",
       "      <td>1</td>\n",
       "      <td>No</td>\n",
       "      <td>...</td>\n",
       "      <td>No</td>\n",
       "      <td>Yes</td>\n",
       "      <td>Yes</td>\n",
       "      <td>No</td>\n",
       "      <td>2</td>\n",
       "      <td>Yes</td>\n",
       "      <td>2</td>\n",
       "      <td>65.6</td>\n",
       "      <td>593.3</td>\n",
       "      <td>No</td>\n",
       "    </tr>\n",
       "    <tr>\n",
       "      <th>1</th>\n",
       "      <td>0003-MKNFE</td>\n",
       "      <td>Male</td>\n",
       "      <td>0</td>\n",
       "      <td>No</td>\n",
       "      <td>No</td>\n",
       "      <td>9</td>\n",
       "      <td>Yes</td>\n",
       "      <td>Yes</td>\n",
       "      <td>1</td>\n",
       "      <td>No</td>\n",
       "      <td>...</td>\n",
       "      <td>No</td>\n",
       "      <td>No</td>\n",
       "      <td>No</td>\n",
       "      <td>Yes</td>\n",
       "      <td>1</td>\n",
       "      <td>No</td>\n",
       "      <td>2</td>\n",
       "      <td>59.9</td>\n",
       "      <td>542.4</td>\n",
       "      <td>No</td>\n",
       "    </tr>\n",
       "    <tr>\n",
       "      <th>2</th>\n",
       "      <td>0004-TLHLJ</td>\n",
       "      <td>Male</td>\n",
       "      <td>0</td>\n",
       "      <td>No</td>\n",
       "      <td>No</td>\n",
       "      <td>4</td>\n",
       "      <td>Yes</td>\n",
       "      <td>No</td>\n",
       "      <td>2</td>\n",
       "      <td>No</td>\n",
       "      <td>...</td>\n",
       "      <td>Yes</td>\n",
       "      <td>No</td>\n",
       "      <td>No</td>\n",
       "      <td>No</td>\n",
       "      <td>1</td>\n",
       "      <td>Yes</td>\n",
       "      <td>1</td>\n",
       "      <td>73.9</td>\n",
       "      <td>280.85</td>\n",
       "      <td>Yes</td>\n",
       "    </tr>\n",
       "    <tr>\n",
       "      <th>3</th>\n",
       "      <td>0011-IGKFF</td>\n",
       "      <td>Male</td>\n",
       "      <td>1</td>\n",
       "      <td>Yes</td>\n",
       "      <td>No</td>\n",
       "      <td>13</td>\n",
       "      <td>Yes</td>\n",
       "      <td>No</td>\n",
       "      <td>2</td>\n",
       "      <td>No</td>\n",
       "      <td>...</td>\n",
       "      <td>Yes</td>\n",
       "      <td>No</td>\n",
       "      <td>Yes</td>\n",
       "      <td>Yes</td>\n",
       "      <td>1</td>\n",
       "      <td>Yes</td>\n",
       "      <td>1</td>\n",
       "      <td>98.0</td>\n",
       "      <td>1237.85</td>\n",
       "      <td>Yes</td>\n",
       "    </tr>\n",
       "    <tr>\n",
       "      <th>4</th>\n",
       "      <td>0013-EXCHZ</td>\n",
       "      <td>Female</td>\n",
       "      <td>1</td>\n",
       "      <td>Yes</td>\n",
       "      <td>No</td>\n",
       "      <td>3</td>\n",
       "      <td>Yes</td>\n",
       "      <td>No</td>\n",
       "      <td>2</td>\n",
       "      <td>No</td>\n",
       "      <td>...</td>\n",
       "      <td>No</td>\n",
       "      <td>Yes</td>\n",
       "      <td>Yes</td>\n",
       "      <td>No</td>\n",
       "      <td>1</td>\n",
       "      <td>Yes</td>\n",
       "      <td>2</td>\n",
       "      <td>83.9</td>\n",
       "      <td>267.4</td>\n",
       "      <td>Yes</td>\n",
       "    </tr>\n",
       "  </tbody>\n",
       "</table>\n",
       "<p>5 rows × 21 columns</p>\n",
       "</div>"
      ],
      "text/plain": [
       "  customer_id  gender  senior_citizen partner dependents  tenure  \\\n",
       "0  0002-ORFBO  Female               0     Yes        Yes       9   \n",
       "1  0003-MKNFE    Male               0      No         No       9   \n",
       "2  0004-TLHLJ    Male               0      No         No       4   \n",
       "3  0011-IGKFF    Male               1     Yes         No      13   \n",
       "4  0013-EXCHZ  Female               1     Yes         No       3   \n",
       "\n",
       "  phone_service multiple_lines  internet_service_type_id online_security  ...  \\\n",
       "0           Yes             No                         1              No  ...   \n",
       "1           Yes            Yes                         1              No  ...   \n",
       "2           Yes             No                         2              No  ...   \n",
       "3           Yes             No                         2              No  ...   \n",
       "4           Yes             No                         2              No  ...   \n",
       "\n",
       "  device_protection tech_support streaming_tv streaming_movies  \\\n",
       "0                No          Yes          Yes               No   \n",
       "1                No           No           No              Yes   \n",
       "2               Yes           No           No               No   \n",
       "3               Yes           No          Yes              Yes   \n",
       "4                No          Yes          Yes               No   \n",
       "\n",
       "  contract_type_id  paperless_billing payment_type_id  monthly_charges  \\\n",
       "0                2                Yes               2             65.6   \n",
       "1                1                 No               2             59.9   \n",
       "2                1                Yes               1             73.9   \n",
       "3                1                Yes               1             98.0   \n",
       "4                1                Yes               2             83.9   \n",
       "\n",
       "   total_charges churn  \n",
       "0          593.3    No  \n",
       "1          542.4    No  \n",
       "2         280.85   Yes  \n",
       "3        1237.85   Yes  \n",
       "4          267.4   Yes  \n",
       "\n",
       "[5 rows x 21 columns]"
      ]
     },
     "execution_count": 37,
     "metadata": {},
     "output_type": "execute_result"
    }
   ],
   "source": [
    "tc = pd.read_sql(text(query), engine.connect())\n",
    "tc.head()"
   ]
  },
  {
   "cell_type": "code",
   "execution_count": 39,
   "id": "3265b01b-9bfb-42a2-ac72-06f3ee246f00",
   "metadata": {},
   "outputs": [],
   "source": [
    "tc.tenure = tc.tenure.astype(float)\n",
    "tc.monthly_charges = tc.monthly_charges.astype(float)"
   ]
  },
  {
   "cell_type": "code",
   "execution_count": 52,
   "id": "c0b1688a-6d33-41b0-8199-3dec23142a6a",
   "metadata": {},
   "outputs": [
    {
     "data": {
      "image/png": "[encoded data removed]",
      "text/plain": [
       "<Figure size 1300x800 with 1 Axes>"
      ]
     },
     "metadata": {},
     "output_type": "display_data"
    }
   ],
   "source": [
    "plt.figure(figsize=(13, 8))\n",
    "plt.scatter(tc.tenure, tc.monthly_charges )\n",
    "plt.ylim(0, 130)\n",
    "plt.xlim(0, 80)\n",
    "plt.show()"
   ]
  },
  {
   "cell_type": "code",
   "execution_count": 41,
   "id": "db35513c-450e-422e-a9e2-574c212dfd3b",
   "metadata": {},
   "outputs": [],
   "source": [
    "r, p = stats.pearsonr(tc.tenure, tc.monthly_charges)"
   ]
  },
  {
   "cell_type": "code",
   "execution_count": 42,
   "id": "06013da9-b0f2-4852-87da-644a974c5879",
   "metadata": {},
   "outputs": [
    {
     "data": {
      "text/plain": [
       "0.24789985628615246"
      ]
     },
     "execution_count": 42,
     "metadata": {},
     "output_type": "execute_result"
    }
   ],
   "source": [
    "r"
   ]
  },
  {
   "cell_type": "code",
   "execution_count": 43,
   "id": "765b652e-7fd7-4b7b-a98c-6c07b393babb",
   "metadata": {},
   "outputs": [
    {
     "data": {
      "text/plain": [
       "4.094044991476844e-99"
      ]
     },
     "execution_count": 43,
     "metadata": {},
     "output_type": "execute_result"
    }
   ],
   "source": [
    "p"
   ]
  },
  {
   "cell_type": "code",
   "execution_count": 44,
   "id": "c17b5948-0ef0-4883-997d-be2eeef039ac",
   "metadata": {},
   "outputs": [
    {
     "name": "stdout",
     "output_type": "stream",
     "text": [
      "Your result is significant\n"
     ]
    }
   ],
   "source": [
    "a = 0.05\n",
    "\n",
    "if p < a:\n",
    "    print('Your result is significant')\n",
    "\n",
    "else:\n",
    "    print('Your result was not significant')"
   ]
  },
  {
   "cell_type": "markdown",
   "id": "1e1a7af5-87fa-4aaf-a4cb-35a01092c854",
   "metadata": {},
   "source": [
    "b) Total charges?"
   ]
  },
  {
   "cell_type": "code",
   "execution_count": 49,
   "id": "83ce3917-e9e2-4765-ba18-c04a4b8c804b",
   "metadata": {},
   "outputs": [],
   "source": [
    "tc.total_charges = tc.total_charges.replace(' ', np.nan)\n",
    "tc.total_charges = tc.total_charges.astype(float)"
   ]
  },
  {
   "cell_type": "code",
   "execution_count": 51,
   "id": "3aaef572-5606-485e-b97c-971f1aba25bc",
   "metadata": {},
   "outputs": [
    {
     "data": {
      "image/png": "[encoded data removed]",
      "text/plain": [
       "<Figure size 1300x800 with 1 Axes>"
      ]
     },
     "metadata": {},
     "output_type": "display_data"
    }
   ],
   "source": [
    "plt.figure(figsize=(13, 8))\n",
    "plt.scatter(tc.tenure, tc.total_charges)\n",
    "plt.axhline(y=np.nanmean(tc.total_charges))\n",
    "plt.show()"
   ]
  },
  {
   "cell_type": "code",
   "execution_count": null,
   "id": "0ca3e660-429c-4cb4-951f-c10fd0b86c54",
   "metadata": {},
   "outputs": [],
   "source": [
    "tc_cleaned = tc.dropna(subset=['tenure', 'total_charges'])"
   ]
  },
  {
   "cell_type": "code",
   "execution_count": null,
   "id": "803145f3-8e74-4240-8f00-9b09add63c01",
   "metadata": {},
   "outputs": [],
   "source": [
    "r, p = stats.pearsonr(tc_cleaned.tenure, tc_cleaned.total_charges)"
   ]
  },
  {
   "cell_type": "code",
   "execution_count": 55,
   "id": "f22fc431-a1c4-492d-b446-cc79354c4882",
   "metadata": {},
   "outputs": [
    {
     "data": {
      "text/plain": [
       "4.094044991476844e-99"
      ]
     },
     "execution_count": 55,
     "metadata": {},
     "output_type": "execute_result"
    }
   ],
   "source": [
    "p"
   ]
  },
  {
   "cell_type": "code",
   "execution_count": 53,
   "id": "6861d2fc-2c3c-48f8-a23e-57f84cfb7e96",
   "metadata": {},
   "outputs": [
    {
     "name": "stdout",
     "output_type": "stream",
     "text": [
      "Your result is significant\n"
     ]
    }
   ],
   "source": [
    "a = 0.05\n",
    "\n",
    "if p < a:\n",
    "    print('Your result is significant')\n",
    "\n",
    "else:\n",
    "    print('Your result was not significant')"
   ]
  },
  {
   "cell_type": "markdown",
   "id": "61456f32-37bd-4276-a2fe-2002f224f18d",
   "metadata": {},
   "source": [
    "c) What happens if you control for phone and internet service?"
   ]
  },
  {
   "cell_type": "code",
   "execution_count": 56,
   "id": "e2f608db-fb23-4c63-ac2b-fd8ad5e6747a",
   "metadata": {},
   "outputs": [],
   "source": [
    "def get_db_url(database):\n",
    "    return get_connection(database)"
   ]
  },
  {
   "cell_type": "code",
   "execution_count": 57,
   "id": "62efaea1-3db7-4497-a6fb-8450d334d068",
   "metadata": {},
   "outputs": [],
   "source": [
    "url = get_db_url('telco_churn')"
   ]
  },
  {
   "cell_type": "code",
   "execution_count": 58,
   "id": "9d7cf538-daf1-41f5-b1bb-3a37b4423bdf",
   "metadata": {},
   "outputs": [],
   "source": [
    "engine =  create_engine(url)"
   ]
  },
  {
   "cell_type": "code",
   "execution_count": 59,
   "id": "6a4fcee9-247e-46a4-91e7-3e0007e5842a",
   "metadata": {},
   "outputs": [],
   "source": [
    "query = '''\n",
    "        SELECT tenure, phone_service, internet_service_type, monthly_charges, total_charges\n",
    "        FROM customers\n",
    "        LEFT JOIN internet_service_types ON internet_service_types.internet_service_type_id = customers.internet_service_type_id\n",
    "        WHERE phone_service = 'Yes' AND internet_service_type = 'DSL'\n",
    "        '''"
   ]
  },
  {
   "cell_type": "code",
   "execution_count": 60,
   "id": "abc89b63-df44-4941-92f0-822c126c86cf",
   "metadata": {},
   "outputs": [],
   "source": [
    "text_query = text(query)"
   ]
  },
  {
   "cell_type": "code",
   "execution_count": 61,
   "id": "090fc6fe-59b5-4dcf-a195-b26e9b44d976",
   "metadata": {},
   "outputs": [
    {
     "data": {
      "text/html": [
       "<div>\n",
       "<style scoped>\n",
       "    .dataframe tbody tr th:only-of-type {\n",
       "        vertical-align: middle;\n",
       "    }\n",
       "\n",
       "    .dataframe tbody tr th {\n",
       "        vertical-align: top;\n",
       "    }\n",
       "\n",
       "    .dataframe thead th {\n",
       "        text-align: right;\n",
       "    }\n",
       "</style>\n",
       "<table border=\"1\" class=\"dataframe\">\n",
       "  <thead>\n",
       "    <tr style=\"text-align: right;\">\n",
       "      <th></th>\n",
       "      <th>tenure</th>\n",
       "      <th>phone_service</th>\n",
       "      <th>internet_service_type</th>\n",
       "      <th>monthly_charges</th>\n",
       "      <th>total_charges</th>\n",
       "    </tr>\n",
       "  </thead>\n",
       "  <tbody>\n",
       "    <tr>\n",
       "      <th>0</th>\n",
       "      <td>9</td>\n",
       "      <td>Yes</td>\n",
       "      <td>DSL</td>\n",
       "      <td>65.60</td>\n",
       "      <td>593.3</td>\n",
       "    </tr>\n",
       "    <tr>\n",
       "      <th>1</th>\n",
       "      <td>9</td>\n",
       "      <td>Yes</td>\n",
       "      <td>DSL</td>\n",
       "      <td>59.90</td>\n",
       "      <td>542.4</td>\n",
       "    </tr>\n",
       "    <tr>\n",
       "      <th>2</th>\n",
       "      <td>9</td>\n",
       "      <td>Yes</td>\n",
       "      <td>DSL</td>\n",
       "      <td>69.40</td>\n",
       "      <td>571.45</td>\n",
       "    </tr>\n",
       "    <tr>\n",
       "      <th>3</th>\n",
       "      <td>7</td>\n",
       "      <td>Yes</td>\n",
       "      <td>DSL</td>\n",
       "      <td>48.20</td>\n",
       "      <td>340.35</td>\n",
       "    </tr>\n",
       "    <tr>\n",
       "      <th>4</th>\n",
       "      <td>65</td>\n",
       "      <td>Yes</td>\n",
       "      <td>DSL</td>\n",
       "      <td>90.45</td>\n",
       "      <td>5957.9</td>\n",
       "    </tr>\n",
       "  </tbody>\n",
       "</table>\n",
       "</div>"
      ],
      "text/plain": [
       "   tenure phone_service internet_service_type  monthly_charges total_charges\n",
       "0       9           Yes                   DSL            65.60         593.3\n",
       "1       9           Yes                   DSL            59.90         542.4\n",
       "2       9           Yes                   DSL            69.40        571.45\n",
       "3       7           Yes                   DSL            48.20        340.35\n",
       "4      65           Yes                   DSL            90.45        5957.9"
      ]
     },
     "execution_count": 61,
     "metadata": {},
     "output_type": "execute_result"
    }
   ],
   "source": [
    "tc = pd.read_sql(text(query), engine.connect())\n",
    "tc.head()"
   ]
  },
  {
   "cell_type": "code",
   "execution_count": 63,
   "id": "6343f6d1-ff54-442d-911a-487e4165189c",
   "metadata": {},
   "outputs": [],
   "source": [
    "tc.total_charges = tc.total_charges.replace(' ', np.nan)\n",
    "tc.total_charges = tc.total_charges.astype(float)"
   ]
  },
  {
   "cell_type": "code",
   "execution_count": 77,
   "id": "328145d5-ea35-47c9-9a7c-8ecdda49fd49",
   "metadata": {},
   "outputs": [
    {
     "data": {
      "image/png": "[encoded data removed]",
      "text/plain": [
       "<Figure size 1300x800 with 1 Axes>"
      ]
     },
     "metadata": {},
     "output_type": "display_data"
    }
   ],
   "source": [
    "plt.figure(figsize=(13, 8))\n",
    "plt.scatter(tc.tenure, tc.total_charges)\n",
    "plt.axhline(y=np.nanmean(tc.total_charges))\n",
    "plt.show()"
   ]
  },
  {
   "cell_type": "code",
   "execution_count": 65,
   "id": "5c5b03db-011d-4a31-881f-cb86e3fd9192",
   "metadata": {},
   "outputs": [],
   "source": [
    "tc_cleaned = tc.dropna(subset=['tenure', 'total_charges'])"
   ]
  },
  {
   "cell_type": "code",
   "execution_count": 66,
   "id": "9da80497-e91b-4e11-a131-f4f1b382e3e5",
   "metadata": {},
   "outputs": [],
   "source": [
    "r, p = stats.pearsonr(tc_cleaned.tenure, tc_cleaned.tenure)"
   ]
  },
  {
   "cell_type": "code",
   "execution_count": 67,
   "id": "fc72f92d-f6fc-47ce-bd4c-4ecc7648e782",
   "metadata": {},
   "outputs": [
    {
     "name": "stdout",
     "output_type": "stream",
     "text": [
      "Your result is significant\n"
     ]
    }
   ],
   "source": [
    "a = 0.05\n",
    "\n",
    "if p < a:\n",
    "    print('Your result is significant')\n",
    "\n",
    "else:\n",
    "    print('Your result was not significant')"
   ]
  },
  {
   "cell_type": "markdown",
   "id": "964eab31-7a36-4ae2-ac39-5d359cddfc62",
   "metadata": {},
   "source": [
    "Is there a relationship between how long an employee has been with the company and the number of titles they have had?"
   ]
  },
  {
   "cell_type": "markdown",
   "id": "6596b3a9-4c0e-4631-a4e0-873f8cdc40be",
   "metadata": {},
   "source": [
    "3) Use the employees database."
   ]
  },
  {
   "cell_type": "code",
   "execution_count": 69,
   "id": "92d4ee1a-c10c-4444-84da-b88c61a2f52a",
   "metadata": {},
   "outputs": [],
   "source": [
    "def get_db_url(database):\n",
    "    return get_connection(database)"
   ]
  },
  {
   "cell_type": "code",
   "execution_count": 70,
   "id": "abf1fa40-43ea-4e01-8317-8c35bd81308c",
   "metadata": {},
   "outputs": [],
   "source": [
    "url = get_db_url('employees')"
   ]
  },
  {
   "cell_type": "code",
   "execution_count": 71,
   "id": "f0f06754-ef6c-4532-ad9d-f91733ecccd0",
   "metadata": {},
   "outputs": [],
   "source": [
    "engine =  create_engine(url)"
   ]
  },
  {
   "cell_type": "code",
   "execution_count": 72,
   "id": "ee03e3d1-d2e8-4e51-b932-b875f15da014",
   "metadata": {},
   "outputs": [],
   "source": [
    "query = '''\n",
    "        SELECT dept_emp.emp_no, dept_emp.from_date, dept_emp.to_date, salary\n",
    "        FROM dept_emp\n",
    "        JOIN salaries ON salaries.emp_no = dept_emp.emp_no\n",
    "        '''"
   ]
  },
  {
   "cell_type": "code",
   "execution_count": 73,
   "id": "ae17f89e-bfca-402c-bdfc-80122575ed09",
   "metadata": {},
   "outputs": [],
   "source": [
    "text_query = text(query)"
   ]
  },
  {
   "cell_type": "code",
   "execution_count": 74,
   "id": "806c4d35-6f8d-4ab2-917f-07fd86881f87",
   "metadata": {},
   "outputs": [
    {
     "data": {
      "text/html": [
       "<div>\n",
       "<style scoped>\n",
       "    .dataframe tbody tr th:only-of-type {\n",
       "        vertical-align: middle;\n",
       "    }\n",
       "\n",
       "    .dataframe tbody tr th {\n",
       "        vertical-align: top;\n",
       "    }\n",
       "\n",
       "    .dataframe thead th {\n",
       "        text-align: right;\n",
       "    }\n",
       "</style>\n",
       "<table border=\"1\" class=\"dataframe\">\n",
       "  <thead>\n",
       "    <tr style=\"text-align: right;\">\n",
       "      <th></th>\n",
       "      <th>emp_no</th>\n",
       "      <th>from_date</th>\n",
       "      <th>to_date</th>\n",
       "      <th>salary</th>\n",
       "    </tr>\n",
       "  </thead>\n",
       "  <tbody>\n",
       "    <tr>\n",
       "      <th>0</th>\n",
       "      <td>10001</td>\n",
       "      <td>1986-06-26</td>\n",
       "      <td>9999-01-01</td>\n",
       "      <td>60117</td>\n",
       "    </tr>\n",
       "    <tr>\n",
       "      <th>1</th>\n",
       "      <td>10001</td>\n",
       "      <td>1986-06-26</td>\n",
       "      <td>9999-01-01</td>\n",
       "      <td>62102</td>\n",
       "    </tr>\n",
       "    <tr>\n",
       "      <th>2</th>\n",
       "      <td>10001</td>\n",
       "      <td>1986-06-26</td>\n",
       "      <td>9999-01-01</td>\n",
       "      <td>66074</td>\n",
       "    </tr>\n",
       "    <tr>\n",
       "      <th>3</th>\n",
       "      <td>10001</td>\n",
       "      <td>1986-06-26</td>\n",
       "      <td>9999-01-01</td>\n",
       "      <td>66596</td>\n",
       "    </tr>\n",
       "    <tr>\n",
       "      <th>4</th>\n",
       "      <td>10001</td>\n",
       "      <td>1986-06-26</td>\n",
       "      <td>9999-01-01</td>\n",
       "      <td>66961</td>\n",
       "    </tr>\n",
       "  </tbody>\n",
       "</table>\n",
       "</div>"
      ],
      "text/plain": [
       "   emp_no   from_date     to_date  salary\n",
       "0   10001  1986-06-26  9999-01-01   60117\n",
       "1   10001  1986-06-26  9999-01-01   62102\n",
       "2   10001  1986-06-26  9999-01-01   66074\n",
       "3   10001  1986-06-26  9999-01-01   66596\n",
       "4   10001  1986-06-26  9999-01-01   66961"
      ]
     },
     "execution_count": 74,
     "metadata": {},
     "output_type": "execute_result"
    }
   ],
   "source": [
    "df = pd.read_sql(text(query), engine.connect())\n",
    "df.head()"
   ]
  },
  {
   "cell_type": "markdown",
   "id": "32f597d8-4d6d-4dcd-b1b9-0441a684f3cf",
   "metadata": {},
   "source": [
    "a) Is there a relationship between how long an employee has been with the company and their salary?"
   ]
  },
  {
   "cell_type": "code",
   "execution_count": 75,
   "id": "8ebe7a24-968c-43c9-acf5-5772ebb12316",
   "metadata": {},
   "outputs": [
    {
     "data": {
      "text/plain": [
       "datetime.date(2002, 8, 1)"
      ]
     },
     "execution_count": 75,
     "metadata": {},
     "output_type": "execute_result"
    }
   ],
   "source": [
    "df.from_date.max()"
   ]
  },
  {
   "cell_type": "code",
   "execution_count": 79,
   "id": "70d77ebd-2bbe-4149-a542-94cd5ec1349f",
   "metadata": {},
   "outputs": [
    {
     "data": {
      "text/html": [
       "<div>\n",
       "<style scoped>\n",
       "    .dataframe tbody tr th:only-of-type {\n",
       "        vertical-align: middle;\n",
       "    }\n",
       "\n",
       "    .dataframe tbody tr th {\n",
       "        vertical-align: top;\n",
       "    }\n",
       "\n",
       "    .dataframe thead th {\n",
       "        text-align: right;\n",
       "    }\n",
       "</style>\n",
       "<table border=\"1\" class=\"dataframe\">\n",
       "  <thead>\n",
       "    <tr style=\"text-align: right;\">\n",
       "      <th></th>\n",
       "      <th>emp_no</th>\n",
       "      <th>from_date</th>\n",
       "      <th>to_date</th>\n",
       "      <th>salary</th>\n",
       "    </tr>\n",
       "  </thead>\n",
       "  <tbody>\n",
       "    <tr>\n",
       "      <th>0</th>\n",
       "      <td>10001</td>\n",
       "      <td>1986-06-26</td>\n",
       "      <td>2002-08-01</td>\n",
       "      <td>60117</td>\n",
       "    </tr>\n",
       "    <tr>\n",
       "      <th>1</th>\n",
       "      <td>10001</td>\n",
       "      <td>1986-06-26</td>\n",
       "      <td>2002-08-01</td>\n",
       "      <td>62102</td>\n",
       "    </tr>\n",
       "    <tr>\n",
       "      <th>2</th>\n",
       "      <td>10001</td>\n",
       "      <td>1986-06-26</td>\n",
       "      <td>2002-08-01</td>\n",
       "      <td>66074</td>\n",
       "    </tr>\n",
       "    <tr>\n",
       "      <th>3</th>\n",
       "      <td>10001</td>\n",
       "      <td>1986-06-26</td>\n",
       "      <td>2002-08-01</td>\n",
       "      <td>66596</td>\n",
       "    </tr>\n",
       "    <tr>\n",
       "      <th>4</th>\n",
       "      <td>10001</td>\n",
       "      <td>1986-06-26</td>\n",
       "      <td>2002-08-01</td>\n",
       "      <td>66961</td>\n",
       "    </tr>\n",
       "  </tbody>\n",
       "</table>\n",
       "</div>"
      ],
      "text/plain": [
       "   emp_no   from_date     to_date  salary\n",
       "0   10001  1986-06-26  2002-08-01   60117\n",
       "1   10001  1986-06-26  2002-08-01   62102\n",
       "2   10001  1986-06-26  2002-08-01   66074\n",
       "3   10001  1986-06-26  2002-08-01   66596\n",
       "4   10001  1986-06-26  2002-08-01   66961"
      ]
     },
     "execution_count": 79,
     "metadata": {},
     "output_type": "execute_result"
    }
   ],
   "source": [
    "df.to_date = df.from_date.max()\n",
    "df.head()"
   ]
  },
  {
   "cell_type": "code",
   "execution_count": 113,
   "id": "71b3c15d-b6fa-4aaf-af52-16a6b90f0df4",
   "metadata": {},
   "outputs": [
    {
     "data": {
      "text/html": [
       "<div>\n",
       "<style scoped>\n",
       "    .dataframe tbody tr th:only-of-type {\n",
       "        vertical-align: middle;\n",
       "    }\n",
       "\n",
       "    .dataframe tbody tr th {\n",
       "        vertical-align: top;\n",
       "    }\n",
       "\n",
       "    .dataframe thead th {\n",
       "        text-align: right;\n",
       "    }\n",
       "</style>\n",
       "<table border=\"1\" class=\"dataframe\">\n",
       "  <thead>\n",
       "    <tr style=\"text-align: right;\">\n",
       "      <th></th>\n",
       "      <th>emp_no</th>\n",
       "      <th>from_date</th>\n",
       "      <th>to_date</th>\n",
       "      <th>salary</th>\n",
       "      <th>tenure</th>\n",
       "      <th>tenure_days</th>\n",
       "    </tr>\n",
       "  </thead>\n",
       "  <tbody>\n",
       "    <tr>\n",
       "      <th>0</th>\n",
       "      <td>10001</td>\n",
       "      <td>1986-06-26</td>\n",
       "      <td>2002-08-01</td>\n",
       "      <td>60117</td>\n",
       "      <td>5880 days, 0:00:00</td>\n",
       "      <td>NaN</td>\n",
       "    </tr>\n",
       "    <tr>\n",
       "      <th>1</th>\n",
       "      <td>10001</td>\n",
       "      <td>1986-06-26</td>\n",
       "      <td>2002-08-01</td>\n",
       "      <td>62102</td>\n",
       "      <td>5880 days, 0:00:00</td>\n",
       "      <td>NaN</td>\n",
       "    </tr>\n",
       "    <tr>\n",
       "      <th>2</th>\n",
       "      <td>10001</td>\n",
       "      <td>1986-06-26</td>\n",
       "      <td>2002-08-01</td>\n",
       "      <td>66074</td>\n",
       "      <td>5880 days, 0:00:00</td>\n",
       "      <td>NaN</td>\n",
       "    </tr>\n",
       "    <tr>\n",
       "      <th>3</th>\n",
       "      <td>10001</td>\n",
       "      <td>1986-06-26</td>\n",
       "      <td>2002-08-01</td>\n",
       "      <td>66596</td>\n",
       "      <td>5880 days, 0:00:00</td>\n",
       "      <td>NaN</td>\n",
       "    </tr>\n",
       "    <tr>\n",
       "      <th>4</th>\n",
       "      <td>10001</td>\n",
       "      <td>1986-06-26</td>\n",
       "      <td>2002-08-01</td>\n",
       "      <td>66961</td>\n",
       "      <td>5880 days, 0:00:00</td>\n",
       "      <td>NaN</td>\n",
       "    </tr>\n",
       "  </tbody>\n",
       "</table>\n",
       "</div>"
      ],
      "text/plain": [
       "   emp_no   from_date     to_date  salary              tenure  tenure_days\n",
       "0   10001  1986-06-26  2002-08-01   60117  5880 days, 0:00:00          NaN\n",
       "1   10001  1986-06-26  2002-08-01   62102  5880 days, 0:00:00          NaN\n",
       "2   10001  1986-06-26  2002-08-01   66074  5880 days, 0:00:00          NaN\n",
       "3   10001  1986-06-26  2002-08-01   66596  5880 days, 0:00:00          NaN\n",
       "4   10001  1986-06-26  2002-08-01   66961  5880 days, 0:00:00          NaN"
      ]
     },
     "execution_count": 113,
     "metadata": {},
     "output_type": "execute_result"
    }
   ],
   "source": [
    "df['tenure'] = df.from_date.max() - df.from_date\n",
    "df.head()"
   ]
  },
  {
   "cell_type": "markdown",
   "id": "5a3e9077-5875-46e2-a59f-8c7466b0eef9",
   "metadata": {},
   "source": [
    "4) Use the sleepstudy data.\n",
    "\n",
    "Is there a relationship between days and reaction time?"
   ]
  },
  {
   "cell_type": "code",
   "execution_count": 83,
   "id": "5c1068cf-35bf-4f0a-8995-b2e87adff84c",
   "metadata": {},
   "outputs": [
    {
     "data": {
      "text/html": [
       "<div>\n",
       "<style scoped>\n",
       "    .dataframe tbody tr th:only-of-type {\n",
       "        vertical-align: middle;\n",
       "    }\n",
       "\n",
       "    .dataframe tbody tr th {\n",
       "        vertical-align: top;\n",
       "    }\n",
       "\n",
       "    .dataframe thead th {\n",
       "        text-align: right;\n",
       "    }\n",
       "</style>\n",
       "<table border=\"1\" class=\"dataframe\">\n",
       "  <thead>\n",
       "    <tr style=\"text-align: right;\">\n",
       "      <th></th>\n",
       "      <th>Reaction</th>\n",
       "      <th>Days</th>\n",
       "      <th>Subject</th>\n",
       "    </tr>\n",
       "  </thead>\n",
       "  <tbody>\n",
       "    <tr>\n",
       "      <th>1</th>\n",
       "      <td>249.5600</td>\n",
       "      <td>0</td>\n",
       "      <td>308</td>\n",
       "    </tr>\n",
       "    <tr>\n",
       "      <th>2</th>\n",
       "      <td>258.7047</td>\n",
       "      <td>1</td>\n",
       "      <td>308</td>\n",
       "    </tr>\n",
       "    <tr>\n",
       "      <th>3</th>\n",
       "      <td>250.8006</td>\n",
       "      <td>2</td>\n",
       "      <td>308</td>\n",
       "    </tr>\n",
       "    <tr>\n",
       "      <th>4</th>\n",
       "      <td>321.4398</td>\n",
       "      <td>3</td>\n",
       "      <td>308</td>\n",
       "    </tr>\n",
       "    <tr>\n",
       "      <th>5</th>\n",
       "      <td>356.8519</td>\n",
       "      <td>4</td>\n",
       "      <td>308</td>\n",
       "    </tr>\n",
       "  </tbody>\n",
       "</table>\n",
       "</div>"
      ],
      "text/plain": [
       "   Reaction  Days  Subject\n",
       "1  249.5600     0      308\n",
       "2  258.7047     1      308\n",
       "3  250.8006     2      308\n",
       "4  321.4398     3      308\n",
       "5  356.8519     4      308"
      ]
     },
     "execution_count": 83,
     "metadata": {},
     "output_type": "execute_result"
    }
   ],
   "source": [
    "ss = data('sleepstudy')\n",
    "ss.head()"
   ]
  },
  {
   "cell_type": "code",
   "execution_count": 91,
   "id": "188a3e2b-baf7-4a6f-a89f-8488d1b16b94",
   "metadata": {},
   "outputs": [
    {
     "data": {
      "image/png": "[encoded data removed]",
      "text/plain": [
       "<Figure size 1000x500 with 1 Axes>"
      ]
     },
     "metadata": {},
     "output_type": "display_data"
    }
   ],
   "source": [
    "plt.figure(figsize = (10, 5))\n",
    "plt.scatter(ss.Days, ss.Reaction)\n",
    "plt.axhline(y=np.nanmean(ss.Reaction))\n",
    "plt.show()"
   ]
  },
  {
   "cell_type": "code",
   "execution_count": 85,
   "id": "2a41ea4e-e58e-48e3-a63b-002d0b8b2d8b",
   "metadata": {},
   "outputs": [],
   "source": [
    "r, p = stats.pearsonr(ss.Days, ss.Reaction)"
   ]
  },
  {
   "cell_type": "code",
   "execution_count": 86,
   "id": "2caf32aa-3913-4ee8-b79a-1dd4c6ff1005",
   "metadata": {},
   "outputs": [
    {
     "data": {
      "text/plain": [
       "9.894096322214486e-15"
      ]
     },
     "execution_count": 86,
     "metadata": {},
     "output_type": "execute_result"
    }
   ],
   "source": [
    "p"
   ]
  },
  {
   "cell_type": "code",
   "execution_count": 87,
   "id": "29a65061-17dd-4802-b2d3-8a094f3ce45c",
   "metadata": {},
   "outputs": [
    {
     "data": {
      "text/plain": [
       "0.5352302262650255"
      ]
     },
     "execution_count": 87,
     "metadata": {},
     "output_type": "execute_result"
    }
   ],
   "source": [
    "r"
   ]
  },
  {
   "cell_type": "code",
   "execution_count": 88,
   "id": "cbe76f9f-f34e-4c08-9225-3ed1bf893d64",
   "metadata": {},
   "outputs": [
    {
     "name": "stdout",
     "output_type": "stream",
     "text": [
      "Your result is significant\n"
     ]
    }
   ],
   "source": [
    "a = 0.05\n",
    "\n",
    "if p < a:\n",
    "    print('Your result is significant')\n",
    "\n",
    "else:\n",
    "    print('Your result is NOT significant')"
   ]
  },
  {
   "cell_type": "code",
   "execution_count": null,
   "id": "a4b8a4d4-a280-4993-ab94-6367d411de5b",
   "metadata": {},
   "outputs": [],
   "source": []
  },
  {
   "cell_type": "code",
   "execution_count": null,
   "id": "502e2e06-38bb-48a6-9614-b397218f8849",
   "metadata": {},
   "outputs": [],
   "source": []
  },
  {
   "cell_type": "code",
   "execution_count": null,
   "id": "63d7a37c-199b-4e74-a586-044d640632ad",
   "metadata": {},
   "outputs": [],
   "source": []
  }
 ],
 "metadata": {
  "kernelspec": {
   "display_name": "Python 3 (ipykernel)",
   "language": "python",
   "name": "python3"
  },
  "language_info": {
   "codemirror_mode": {
    "name": "ipython",
    "version": 3
   },
   "file_extension": ".py",
   "mimetype": "text/x-python",
   "name": "python",
   "nbconvert_exporter": "python",
   "pygments_lexer": "ipython3",
   "version": "3.10.12"
  }
 },
 "nbformat": 4,
 "nbformat_minor": 5
}
