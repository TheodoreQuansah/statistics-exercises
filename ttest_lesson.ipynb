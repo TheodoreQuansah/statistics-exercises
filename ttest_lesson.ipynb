{
 "cells": [
  {
   "cell_type": "code",
   "execution_count": 1,
   "id": "10c73b1c-4db1-4351-899a-5e17fa87251e",
   "metadata": {},
   "outputs": [],
   "source": [
    "#imports\n",
    "import pandas as pd\n",
    "import matplotlib.pyplot as plt\n",
    "\n",
    "from scipy import stats\n",
    "from pydataset import data"
   ]
  },
  {
   "cell_type": "code",
   "execution_count": 2,
   "id": "9a808ab3-9108-4956-ad89-27ae0d75b083",
   "metadata": {},
   "outputs": [
    {
     "data": {
      "text/html": [
       "<div>\n",
       "<style scoped>\n",
       "    .dataframe tbody tr th:only-of-type {\n",
       "        vertical-align: middle;\n",
       "    }\n",
       "\n",
       "    .dataframe tbody tr th {\n",
       "        vertical-align: top;\n",
       "    }\n",
       "\n",
       "    .dataframe thead th {\n",
       "        text-align: right;\n",
       "    }\n",
       "</style>\n",
       "<table border=\"1\" class=\"dataframe\">\n",
       "  <thead>\n",
       "    <tr style=\"text-align: right;\">\n",
       "      <th></th>\n",
       "      <th>total_bill</th>\n",
       "      <th>tip</th>\n",
       "      <th>sex</th>\n",
       "      <th>smoker</th>\n",
       "      <th>day</th>\n",
       "      <th>time</th>\n",
       "      <th>size</th>\n",
       "    </tr>\n",
       "  </thead>\n",
       "  <tbody>\n",
       "    <tr>\n",
       "      <th>1</th>\n",
       "      <td>16.99</td>\n",
       "      <td>1.01</td>\n",
       "      <td>Female</td>\n",
       "      <td>No</td>\n",
       "      <td>Sun</td>\n",
       "      <td>Dinner</td>\n",
       "      <td>2</td>\n",
       "    </tr>\n",
       "    <tr>\n",
       "      <th>2</th>\n",
       "      <td>10.34</td>\n",
       "      <td>1.66</td>\n",
       "      <td>Male</td>\n",
       "      <td>No</td>\n",
       "      <td>Sun</td>\n",
       "      <td>Dinner</td>\n",
       "      <td>3</td>\n",
       "    </tr>\n",
       "    <tr>\n",
       "      <th>3</th>\n",
       "      <td>21.01</td>\n",
       "      <td>3.50</td>\n",
       "      <td>Male</td>\n",
       "      <td>No</td>\n",
       "      <td>Sun</td>\n",
       "      <td>Dinner</td>\n",
       "      <td>3</td>\n",
       "    </tr>\n",
       "    <tr>\n",
       "      <th>4</th>\n",
       "      <td>23.68</td>\n",
       "      <td>3.31</td>\n",
       "      <td>Male</td>\n",
       "      <td>No</td>\n",
       "      <td>Sun</td>\n",
       "      <td>Dinner</td>\n",
       "      <td>2</td>\n",
       "    </tr>\n",
       "    <tr>\n",
       "      <th>5</th>\n",
       "      <td>24.59</td>\n",
       "      <td>3.61</td>\n",
       "      <td>Female</td>\n",
       "      <td>No</td>\n",
       "      <td>Sun</td>\n",
       "      <td>Dinner</td>\n",
       "      <td>4</td>\n",
       "    </tr>\n",
       "  </tbody>\n",
       "</table>\n",
       "</div>"
      ],
      "text/plain": [
       "   total_bill   tip     sex smoker  day    time  size\n",
       "1       16.99  1.01  Female     No  Sun  Dinner     2\n",
       "2       10.34  1.66    Male     No  Sun  Dinner     3\n",
       "3       21.01  3.50    Male     No  Sun  Dinner     3\n",
       "4       23.68  3.31    Male     No  Sun  Dinner     2\n",
       "5       24.59  3.61  Female     No  Sun  Dinner     4"
      ]
     },
     "execution_count": 2,
     "metadata": {},
     "output_type": "execute_result"
    }
   ],
   "source": [
    "df = data('tips')\n",
    "df.head()"
   ]
  },
  {
   "cell_type": "markdown",
   "id": "0f48c75a-15ce-4c8d-9fec-f7be41bda032",
   "metadata": {},
   "source": [
    "Null: Size two parties tip the same amount as any party in my dataset.\n",
    "\n",
    "Alternative: Size two parties tip a different amount from any dataset."
   ]
  },
  {
   "cell_type": "code",
   "execution_count": 3,
   "id": "f6df1f07-82de-4976-adef-bd7948157fc5",
   "metadata": {},
   "outputs": [
    {
     "data": {
      "text/plain": [
       "2.99827868852459"
      ]
     },
     "execution_count": 3,
     "metadata": {},
     "output_type": "execute_result"
    }
   ],
   "source": [
    "#define population mean\n",
    "overall_tip = df.tip.mean()\n",
    "overall_tip"
   ]
  },
  {
   "cell_type": "code",
   "execution_count": 4,
   "id": "e60c88b6-897c-4e76-9930-a3b1bfc3f155",
   "metadata": {},
   "outputs": [],
   "source": [
    "#define sample distribution\n",
    "tip_for_two = df[df['size'] == 2].tip"
   ]
  },
  {
   "cell_type": "code",
   "execution_count": 5,
   "id": "4424994f-e793-47bb-885e-c587f6e24dd8",
   "metadata": {},
   "outputs": [
    {
     "data": {
      "text/plain": [
       "(-5.271912239283316, 4.4632473980137726e-07)"
      ]
     },
     "execution_count": 5,
     "metadata": {},
     "output_type": "execute_result"
    }
   ],
   "source": [
    "t_two, p_two = stats.ttest_1samp(tip_for_two, overall_tip)\n",
    "t_two, p_two"
   ]
  },
  {
   "cell_type": "code",
   "execution_count": 6,
   "id": "7765e271-f941-4383-92bf-fa29824827de",
   "metadata": {},
   "outputs": [
    {
     "data": {
      "image/png": "[encoded data removed]",
      "text/plain": [
       "<Figure size 640x480 with 1 Axes>"
      ]
     },
     "metadata": {},
     "output_type": "display_data"
    }
   ],
   "source": [
    "plt.hist(df.tip, label = 'population')\n",
    "plt.hist(tip_for_two, label = 'party of two')\n",
    "plt.vlines(overall_tip, 0, 80, color = 'firebrick')\n",
    "plt.xlabel('tip amount')\n",
    "plt.ylabel('frequency')\n",
    "plt.legend()\n",
    "plt.show()"
   ]
  },
  {
   "cell_type": "code",
   "execution_count": 7,
   "id": "4a06801f-e460-4ea4-96e6-51ab5f766fee",
   "metadata": {},
   "outputs": [
    {
     "name": "stdout",
     "output_type": "stream",
     "text": [
      "We reject the null hypothesis\n"
     ]
    }
   ],
   "source": [
    "a = 0.05\n",
    "\n",
    "if p_two < a:\n",
    "    print('We reject the null hypothesis')\n",
    "\n",
    "else:\n",
    "    print('we fail to reject the null hypothesis')"
   ]
  },
  {
   "cell_type": "code",
   "execution_count": null,
   "id": "0cb881fa-746f-4f27-a15f-c9f400943db0",
   "metadata": {},
   "outputs": [],
   "source": []
  },
  {
   "cell_type": "markdown",
   "id": "7fff1a67-e32f-485e-aadf-8e55f3182db5",
   "metadata": {},
   "source": [
    "Null hypothesis: Guests for dinner pay less than or the same amount as guests for lunch\n",
    "\n",
    "Alternative hypothesis: Guests for dinner pay more than guests for lunch."
   ]
  },
  {
   "cell_type": "code",
   "execution_count": 11,
   "id": "5200fe26-6e2a-485c-bc36-74521acbe1df",
   "metadata": {},
   "outputs": [],
   "source": [
    "lunch_bills = df[df.time == 'Lunch'].total_bill"
   ]
  },
  {
   "cell_type": "code",
   "execution_count": 12,
   "id": "989657bd-cc89-4909-965d-29f6a7e108f5",
   "metadata": {},
   "outputs": [],
   "source": [
    "dinner_bills = df[df.time == 'Dinner'].total_bill"
   ]
  },
  {
   "cell_type": "code",
   "execution_count": 17,
   "id": "6d42c907-e70c-4201-ada0-4aaf0b82be89",
   "metadata": {},
   "outputs": [
    {
     "data": {
      "image/png": "[encoded data removed]",
      "text/plain": [
       "<Figure size 640x480 with 1 Axes>"
      ]
     },
     "metadata": {},
     "output_type": "display_data"
    }
   ],
   "source": [
    "plt.hist(lunch_bills, label = 'lunch bills')\n",
    "plt.hist(dinner_bills, label = 'dinner bills', alpha = 0.4)\n",
    "plt.legend()\n",
    "plt.show()"
   ]
  },
  {
   "cell_type": "code",
   "execution_count": 22,
   "id": "bce917fa-3d63-4d92-977d-caf6765958a3",
   "metadata": {},
   "outputs": [
    {
     "data": {
      "text/plain": [
       "(2.8976375218366424, 0.004104621407595676)"
      ]
     },
     "execution_count": 22,
     "metadata": {},
     "output_type": "execute_result"
    }
   ],
   "source": [
    "t_time, p_time = stats.ttest_ind(dinner_bills, lunch_bills)\n",
    "t_time, p_time"
   ]
  },
  {
   "cell_type": "code",
   "execution_count": 24,
   "id": "7c521068-88eb-4c78-a433-114972df51ce",
   "metadata": {},
   "outputs": [
    {
     "name": "stdout",
     "output_type": "stream",
     "text": [
      "we reject the null hypothesis\n"
     ]
    }
   ],
   "source": [
    "a < 0.05\n",
    "\n",
    "if t_time > 0 and (p_time/2 < a):\n",
    "    print('we reject the null hypothesis')\n",
    "\n",
    "else:\n",
    "    print('we fail to reject the null hypothesis')"
   ]
  },
  {
   "cell_type": "code",
   "execution_count": 27,
   "id": "1e542c65-ce7c-4fd6-aa30-b98755d0d150",
   "metadata": {},
   "outputs": [
    {
     "data": {
      "text/plain": [
       "TtestResult(statistic=-2.8976375218366424, pvalue=0.004104621407595676, df=242.0)"
      ]
     },
     "execution_count": 27,
     "metadata": {},
     "output_type": "execute_result"
    }
   ],
   "source": [
    "stats.ttest_ind(lunch_bills, dinner_bills)"
   ]
  },
  {
   "cell_type": "code",
   "execution_count": 28,
   "id": "4c066928-3301-4b09-8eee-862e557d30fc",
   "metadata": {},
   "outputs": [
    {
     "data": {
      "image/png": "[encoded data removed]",
      "text/plain": [
       "<Figure size 640x480 with 1 Axes>"
      ]
     },
     "metadata": {},
     "output_type": "display_data"
    }
   ],
   "source": [
    "plt.hist(dinner_bills, label = 'dinner bills')\n",
    "plt.hist(lunch_bills, label = 'lunch bills')\n",
    "plt.legend()\n",
    "plt.show()"
   ]
  }
 ],
 "metadata": {
  "kernelspec": {
   "display_name": "Python 3 (ipykernel)",
   "language": "python",
   "name": "python3"
  },
  "language_info": {
   "codemirror_mode": {
    "name": "ipython",
    "version": 3
   },
   "file_extension": ".py",
   "mimetype": "text/x-python",
   "name": "python",
   "nbconvert_exporter": "python",
   "pygments_lexer": "ipython3",
   "version": "3.10.12"
  }
 },
 "nbformat": 4,
 "nbformat_minor": 5
}
