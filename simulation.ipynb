{
 "cells": [
  {
   "cell_type": "code",
   "execution_count": 1,
   "id": "0f7a4066-5325-46de-a10a-0dca947bdf0d",
   "metadata": {},
   "outputs": [],
   "source": [
    "import numpy as np\n",
    "import pandas as pd\n",
    "\n",
    "import matplotlib.pyplot as plt"
   ]
  },
  {
   "cell_type": "markdown",
   "id": "d9bb848b-5d28-4453-aec1-e8847926540b",
   "metadata": {},
   "source": [
    "1) How likely is it that you roll doubles when rolling two dice?"
   ]
  },
  {
   "cell_type": "code",
   "execution_count": 2,
   "id": "2a87170c-8277-42cd-8039-21f6b2b26081",
   "metadata": {},
   "outputs": [],
   "source": [
    "rng = np.random.default_rng(seed = 42)"
   ]
  },
  {
   "cell_type": "code",
   "execution_count": 3,
   "id": "fdc6e469-c972-421e-966c-fa8c6a2106c0",
   "metadata": {},
   "outputs": [
    {
     "data": {
      "text/plain": [
       "array([[1, 5],\n",
       "       [4, 3],\n",
       "       [3, 6],\n",
       "       ...,\n",
       "       [5, 1],\n",
       "       [4, 6],\n",
       "       [2, 2]])"
      ]
     },
     "execution_count": 3,
     "metadata": {},
     "output_type": "execute_result"
    }
   ],
   "source": [
    "doubles = rng.choice([ 1, 2, 3, 4, 5, 6], (1_000, 2))\n",
    "doubles"
   ]
  },
  {
   "cell_type": "code",
   "execution_count": 4,
   "id": "1a7c3a0d-1425-48bb-8f53-728668fde0d4",
   "metadata": {},
   "outputs": [
    {
     "data": {
      "text/plain": [
       "array([5, 3, 6, 5, 1, 6, 5, 5, 1, 3, 3, 6, 4, 5, 3, 2, 4, 1, 5, 4, 5, 3,\n",
       "       6, 6, 5, 2, 3, 1, 1, 5, 5, 6, 2, 3, 3, 2, 1, 3, 2, 5, 3, 5, 5, 2,\n",
       "       5, 5, 3, 2, 5, 1, 2, 1, 5, 4, 5, 5, 3, 4, 1, 1, 5, 3, 4, 5, 4, 4,\n",
       "       4, 2, 1, 3, 2, 3, 6, 2, 1, 2, 2, 4, 4, 5, 4, 3, 5, 2, 1, 1, 5, 3,\n",
       "       1, 4, 1, 5, 3, 3, 2, 4, 3, 1, 1, 6, 6, 5, 2, 6, 5, 5, 3, 2, 1, 6,\n",
       "       3, 2, 2, 4, 2, 6, 5, 5, 3, 4, 4, 4, 1, 3, 1, 3, 2, 1, 1, 4, 2, 6,\n",
       "       4, 3, 4, 1, 6, 3, 5, 1, 3, 3, 6, 4, 3, 2, 2, 4, 3, 1, 5, 6, 1, 4,\n",
       "       1, 5, 2, 4, 5, 5, 1, 6, 2, 1, 4, 3, 5, 5, 2, 6, 2, 4, 2, 6, 1, 1,\n",
       "       3, 6, 6, 5, 6, 6, 4, 2, 5, 4, 3, 1, 5, 2, 6, 2, 1, 5, 1, 2, 4, 6,\n",
       "       2, 2, 5, 6, 4, 1, 1, 2, 1, 5, 1, 4, 5, 4, 2, 5, 5, 5, 1, 1, 6, 3,\n",
       "       2, 3, 4, 6, 2, 6, 1, 4, 4, 1, 1, 3, 6, 4, 6, 5, 3, 5, 1, 1, 5, 5,\n",
       "       2, 4, 4, 6, 4, 3, 3, 3, 4, 6, 3, 2, 2, 5, 5, 1, 1, 4, 1, 5, 2, 1,\n",
       "       6, 1, 2, 1, 1, 1, 1, 2, 1, 4, 5, 3, 2, 4, 6, 6, 1, 2, 2, 2, 4, 3,\n",
       "       1, 3, 4, 1, 6, 1, 6, 1, 6, 6, 6, 5, 5, 4, 5, 1, 4, 4, 6, 3, 3, 4,\n",
       "       2, 1, 3, 3, 2, 3, 3, 2, 3, 5, 2, 6, 6, 3, 2, 4, 6, 4, 5, 4, 4, 2,\n",
       "       5, 2, 5, 6, 1, 4, 1, 5, 1, 6, 1, 6, 5, 4, 5, 5, 6, 2, 4, 1, 4, 2,\n",
       "       4, 4, 3, 4, 5, 5, 3, 4, 6, 1, 1, 1, 4, 3, 5, 5, 3, 6, 5, 2, 3, 2,\n",
       "       1, 1, 6, 3, 3, 5, 4, 6, 5, 3, 3, 6, 5, 6, 1, 6, 4, 1, 4, 5, 1, 3,\n",
       "       5, 2, 3, 3, 2, 6, 5, 1, 6, 6, 2, 6, 1, 6, 4, 4, 1, 6, 1, 2, 1, 5,\n",
       "       2, 6, 4, 1, 1, 1, 4, 5, 2, 6, 1, 5, 6, 5, 5, 6, 1, 2, 1, 4, 5, 4,\n",
       "       6, 1, 5, 2, 2, 5, 6, 4, 1, 4, 1, 6, 5, 2, 1, 2, 6, 3, 5, 4, 4, 1,\n",
       "       6, 2, 4, 5, 4, 6, 1, 4, 3, 3, 1, 1, 2, 2, 3, 4, 4, 3, 3, 2, 4, 2,\n",
       "       1, 3, 3, 2, 4, 4, 5, 4, 4, 2, 5, 4, 3, 4, 3, 4, 5, 6, 6, 4, 4, 5,\n",
       "       2, 6, 3, 1, 1, 6, 1, 2, 3, 2, 2, 5, 1, 5, 6, 3, 1, 4, 1, 3, 6, 6,\n",
       "       5, 2, 5, 5, 3, 4, 1, 2, 4, 1, 1, 6, 6, 4, 6, 6, 1, 3, 3, 1, 5, 3,\n",
       "       3, 1, 2, 6, 1, 2, 2, 3, 4, 3, 1, 2, 6, 4, 4, 5, 5, 1, 3, 4, 3, 6,\n",
       "       3, 5, 6, 4, 6, 4, 6, 3, 3, 4, 1, 3, 6, 4, 2, 3, 2, 1, 6, 3, 2, 4,\n",
       "       1, 2, 5, 4, 6, 4, 3, 5, 6, 5, 6, 5, 6, 1, 5, 3, 4, 4, 6, 6, 2, 5,\n",
       "       5, 3, 1, 1, 5, 3, 6, 3, 6, 3, 5, 1, 4, 5, 6, 5, 1, 3, 1, 1, 5, 5,\n",
       "       5, 6, 5, 5, 1, 2, 4, 6, 1, 4, 5, 1, 3, 6, 5, 2, 6, 3, 6, 2, 4, 3,\n",
       "       2, 6, 2, 1, 3, 5, 5, 6, 2, 3, 1, 4, 6, 5, 4, 3, 6, 3, 1, 3, 1, 2,\n",
       "       1, 3, 4, 3, 3, 6, 5, 4, 2, 6, 2, 2, 6, 4, 5, 4, 4, 2, 2, 2, 1, 6,\n",
       "       2, 4, 5, 5, 3, 3, 6, 5, 5, 6, 5, 2, 4, 1, 4, 6, 4, 3, 1, 6, 1, 1,\n",
       "       2, 1, 3, 4, 2, 1, 1, 3, 1, 5, 2, 2, 3, 3, 1, 1, 6, 1, 4, 3, 2, 3,\n",
       "       5, 6, 2, 2, 2, 3, 5, 2, 2, 6, 1, 3, 5, 1, 1, 1, 6, 1, 2, 1, 1, 4,\n",
       "       2, 4, 4, 6, 1, 6, 4, 1, 5, 6, 2, 6, 3, 4, 6, 3, 5, 2, 5, 4, 2, 3,\n",
       "       2, 1, 1, 3, 1, 1, 5, 5, 5, 2, 6, 4, 1, 1, 5, 2, 4, 6, 1, 1, 6, 4,\n",
       "       1, 6, 6, 4, 4, 2, 1, 4, 2, 4, 6, 1, 4, 2, 6, 2, 4, 4, 3, 5, 5, 4,\n",
       "       5, 6, 3, 4, 1, 5, 4, 3, 1, 6, 3, 5, 1, 6, 2, 2, 6, 6, 2, 3, 5, 6,\n",
       "       3, 4, 5, 5, 5, 4, 1, 6, 6, 5, 1, 2, 5, 1, 6, 3, 5, 6, 3, 2, 4, 4,\n",
       "       3, 4, 6, 3, 2, 3, 3, 1, 1, 5, 3, 6, 2, 1, 5, 6, 2, 2, 2, 4, 3, 2,\n",
       "       1, 3, 6, 4, 3, 1, 2, 2, 5, 6, 6, 6, 6, 6, 1, 1, 2, 4, 1, 6, 4, 4,\n",
       "       1, 2, 1, 6, 4, 5, 2, 3, 3, 5, 5, 2, 6, 1, 6, 1, 2, 6, 2, 3, 3, 2,\n",
       "       5, 6, 6, 3, 4, 2, 2, 1, 6, 6, 5, 4, 3, 4, 4, 3, 1, 1, 6, 3, 6, 1,\n",
       "       4, 2, 2, 1, 1, 6, 2, 4, 3, 3, 4, 2, 6, 5, 5, 3, 1, 6, 3, 1, 3, 5,\n",
       "       4, 5, 5, 2, 6, 3, 4, 1, 6, 2])"
      ]
     },
     "execution_count": 4,
     "metadata": {},
     "output_type": "execute_result"
    }
   ],
   "source": [
    "doubles[:,1]"
   ]
  },
  {
   "cell_type": "code",
   "execution_count": 5,
   "id": "a7c02ccf-6702-4804-8cbb-64470d19e863",
   "metadata": {},
   "outputs": [
    {
     "data": {
      "text/plain": [
       "180"
      ]
     },
     "execution_count": 5,
     "metadata": {},
     "output_type": "execute_result"
    }
   ],
   "source": [
    "(doubles[:,0] == doubles[:,1]).sum()"
   ]
  },
  {
   "cell_type": "code",
   "execution_count": 6,
   "id": "ed149c55-dab8-4d8b-990c-1fcc2a87b8ae",
   "metadata": {},
   "outputs": [
    {
     "data": {
      "text/plain": [
       "0.18"
      ]
     },
     "execution_count": 6,
     "metadata": {},
     "output_type": "execute_result"
    }
   ],
   "source": [
    "(doubles[:,0] == doubles[:,1]).sum() / len(doubles)"
   ]
  },
  {
   "cell_type": "markdown",
   "id": "12a4c262-fbbd-404c-a382-5aaf40332bdd",
   "metadata": {},
   "source": [
    "the likelyhood of rolling doubles when rolling two dice is 18%"
   ]
  },
  {
   "cell_type": "markdown",
   "id": "3b56b46f-47e7-47ac-b118-0054082b7ca7",
   "metadata": {},
   "source": [
    "2)\n",
    "\n",
    "a)If you flip 8 coins, what is the probability of getting exactly 3 heads? "
   ]
  },
  {
   "cell_type": "code",
   "execution_count": 7,
   "id": "222953a4-0a10-42e3-85d6-3c28a0d6d024",
   "metadata": {
    "tags": []
   },
   "outputs": [
    {
     "data": {
      "text/plain": [
       "array([[1, 0, 0, ..., 0, 0, 0],\n",
       "       [1, 1, 0, ..., 1, 1, 0],\n",
       "       [0, 1, 1, ..., 1, 1, 1],\n",
       "       ...,\n",
       "       [0, 1, 0, ..., 0, 0, 1],\n",
       "       [0, 1, 0, ..., 1, 0, 0],\n",
       "       [1, 0, 1, ..., 0, 1, 1]])"
      ]
     },
     "execution_count": 7,
     "metadata": {},
     "output_type": "execute_result"
    }
   ],
   "source": [
    "#1 is heads, 0 is tails.\n",
    "coin_flip = rng.choice([0,1], (1_000, 8))\n",
    "coin_flip"
   ]
  },
  {
   "cell_type": "code",
   "execution_count": 8,
   "id": "90d039c8-a01f-4df2-8c61-ab4313a2d8c1",
   "metadata": {},
   "outputs": [
    {
     "data": {
      "text/plain": [
       "array([2, 4, 5, 4, 5, 5, 4, 5, 5, 1, 5, 3, 5, 3, 7, 6, 4, 6, 3, 5, 5, 6,\n",
       "       4, 2, 4, 2, 3, 2, 5, 4, 4, 4, 5, 3, 1, 6, 4, 3, 2, 3, 3, 4, 3, 5,\n",
       "       2, 4, 3, 4, 5, 4, 5, 3, 3, 3, 4, 4, 4, 3, 2, 1, 2, 3, 5, 2, 6, 1,\n",
       "       6, 3, 4, 4, 4, 5, 3, 2, 4, 6, 6, 5, 6, 4, 2, 6, 2, 5, 6, 3, 6, 3,\n",
       "       3, 5, 4, 4, 3, 2, 6, 2, 4, 5, 3, 6, 3, 3, 6, 6, 5, 3, 1, 6, 2, 6,\n",
       "       2, 3, 7, 4, 3, 3, 3, 6, 5, 3, 4, 5, 4, 6, 4, 6, 4, 3, 4, 3, 4, 4,\n",
       "       1, 4, 4, 1, 3, 0, 5, 4, 6, 4, 2, 6, 6, 2, 6, 2, 5, 4, 6, 3, 4, 6,\n",
       "       5, 5, 1, 3, 5, 4, 2, 1, 5, 2, 3, 3, 4, 5, 5, 4, 5, 4, 7, 5, 4, 4,\n",
       "       3, 5, 5, 4, 4, 3, 4, 5, 5, 3, 5, 1, 5, 4, 2, 1, 5, 4, 3, 2, 6, 5,\n",
       "       4, 4, 4, 6, 1, 6, 4, 7, 4, 5, 2, 5, 4, 3, 2, 5, 3, 6, 4, 4, 6, 4,\n",
       "       5, 2, 4, 3, 3, 4, 3, 4, 5, 6, 4, 3, 3, 5, 4, 2, 5, 5, 6, 4, 5, 6,\n",
       "       6, 2, 5, 5, 4, 5, 3, 4, 4, 2, 2, 3, 2, 2, 2, 5, 4, 5, 6, 5, 3, 2,\n",
       "       1, 5, 6, 5, 3, 3, 3, 3, 3, 2, 4, 5, 5, 4, 3, 3, 1, 2, 2, 6, 5, 4,\n",
       "       4, 2, 8, 3, 3, 4, 3, 4, 5, 4, 5, 3, 3, 3, 2, 2, 4, 4, 5, 2, 5, 4,\n",
       "       5, 4, 2, 3, 4, 3, 4, 5, 4, 7, 5, 5, 3, 4, 2, 4, 5, 3, 4, 6, 1, 4,\n",
       "       3, 1, 3, 3, 5, 4, 5, 3, 4, 4, 4, 5, 1, 3, 5, 3, 2, 4, 4, 3, 6, 4,\n",
       "       7, 2, 4, 4, 4, 6, 5, 4, 3, 2, 7, 6, 4, 5, 4, 5, 2, 3, 3, 6, 5, 6,\n",
       "       6, 5, 6, 5, 3, 3, 4, 4, 7, 6, 3, 3, 3, 4, 5, 2, 6, 3, 4, 5, 5, 2,\n",
       "       2, 4, 6, 4, 5, 2, 5, 2, 5, 5, 4, 3, 6, 2, 7, 5, 3, 4, 3, 4, 4, 4,\n",
       "       2, 4, 5, 5, 2, 3, 6, 6, 4, 4, 3, 4, 5, 3, 4, 3, 4, 4, 3, 4, 5, 8,\n",
       "       5, 4, 4, 3, 5, 2, 5, 5, 5, 7, 3, 4, 3, 2, 4, 6, 4, 5, 5, 4, 3, 4,\n",
       "       3, 4, 3, 4, 4, 4, 2, 2, 1, 2, 3, 7, 4, 2, 4, 5, 3, 4, 5, 4, 4, 7,\n",
       "       4, 4, 4, 5, 3, 4, 6, 3, 3, 4, 6, 5, 3, 6, 4, 5, 5, 4, 3, 5, 3, 3,\n",
       "       2, 3, 2, 5, 4, 3, 4, 6, 3, 3, 2, 3, 5, 4, 2, 4, 6, 3, 1, 5, 5, 2,\n",
       "       4, 4, 4, 2, 5, 5, 4, 2, 4, 2, 1, 3, 5, 2, 6, 4, 4, 5, 4, 2, 4, 5,\n",
       "       7, 3, 3, 7, 2, 5, 4, 1, 2, 2, 7, 3, 5, 3, 2, 1, 3, 4, 7, 2, 2, 3,\n",
       "       2, 4, 3, 3, 2, 4, 4, 3, 4, 5, 4, 1, 6, 2, 6, 4, 1, 6, 4, 4, 2, 4,\n",
       "       5, 4, 7, 3, 5, 4, 5, 4, 6, 4, 4, 2, 4, 6, 4, 3, 2, 4, 5, 4, 3, 1,\n",
       "       4, 4, 4, 5, 4, 5, 4, 6, 4, 5, 5, 6, 5, 6, 6, 5, 3, 3, 4, 5, 3, 4,\n",
       "       2, 6, 6, 4, 4, 2, 3, 6, 4, 3, 2, 5, 3, 3, 2, 7, 2, 4, 5, 4, 4, 5,\n",
       "       4, 2, 3, 4, 5, 4, 0, 5, 5, 3, 3, 3, 4, 5, 1, 5, 3, 6, 8, 5, 5, 7,\n",
       "       6, 6, 4, 4, 3, 5, 3, 1, 1, 4, 5, 4, 5, 3, 5, 4, 3, 4, 1, 3, 6, 3,\n",
       "       4, 5, 3, 6, 2, 5, 6, 6, 3, 3, 3, 3, 3, 3, 4, 2, 5, 4, 5, 7, 3, 5,\n",
       "       4, 5, 3, 5, 3, 4, 5, 3, 2, 3, 3, 4, 5, 3, 3, 2, 3, 5, 5, 2, 0, 5,\n",
       "       2, 3, 4, 3, 2, 4, 4, 3, 6, 4, 4, 5, 6, 3, 3, 4, 2, 5, 4, 5, 3, 3,\n",
       "       1, 5, 3, 2, 5, 3, 5, 5, 5, 5, 6, 4, 8, 2, 5, 3, 2, 3, 2, 2, 5, 3,\n",
       "       5, 4, 7, 4, 5, 2, 7, 4, 4, 4, 4, 2, 3, 1, 6, 5, 4, 5, 5, 3, 3, 3,\n",
       "       5, 6, 5, 5, 4, 6, 4, 5, 4, 4, 4, 3, 2, 6, 3, 5, 6, 4, 5, 3, 5, 3,\n",
       "       6, 5, 5, 6, 7, 5, 2, 3, 4, 3, 5, 5, 3, 4, 6, 5, 3, 5, 5, 3, 3, 3,\n",
       "       5, 2, 3, 3, 5, 5, 5, 3, 4, 5, 3, 5, 5, 3, 7, 2, 3, 4, 2, 5, 4, 5,\n",
       "       6, 5, 6, 5, 3, 3, 3, 2, 2, 5, 5, 4, 6, 4, 4, 8, 6, 4, 3, 2, 5, 5,\n",
       "       3, 4, 5, 6, 5, 0, 5, 3, 1, 4, 5, 4, 3, 3, 4, 3, 4, 3, 5, 2, 4, 4,\n",
       "       3, 4, 3, 1, 3, 3, 4, 4, 3, 4, 3, 2, 4, 4, 3, 4, 6, 4, 4, 3, 3, 6,\n",
       "       5, 2, 4, 5, 1, 5, 3, 4, 6, 3, 3, 5, 5, 3, 3, 2, 3, 3, 5, 5, 4, 3,\n",
       "       6, 4, 5, 5, 4, 3, 6, 5, 5, 2, 4, 4, 5, 3, 5, 4, 6, 4, 6, 6, 5, 4,\n",
       "       2, 0, 6, 4, 4, 4, 3, 2, 3, 5])"
      ]
     },
     "execution_count": 8,
     "metadata": {},
     "output_type": "execute_result"
    }
   ],
   "source": [
    "coin_flip.sum(axis = 1)"
   ]
  },
  {
   "cell_type": "code",
   "execution_count": 9,
   "id": "721f1f7e-ce3f-4b21-a3dd-308ab35ae7a2",
   "metadata": {},
   "outputs": [
    {
     "data": {
      "text/plain": [
       "0.224"
      ]
     },
     "execution_count": 9,
     "metadata": {},
     "output_type": "execute_result"
    }
   ],
   "source": [
    "(coin_flip.sum(axis = 1) == 3).sum() / len(coin_flip)"
   ]
  },
  {
   "cell_type": "markdown",
   "id": "8a466dee-1dff-41bc-bd5c-d51ae5407ca0",
   "metadata": {},
   "source": [
    "There is a 22.5% probability of getting exactly 3 heads."
   ]
  },
  {
   "cell_type": "markdown",
   "id": "9c524c65-7778-47fa-a23d-2b9823efedd7",
   "metadata": {},
   "source": [
    "b) What is the probability of getting more than 3 heads?"
   ]
  },
  {
   "cell_type": "code",
   "execution_count": 10,
   "id": "f51990e7-00de-4945-871b-a2928ef0f5a2",
   "metadata": {},
   "outputs": [
    {
     "data": {
      "text/plain": [
       "0.618"
      ]
     },
     "execution_count": 10,
     "metadata": {},
     "output_type": "execute_result"
    }
   ],
   "source": [
    "(coin_flip.sum(axis = 1) > 3).sum() / len(coin_flip)"
   ]
  },
  {
   "cell_type": "markdown",
   "id": "c233d3a1-fb81-4453-b51f-6fb9574fd045",
   "metadata": {},
   "source": [
    "There is an 84.3% probability of getting 3 or more heads."
   ]
  },
  {
   "cell_type": "markdown",
   "id": "9a2cc94f-5275-4f5d-b64c-596d8f3bb6fd",
   "metadata": {},
   "source": [
    "3) There are approximitely 3 web development cohorts for every 1 data science cohort at Codeup. \n",
    "\n",
    "Assuming that Codeup randomly selects an alumni to put on a billboard, \n",
    "\n",
    "what are the odds that the two billboards I drive past both have data science students on them?"
   ]
  },
  {
   "cell_type": "code",
   "execution_count": 11,
   "id": "fd76cc5c-fd82-4cee-aee3-68a6a27a2161",
   "metadata": {
    "tags": []
   },
   "outputs": [
    {
     "data": {
      "text/plain": [
       "array([[0, 0],\n",
       "       [0, 0],\n",
       "       [0, 1],\n",
       "       ...,\n",
       "       [1, 1],\n",
       "       [0, 1],\n",
       "       [0, 1]])"
      ]
     },
     "execution_count": 11,
     "metadata": {},
     "output_type": "execute_result"
    }
   ],
   "source": [
    "cohorts = rng.choice([0, 0, 0, 1], (1_000, 2))\n",
    "cohorts"
   ]
  },
  {
   "cell_type": "code",
   "execution_count": 12,
   "id": "0b3b9c32-d4d2-4c5f-8171-0963c040f017",
   "metadata": {},
   "outputs": [],
   "source": [
    "two_ds_bill = (cohorts.sum(axis = 1) == 2)"
   ]
  },
  {
   "cell_type": "code",
   "execution_count": 13,
   "id": "e6cbd84f-c6e2-4d5f-9155-dd4ce411e66d",
   "metadata": {},
   "outputs": [
    {
     "data": {
      "text/plain": [
       "0.06"
      ]
     },
     "execution_count": 13,
     "metadata": {},
     "output_type": "execute_result"
    }
   ],
   "source": [
    "two_ds_bill.sum() / len(cohorts)"
   ]
  },
  {
   "cell_type": "markdown",
   "id": "d5b4bc8a-1a1a-4cb7-9d28-1ba68f3dfe98",
   "metadata": {},
   "source": [
    "the odds that the two billboards I drive past both have data science students on them are 6%"
   ]
  },
  {
   "cell_type": "markdown",
   "id": "f8b1b213-298c-48b4-ace8-e4a8ddf4e638",
   "metadata": {},
   "source": [
    "4) Codeup students buy, on average, 3 poptart packages with a standard deviation of 1.5 a day from the snack vending machine.\n",
    "\n",
    "If on monday the machine is restocked with 17 poptart packages, how likely is it that I will be able to buy some poptarts on Friday afternoon? \n",
    "\n",
    "(Remember, if you have mean and standard deviation, use the np.random.normal) You'll need to make a judgement call on how to handle some of your values"
   ]
  },
  {
   "cell_type": "markdown",
   "id": "a038602e-4bda-40d6-b631-5ffe958957e0",
   "metadata": {},
   "source": [
    "1st try"
   ]
  },
  {
   "cell_type": "code",
   "execution_count": 37,
   "id": "73cd1d44-8fea-4bc6-9c48-f3d11fb4a81c",
   "metadata": {},
   "outputs": [],
   "source": [
    "avg_poptart = rng.normal(3, 1.5, 10_000)"
   ]
  },
  {
   "cell_type": "code",
   "execution_count": 38,
   "id": "4d0beaf7-8821-47c9-b1da-457c70316b79",
   "metadata": {},
   "outputs": [],
   "source": [
    "#how many poptarts have been brought till friday afternoon\n",
    "poptarts_till_fri_aft = (avg_poptart * 5)"
   ]
  },
  {
   "cell_type": "code",
   "execution_count": 39,
   "id": "edbc24c9-87c4-4143-bef8-77d261c13f44",
   "metadata": {},
   "outputs": [
    {
     "data": {
      "text/plain": [
       "6033"
      ]
     },
     "execution_count": 39,
     "metadata": {},
     "output_type": "execute_result"
    }
   ],
   "source": [
    "((poptarts_till_fri_aft) < 17).sum()"
   ]
  },
  {
   "cell_type": "code",
   "execution_count": 40,
   "id": "72a72454-745c-48d2-91dd-350127e13644",
   "metadata": {},
   "outputs": [
    {
     "data": {
      "text/plain": [
       "0.6033"
      ]
     },
     "execution_count": 40,
     "metadata": {},
     "output_type": "execute_result"
    }
   ],
   "source": [
    "((poptarts_till_fri_aft) < 17).sum() / len(avg_poptart)"
   ]
  },
  {
   "cell_type": "markdown",
   "id": "458c3f6f-b8ce-4711-ae9c-4eaf62ac70cf",
   "metadata": {},
   "source": [
    "2nd try"
   ]
  },
  {
   "cell_type": "code",
   "execution_count": 18,
   "id": "ba396abe-edec-46c7-9047-5ca3b70d9e02",
   "metadata": {},
   "outputs": [
    {
     "data": {
      "text/plain": [
       "array([[5.31965084, 3.11446022, 2.5662534 , 3.72176113, 2.12143271],\n",
       "       [3.22031276, 0.83629972, 4.63063078, 2.84338344, 4.73820129],\n",
       "       [2.69829573, 2.79570044, 1.18152386, 4.13963546, 1.68624007],\n",
       "       ...,\n",
       "       [0.83427573, 3.40763078, 1.89407378, 4.79903521, 1.98071426],\n",
       "       [1.64899353, 3.35043953, 1.97092971, 3.01282499, 4.478984  ],\n",
       "       [3.175844  , 3.18144669, 3.30772006, 0.46035151, 3.58775662]])"
      ]
     },
     "execution_count": 18,
     "metadata": {},
     "output_type": "execute_result"
    }
   ],
   "source": [
    "avg_poptart = rng.normal(3, 1.5, (1000,5))\n",
    "avg_poptart"
   ]
  },
  {
   "cell_type": "code",
   "execution_count": 19,
   "id": "fb9a91b7-34e2-4d92-b119-24834ca2914a",
   "metadata": {},
   "outputs": [],
   "source": [
    "pop_left__fri = (avg_poptart.sum(axis = 1) < 17).sum()"
   ]
  },
  {
   "cell_type": "code",
   "execution_count": 20,
   "id": "f95249c1-84b5-4564-bcbe-450a98cc0443",
   "metadata": {},
   "outputs": [
    {
     "data": {
      "text/plain": [
       "0.74"
      ]
     },
     "execution_count": 20,
     "metadata": {},
     "output_type": "execute_result"
    }
   ],
   "source": [
    "pop_left__fri / len(avg_poptart)"
   ]
  },
  {
   "cell_type": "markdown",
   "id": "42dc7176-8499-4998-830f-243ee17ca6ac",
   "metadata": {},
   "source": [
    "The likelyhood of being able to buy some poptarts on Friday afternoon is 74%"
   ]
  },
  {
   "cell_type": "markdown",
   "id": "9d9fa374-af41-498f-b21f-f739e370505f",
   "metadata": {},
   "source": [
    "5) Compare Heights\n",
    "\n",
    "Men have an average height of 178 cm and standard deviation of 8cm.\n",
    " \n",
    "Women have a mean of 170, sd = 6cm.\n",
    "\n",
    "Since you have means and standard deviations, you can use np.random.normal to generate observations.\n",
    "\n",
    "If a man and woman are chosen at random, what is the likelihood the woman is taller than the man?"
   ]
  },
  {
   "cell_type": "code",
   "execution_count": 21,
   "id": "25fab4f5-fbc4-487b-864d-55fb01a19086",
   "metadata": {},
   "outputs": [],
   "source": [
    "men_heigths = rng.normal(178, 8, (1_000, 1))"
   ]
  },
  {
   "cell_type": "code",
   "execution_count": 22,
   "id": "34dda081-2c31-4076-b52d-dce097fca233",
   "metadata": {},
   "outputs": [],
   "source": [
    "women_heights = rng.normal(170, 6, (1_000, 1))"
   ]
  },
  {
   "cell_type": "code",
   "execution_count": 24,
   "id": "27a09ff0-29de-457b-b525-b80f450dbb3d",
   "metadata": {},
   "outputs": [
    {
     "data": {
      "text/plain": [
       "0.214"
      ]
     },
     "execution_count": 24,
     "metadata": {},
     "output_type": "execute_result"
    }
   ],
   "source": [
    "(women_heights > men_heigths).sum() /len(women_heights)"
   ]
  },
  {
   "cell_type": "markdown",
   "id": "a909df9f-6690-4cbe-b87e-4648ed481645",
   "metadata": {},
   "source": [
    " The likelihood the woman is taller than the man is 21%"
   ]
  },
  {
   "cell_type": "markdown",
   "id": "22e0991c-7c68-4acc-9fae-b4654f6a8bee",
   "metadata": {},
   "source": [
    "6) When installing anaconda on a student's computer, there's a 1 in 250 chance that the download is corrupted and the installation fails.\n",
    "\n",
    "What are the odds that after having 50 students download anaconda, no one has an installation issue? 100 students?\n",
    "\n",
    "What is the probability that we observe an installation issue within the first 150 students that download anaconda?\n",
    "\n",
    "How likely is it that 450 students all download anaconda without an issue?"
   ]
  },
  {
   "cell_type": "markdown",
   "id": "f6f5a874-9ebf-442f-abc8-a8afcb771dab",
   "metadata": {},
   "source": [
    "50 students"
   ]
  },
  {
   "cell_type": "code",
   "execution_count": 25,
   "id": "6ad15a52-f5b8-4ecb-b68b-851793efc457",
   "metadata": {},
   "outputs": [],
   "source": [
    "fifty_students = rng.random((1000, 50))"
   ]
  },
  {
   "cell_type": "code",
   "execution_count": 26,
   "id": "b56c42d9-5840-423f-bb30-e577eb2b77db",
   "metadata": {},
   "outputs": [
    {
     "data": {
      "text/plain": [
       "0.805"
      ]
     },
     "execution_count": 26,
     "metadata": {},
     "output_type": "execute_result"
    }
   ],
   "source": [
    "(fifty_students > 1/250).prod(axis = 1).mean()"
   ]
  },
  {
   "cell_type": "markdown",
   "id": "3389e434-573a-42f1-8bb1-c6d7cad11daa",
   "metadata": {},
   "source": [
    "100 students"
   ]
  },
  {
   "cell_type": "code",
   "execution_count": 27,
   "id": "d917a854-4ee4-4b7e-a426-b38644c55e81",
   "metadata": {},
   "outputs": [],
   "source": [
    "hundred_students = rng.random((1000, 100))"
   ]
  },
  {
   "cell_type": "code",
   "execution_count": 28,
   "id": "c42875c2-d246-48c8-b314-ec933f0685cc",
   "metadata": {},
   "outputs": [
    {
     "data": {
      "text/plain": [
       "0.669"
      ]
     },
     "execution_count": 28,
     "metadata": {},
     "output_type": "execute_result"
    }
   ],
   "source": [
    "(hundred_students > 1/250).prod(axis = 1).mean()"
   ]
  },
  {
   "cell_type": "markdown",
   "id": "b5077153-c7ef-402d-a4fc-5db0df498b0a",
   "metadata": {},
   "source": [
    "150 students"
   ]
  },
  {
   "cell_type": "code",
   "execution_count": 29,
   "id": "43d3f554-65fa-4b0c-be7a-51261c6d7250",
   "metadata": {},
   "outputs": [],
   "source": [
    "hundred_fifty_students = rng.random((1000, 150))"
   ]
  },
  {
   "cell_type": "code",
   "execution_count": 50,
   "id": "2dfb6538-4e1f-4340-841b-782e8753c077",
   "metadata": {},
   "outputs": [
    {
     "data": {
      "text/plain": [
       "0.45099999999999996"
      ]
     },
     "execution_count": 50,
     "metadata": {},
     "output_type": "execute_result"
    }
   ],
   "source": [
    "1 - (hundred_fifty_students > 1/250).prod(axis = 1).mean()"
   ]
  },
  {
   "cell_type": "markdown",
   "id": "9034d553-9ed2-4495-bf87-d1bc25ea25b4",
   "metadata": {},
   "source": [
    "450 students"
   ]
  },
  {
   "cell_type": "code",
   "execution_count": 31,
   "id": "aa193737-3194-4350-afaa-5da22c3b99ad",
   "metadata": {},
   "outputs": [],
   "source": [
    "four_fifty_students = rng.random((1000, 450))"
   ]
  },
  {
   "cell_type": "code",
   "execution_count": 32,
   "id": "77792ddd-12f9-4f23-a5ff-565dc1742898",
   "metadata": {},
   "outputs": [
    {
     "data": {
      "text/plain": [
       "0.169"
      ]
     },
     "execution_count": 32,
     "metadata": {},
     "output_type": "execute_result"
    }
   ],
   "source": [
    "(four_fifty_students > 1/250).prod(axis = 1).mean()"
   ]
  },
  {
   "cell_type": "markdown",
   "id": "ae6592b5-d2ed-4769-b729-ef84e93b0e2d",
   "metadata": {},
   "source": [
    "7) There's a 70% chance on any given day that there will be at least one food truck at Travis Park. \n",
    "\n",
    "a) However, you haven't seen a food truck there in 3 days. How unlikely is this?"
   ]
  },
  {
   "cell_type": "code",
   "execution_count": 33,
   "id": "f798b62c-b9fa-4e35-a8ce-13aacca1dc81",
   "metadata": {},
   "outputs": [
    {
     "data": {
      "text/plain": [
       "array([[0.19024919, 0.4252799 , 0.10633378],\n",
       "       [0.03566494, 0.66453515, 0.76975895],\n",
       "       [0.9199328 , 0.96948911, 0.23150409],\n",
       "       ...,\n",
       "       [0.68831324, 0.69798742, 0.42459487],\n",
       "       [0.81010434, 0.36614362, 0.95975753],\n",
       "       [0.3899219 , 0.68860115, 0.11571004]])"
      ]
     },
     "execution_count": 33,
     "metadata": {},
     "output_type": "execute_result"
    }
   ],
   "source": [
    "rng.random((1000, 3))"
   ]
  },
  {
   "cell_type": "code",
   "execution_count": 34,
   "id": "a596628b-9a64-4d31-ace0-d12738677fb0",
   "metadata": {},
   "outputs": [
    {
     "data": {
      "text/plain": [
       "0.027"
      ]
     },
     "execution_count": 34,
     "metadata": {},
     "output_type": "execute_result"
    }
   ],
   "source": [
    "(rng.random((1000, 3)) > 70/100).prod(axis = 1).mean()"
   ]
  },
  {
   "cell_type": "markdown",
   "id": "19585639-ccbc-415a-a99f-2b111eb9c55f",
   "metadata": {},
   "source": [
    "b) How likely is it that a food truck will show up sometime this week?"
   ]
  },
  {
   "cell_type": "code",
   "execution_count": 54,
   "id": "ef432f6c-4dc4-4e23-8b02-1fc8e427aa79",
   "metadata": {},
   "outputs": [
    {
     "data": {
      "text/plain": [
       "0.088"
      ]
     },
     "execution_count": 54,
     "metadata": {},
     "output_type": "execute_result"
    }
   ],
   "source": [
    "(rng.random((1000, 7)) <= 70/100).prod(axis = 1).mean()"
   ]
  },
  {
   "cell_type": "markdown",
   "id": "2e90844b-b845-41b9-9fa8-e6027c01115b",
   "metadata": {},
   "source": [
    "8) If 23 people are in the same room, what are the odds that two of them share a birthday? What if it's 20 people? 40?"
   ]
  },
  {
   "cell_type": "code",
   "execution_count": 56,
   "id": "f7d7adaa-eda1-4fda-a9ea-ac86dcb5a8fc",
   "metadata": {},
   "outputs": [
    {
     "data": {
      "text/plain": [
       "0.5118"
      ]
     },
     "execution_count": 56,
     "metadata": {},
     "output_type": "execute_result"
    }
   ],
   "source": [
    "birthday_23 = pd.DataFrame(np.random.randint(0,365,(10_000,23)))\n",
    "birthday_23.apply(lambda x: len(set(x)) != len(x),axis=1)\n",
    "share_birthday_23 = birthday_23.apply(lambda x: len(set(x)) != len(x),axis=1).mean()\n",
    "share_birthday_23"
   ]
  },
  {
   "cell_type": "code",
   "execution_count": 57,
   "id": "ffb82943-cd69-4b7a-9801-291b22f3adc5",
   "metadata": {},
   "outputs": [
    {
     "data": {
      "text/plain": [
       "0.4092"
      ]
     },
     "execution_count": 57,
     "metadata": {},
     "output_type": "execute_result"
    }
   ],
   "source": [
    "birthday_20 = pd.DataFrame(np.random.randint(0,365,(10_000,20)))\n",
    "birthday_20.apply(lambda x: len(set(x)) != len(x),axis=1)\n",
    "share_birthday_20 = birthday_20.apply(lambda x: len(set(x)) != len(x),axis=1).mean()\n",
    "share_birthday_20"
   ]
  },
  {
   "cell_type": "code",
   "execution_count": 58,
   "id": "59099e11-2835-455f-ba5b-2e6a27f3fe63",
   "metadata": {},
   "outputs": [
    {
     "data": {
      "text/plain": [
       "0.8914"
      ]
     },
     "execution_count": 58,
     "metadata": {},
     "output_type": "execute_result"
    }
   ],
   "source": [
    "birthday_40 = pd.DataFrame(np.random.randint(0,365,(10_000,40)))\n",
    "birthday_40.apply(lambda x: len(set(x)) != len(x),axis=1)\n",
    "share_birthday_40 = birthday_40.apply(lambda x: len(set(x)) != len(x),axis=1).mean()\n",
    "share_birthday_40"
   ]
  }
 ],
 "metadata": {
  "kernelspec": {
   "display_name": "Python 3 (ipykernel)",
   "language": "python",
   "name": "python3"
  },
  "language_info": {
   "codemirror_mode": {
    "name": "ipython",
    "version": 3
   },
   "file_extension": ".py",
   "mimetype": "text/x-python",
   "name": "python",
   "nbconvert_exporter": "python",
   "pygments_lexer": "ipython3",
   "version": "3.10.9"
  }
 },
 "nbformat": 4,
 "nbformat_minor": 5
}
