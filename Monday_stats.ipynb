{
 "cells": [
  {
   "cell_type": "code",
   "execution_count": 40,
   "id": "0a6ef5a8-b3f3-464a-b6da-a75bd60487a8",
   "metadata": {},
   "outputs": [],
   "source": [
    "import numpy as np\n",
    "import pandas as pd\n",
    "\n",
    "import matplotlib.pyplot as plt"
   ]
  },
  {
   "cell_type": "code",
   "execution_count": 41,
   "id": "e0937567-e715-4162-8d22-91eb3de1e5a5",
   "metadata": {},
   "outputs": [],
   "source": [
    "rng = np.random.default_rng(seed = 42)"
   ]
  },
  {
   "cell_type": "code",
   "execution_count": 42,
   "id": "0873c99f-9d89-4121-9c87-e0dd5c48d089",
   "metadata": {},
   "outputs": [
    {
     "data": {
      "text/plain": [
       "array([[1, 5],\n",
       "       [4, 3],\n",
       "       [3, 6],\n",
       "       ...,\n",
       "       [5, 1],\n",
       "       [4, 6],\n",
       "       [2, 2]])"
      ]
     },
     "execution_count": 42,
     "metadata": {},
     "output_type": "execute_result"
    }
   ],
   "source": [
    "even_doubles = rng.choice([ 1, 2, 3, 4, 5, 6], (1_000, 2))\n",
    "even_doubles"
   ]
  },
  {
   "cell_type": "code",
   "execution_count": 43,
   "id": "33e25ac0-b6b0-40cb-934e-ee18f4c23ebe",
   "metadata": {},
   "outputs": [],
   "source": [
    "second_even = (even_doubles[:,1] % 2) == 0"
   ]
  },
  {
   "cell_type": "code",
   "execution_count": 44,
   "id": "329274aa-8837-44e1-92ab-35d9415094fa",
   "metadata": {},
   "outputs": [],
   "source": [
    "first_even = (even_doubles[:,0] % 2) == 0"
   ]
  },
  {
   "cell_type": "code",
   "execution_count": 45,
   "id": "4f9aace2-8bf6-4a14-9182-34fa25ec9e28",
   "metadata": {},
   "outputs": [
    {
     "data": {
      "text/plain": [
       "0.26"
      ]
     },
     "execution_count": 45,
     "metadata": {},
     "output_type": "execute_result"
    }
   ],
   "source": [
    "((even_doubles.mean(axis = 1) % 2) == 0).sum() / len(even_doubles)"
   ]
  },
  {
   "cell_type": "code",
   "execution_count": 52,
   "id": "10762b47-b778-472b-adbc-3f4186f6b883",
   "metadata": {},
   "outputs": [
    {
     "data": {
      "text/plain": [
       "0.254"
      ]
     },
     "execution_count": 52,
     "metadata": {},
     "output_type": "execute_result"
    }
   ],
   "source": [
    "((first_even + second_even)/2 == 0).sum() / len(even_doubles)"
   ]
  },
  {
   "cell_type": "code",
   "execution_count": null,
   "id": "57c8fac7-208f-4171-ac90-d5ade3379bfe",
   "metadata": {},
   "outputs": [],
   "source": []
  },
  {
   "cell_type": "code",
   "execution_count": null,
   "id": "04049961-1a6e-4255-a5bb-f1d376fe3626",
   "metadata": {},
   "outputs": [],
   "source": []
  }
 ],
 "metadata": {
  "kernelspec": {
   "display_name": "Python 3 (ipykernel)",
   "language": "python",
   "name": "python3"
  },
  "language_info": {
   "codemirror_mode": {
    "name": "ipython",
    "version": 3
   },
   "file_extension": ".py",
   "mimetype": "text/x-python",
   "name": "python",
   "nbconvert_exporter": "python",
   "pygments_lexer": "ipython3",
   "version": "3.10.9"
  }
 },
 "nbformat": 4,
 "nbformat_minor": 5
}
