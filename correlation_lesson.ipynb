{
 "cells": [
  {
   "cell_type": "code",
   "execution_count": 1,
   "id": "fbbd2b02",
   "metadata": {},
   "outputs": [
    {
     "data": {
      "application/javascript": [
       "IPython.notebook.set_autosave_interval(120000)"
      ]
     },
     "metadata": {},
     "output_type": "display_data"
    },
    {
     "name": "stdout",
     "output_type": "stream",
     "text": [
      "Autosaving every 120 seconds\n"
     ]
    }
   ],
   "source": [
    "%autosave 120"
   ]
  },
  {
   "cell_type": "markdown",
   "id": "c1272568",
   "metadata": {},
   "source": [
    "We are going to skip the hard way because we are lazy programmers!\n",
    "\n",
    "It's there as a resource to understand how the correlation coefficient is calculated."
   ]
  },
  {
   "cell_type": "code",
   "execution_count": 3,
   "id": "9c9b56bb",
   "metadata": {},
   "outputs": [],
   "source": [
    "import numpy as np\n",
    "import pandas as pd\n",
    "import matplotlib.pyplot as plt\n",
    "\n",
    "from scipy import stats\n",
    "from pydataset import data"
   ]
  },
  {
   "cell_type": "markdown",
   "id": "76ea889c",
   "metadata": {},
   "source": [
    "Let's do an example from the mpg dataset."
   ]
  },
  {
   "cell_type": "code",
   "execution_count": 4,
   "id": "224bea76",
   "metadata": {},
   "outputs": [
    {
     "data": {
      "text/html": [
       "<div>\n",
       "<style scoped>\n",
       "    .dataframe tbody tr th:only-of-type {\n",
       "        vertical-align: middle;\n",
       "    }\n",
       "\n",
       "    .dataframe tbody tr th {\n",
       "        vertical-align: top;\n",
       "    }\n",
       "\n",
       "    .dataframe thead th {\n",
       "        text-align: right;\n",
       "    }\n",
       "</style>\n",
       "<table border=\"1\" class=\"dataframe\">\n",
       "  <thead>\n",
       "    <tr style=\"text-align: right;\">\n",
       "      <th></th>\n",
       "      <th>manufacturer</th>\n",
       "      <th>model</th>\n",
       "      <th>displ</th>\n",
       "      <th>year</th>\n",
       "      <th>cyl</th>\n",
       "      <th>trans</th>\n",
       "      <th>drv</th>\n",
       "      <th>cty</th>\n",
       "      <th>hwy</th>\n",
       "      <th>fl</th>\n",
       "      <th>class</th>\n",
       "    </tr>\n",
       "  </thead>\n",
       "  <tbody>\n",
       "    <tr>\n",
       "      <th>1</th>\n",
       "      <td>audi</td>\n",
       "      <td>a4</td>\n",
       "      <td>1.8</td>\n",
       "      <td>1999</td>\n",
       "      <td>4</td>\n",
       "      <td>auto(l5)</td>\n",
       "      <td>f</td>\n",
       "      <td>18</td>\n",
       "      <td>29</td>\n",
       "      <td>p</td>\n",
       "      <td>compact</td>\n",
       "    </tr>\n",
       "    <tr>\n",
       "      <th>2</th>\n",
       "      <td>audi</td>\n",
       "      <td>a4</td>\n",
       "      <td>1.8</td>\n",
       "      <td>1999</td>\n",
       "      <td>4</td>\n",
       "      <td>manual(m5)</td>\n",
       "      <td>f</td>\n",
       "      <td>21</td>\n",
       "      <td>29</td>\n",
       "      <td>p</td>\n",
       "      <td>compact</td>\n",
       "    </tr>\n",
       "    <tr>\n",
       "      <th>3</th>\n",
       "      <td>audi</td>\n",
       "      <td>a4</td>\n",
       "      <td>2.0</td>\n",
       "      <td>2008</td>\n",
       "      <td>4</td>\n",
       "      <td>manual(m6)</td>\n",
       "      <td>f</td>\n",
       "      <td>20</td>\n",
       "      <td>31</td>\n",
       "      <td>p</td>\n",
       "      <td>compact</td>\n",
       "    </tr>\n",
       "    <tr>\n",
       "      <th>4</th>\n",
       "      <td>audi</td>\n",
       "      <td>a4</td>\n",
       "      <td>2.0</td>\n",
       "      <td>2008</td>\n",
       "      <td>4</td>\n",
       "      <td>auto(av)</td>\n",
       "      <td>f</td>\n",
       "      <td>21</td>\n",
       "      <td>30</td>\n",
       "      <td>p</td>\n",
       "      <td>compact</td>\n",
       "    </tr>\n",
       "    <tr>\n",
       "      <th>5</th>\n",
       "      <td>audi</td>\n",
       "      <td>a4</td>\n",
       "      <td>2.8</td>\n",
       "      <td>1999</td>\n",
       "      <td>6</td>\n",
       "      <td>auto(l5)</td>\n",
       "      <td>f</td>\n",
       "      <td>16</td>\n",
       "      <td>26</td>\n",
       "      <td>p</td>\n",
       "      <td>compact</td>\n",
       "    </tr>\n",
       "  </tbody>\n",
       "</table>\n",
       "</div>"
      ],
      "text/plain": [
       "  manufacturer model  displ  year  cyl       trans drv  cty  hwy fl    class\n",
       "1         audi    a4    1.8  1999    4    auto(l5)   f   18   29  p  compact\n",
       "2         audi    a4    1.8  1999    4  manual(m5)   f   21   29  p  compact\n",
       "3         audi    a4    2.0  2008    4  manual(m6)   f   20   31  p  compact\n",
       "4         audi    a4    2.0  2008    4    auto(av)   f   21   30  p  compact\n",
       "5         audi    a4    2.8  1999    6    auto(l5)   f   16   26  p  compact"
      ]
     },
     "execution_count": 4,
     "metadata": {},
     "output_type": "execute_result"
    }
   ],
   "source": [
    "mpg = data('mpg')\n",
    "mpg.head()"
   ]
  },
  {
   "cell_type": "code",
   "execution_count": 5,
   "id": "64bee840-4611-4810-85b7-6e34c3df0645",
   "metadata": {},
   "outputs": [
    {
     "name": "stdout",
     "output_type": "stream",
     "text": [
      "<class 'pandas.core.frame.DataFrame'>\n",
      "Index: 234 entries, 1 to 234\n",
      "Data columns (total 11 columns):\n",
      " #   Column        Non-Null Count  Dtype  \n",
      "---  ------        --------------  -----  \n",
      " 0   manufacturer  234 non-null    object \n",
      " 1   model         234 non-null    object \n",
      " 2   displ         234 non-null    float64\n",
      " 3   year          234 non-null    int64  \n",
      " 4   cyl           234 non-null    int64  \n",
      " 5   trans         234 non-null    object \n",
      " 6   drv           234 non-null    object \n",
      " 7   cty           234 non-null    int64  \n",
      " 8   hwy           234 non-null    int64  \n",
      " 9   fl            234 non-null    object \n",
      " 10  class         234 non-null    object \n",
      "dtypes: float64(1), int64(4), object(6)\n",
      "memory usage: 21.9+ KB\n"
     ]
    }
   ],
   "source": [
    "mpg.info()"
   ]
  },
  {
   "cell_type": "code",
   "execution_count": 6,
   "id": "27cd95af",
   "metadata": {},
   "outputs": [
    {
     "data": {
      "text/plain": [
       "cyl\n",
       "4    81\n",
       "6    79\n",
       "8    70\n",
       "5     4\n",
       "Name: count, dtype: int64"
      ]
     },
     "execution_count": 6,
     "metadata": {},
     "output_type": "execute_result"
    }
   ],
   "source": [
    "mpg.cyl.value_counts()"
   ]
  },
  {
   "cell_type": "code",
   "execution_count": 19,
   "id": "b0708ad4-90e5-4f58-9102-e7d720b30a53",
   "metadata": {},
   "outputs": [
    {
     "data": {
      "image/png": "[encoded data removed]",
      "text/plain": [
       "<Figure size 640x480 with 1 Axes>"
      ]
     },
     "metadata": {},
     "output_type": "display_data"
    }
   ],
   "source": [
    "plt.scatter(mpg.cty, mpg.hwy)\n",
    "plt.xlabel('City MPG')\n",
    "plt.ylabel('Highway MPG')\n",
    "plt.title('MPG')\n",
    "plt.show()"
   ]
  },
  {
   "cell_type": "code",
   "execution_count": 25,
   "id": "bce42665-c19d-4b6f-be7e-a15c1c47fde8",
   "metadata": {},
   "outputs": [
    {
     "data": {
      "text/plain": [
       "(0.9559159136495713, 1.868307195266694e-125)"
      ]
     },
     "execution_count": 25,
     "metadata": {},
     "output_type": "execute_result"
    }
   ],
   "source": [
    "r, p = stats.pearsonr(mpg.cty, mpg.hwy)\n",
    "r, p"
   ]
  },
  {
   "cell_type": "markdown",
   "id": "d3a4fb5d-f75a-4e37-8def-a28e381606da",
   "metadata": {},
   "source": [
    "The r_value of 0.96 indicates there is a strong, positive correlation between city and highway mpg"
   ]
  },
  {
   "cell_type": "code",
   "execution_count": 28,
   "id": "2090399c-3c8e-4a72-87d8-21b4c82f00ff",
   "metadata": {},
   "outputs": [],
   "source": [
    "def eval_result(p_value, a = 0.05):\n",
    "\n",
    "    if p_value < a:\n",
    "        print('Your result is significant!')\n",
    "\n",
    "    else:\n",
    "        print('Your result was not significant!')"
   ]
  },
  {
   "cell_type": "code",
   "execution_count": 29,
   "id": "8451e7c3-3fa8-4fe0-b20b-6a978057c3f2",
   "metadata": {},
   "outputs": [
    {
     "name": "stdout",
     "output_type": "stream",
     "text": [
      "Your result is significant!\n"
     ]
    }
   ],
   "source": [
    "eval_result(p)"
   ]
  },
  {
   "cell_type": "markdown",
   "id": "9514647e",
   "metadata": {},
   "source": [
    "Let's look at a limitation of the Pearson's r test with a non-linear relationship."
   ]
  },
  {
   "cell_type": "code",
   "execution_count": 36,
   "id": "3c61c98a-2d5e-43bf-9c51-c9fa07f4819f",
   "metadata": {},
   "outputs": [
    {
     "data": {
      "text/plain": [
       "<matplotlib.collections.PathCollection at 0x177eb2d10>"
      ]
     },
     "execution_count": 36,
     "metadata": {},
     "output_type": "execute_result"
    },
    {
     "data": {
      "image/png": "[encoded data removed]",
      "text/plain": [
       "<Figure size 640x480 with 1 Axes>"
      ]
     },
     "metadata": {},
     "output_type": "display_data"
    }
   ],
   "source": [
    "x = list(range(-15, 15, 1))\n",
    "y =[i ** 3 for i in x]\n",
    "\n",
    "plt.scatter(x, y)"
   ]
  },
  {
   "cell_type": "code",
   "execution_count": 37,
   "id": "15224cb4-e48f-43dd-8b86-2cf7c7a9fd21",
   "metadata": {},
   "outputs": [
    {
     "name": "stdout",
     "output_type": "stream",
     "text": [
      "Your result is significant!\n"
     ]
    }
   ],
   "source": [
    "r_cubed, p_cubed = stats.pearsonr(x, y)\n",
    "eval_result(p_cubed)"
   ]
  },
  {
   "cell_type": "code",
   "execution_count": 38,
   "id": "80a527ce-e345-4e88-a818-186881bc47f8",
   "metadata": {},
   "outputs": [
    {
     "data": {
      "text/plain": [
       "0.915178278514944"
      ]
     },
     "execution_count": 38,
     "metadata": {},
     "output_type": "execute_result"
    }
   ],
   "source": [
    "r_cubed"
   ]
  },
  {
   "cell_type": "code",
   "execution_count": 39,
   "id": "5e445645-f961-407e-96e6-7f4e4f20edbd",
   "metadata": {},
   "outputs": [
    {
     "data": {
      "text/plain": [
       "1.4462375648937077e-12"
      ]
     },
     "execution_count": 39,
     "metadata": {},
     "output_type": "execute_result"
    }
   ],
   "source": [
    "p_cubed"
   ]
  },
  {
   "cell_type": "markdown",
   "id": "97f76f00",
   "metadata": {},
   "source": [
    "Let's look at another limitation with a linear relationship that doesn't do much."
   ]
  },
  {
   "cell_type": "code",
   "execution_count": 42,
   "id": "536ab3dc",
   "metadata": {},
   "outputs": [
    {
     "data": {
      "text/plain": [
       "(0.0, 75.0)"
      ]
     },
     "execution_count": 42,
     "metadata": {},
     "output_type": "execute_result"
    },
    {
     "data": {
      "image/png": "[encoded data removed]",
      "text/plain": [
       "<Figure size 640x480 with 1 Axes>"
      ]
     },
     "metadata": {},
     "output_type": "display_data"
    }
   ],
   "source": [
    "x_not = [1, 2, 3, 4, 5]\n",
    "y_not = [60, 60.1, 60.2, 60.3, 60.4]\n",
    "\n",
    "plt.scatter(x_not, y_not)\n",
    "plt.ylim(0, 75)"
   ]
  },
  {
   "cell_type": "code",
   "execution_count": 43,
   "id": "51ea8464-b983-4c30-9b0f-8e545831983f",
   "metadata": {},
   "outputs": [
    {
     "name": "stdout",
     "output_type": "stream",
     "text": [
      "Your result is significant!\n"
     ]
    }
   ],
   "source": [
    "r_not, p_not = stats.pearsonr(x_not, y_not)\n",
    "eval_result(p_not)"
   ]
  },
  {
   "cell_type": "code",
   "execution_count": 44,
   "id": "708a35e4-9e46-40fe-b320-3599afb63ada",
   "metadata": {},
   "outputs": [
    {
     "data": {
      "text/plain": [
       "0.9999999999999999"
      ]
     },
     "execution_count": 44,
     "metadata": {},
     "output_type": "execute_result"
    }
   ],
   "source": [
    "r_not"
   ]
  },
  {
   "cell_type": "markdown",
   "id": "9df99cf5-59b8-4f5a-ad6a-0887aa02533b",
   "metadata": {},
   "source": [
    "Bonus!"
   ]
  },
  {
   "cell_type": "code",
   "execution_count": 48,
   "id": "59b9db50-f6a6-4a45-a496-8d69507664b9",
   "metadata": {},
   "outputs": [],
   "source": [
    "def find_correlation(feature_one, feature_two):\n",
    "\n",
    "    r, p = stats.pearsonr(feature_one, feature_two)\n",
    "\n",
    "    eval_result(p)"
   ]
  },
  {
   "cell_type": "code",
   "execution_count": 49,
   "id": "8e866c52-620b-4ec5-a6b8-b118efb5345c",
   "metadata": {},
   "outputs": [
    {
     "name": "stdout",
     "output_type": "stream",
     "text": [
      "Your result is significant!\n"
     ]
    }
   ],
   "source": [
    "find_correlation(x_not, y_not)"
   ]
  },
  {
   "cell_type": "code",
   "execution_count": null,
   "id": "31c53853-4b46-4c10-a82f-526c9f02585a",
   "metadata": {},
   "outputs": [],
   "source": []
  }
 ],
 "metadata": {
  "kernelspec": {
   "display_name": "Python 3 (ipykernel)",
   "language": "python",
   "name": "python3"
  },
  "language_info": {
   "codemirror_mode": {
    "name": "ipython",
    "version": 3
   },
   "file_extension": ".py",
   "mimetype": "text/x-python",
   "name": "python",
   "nbconvert_exporter": "python",
   "pygments_lexer": "ipython3",
   "version": "3.10.12"
  }
 },
 "nbformat": 4,
 "nbformat_minor": 5
}
