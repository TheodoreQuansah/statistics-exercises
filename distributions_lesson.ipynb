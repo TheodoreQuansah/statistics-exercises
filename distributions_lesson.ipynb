{
 "cells": [
  {
   "cell_type": "code",
   "execution_count": 7,
   "id": "92b8e7a8",
   "metadata": {},
   "outputs": [
    {
     "data": {
      "application/javascript": [
       "IPython.notebook.set_autosave_interval(120000)"
      ]
     },
     "metadata": {},
     "output_type": "display_data"
    },
    {
     "name": "stdout",
     "output_type": "stream",
     "text": [
      "Autosaving every 120 seconds\n"
     ]
    }
   ],
   "source": [
    "%autosave 120"
   ]
  },
  {
   "cell_type": "code",
   "execution_count": 8,
   "id": "5c14a1fa",
   "metadata": {},
   "outputs": [],
   "source": [
    "import numpy as np\n",
    "from scipy import stats\n",
    "\n",
    "import matplotlib.pyplot as plt"
   ]
  },
  {
   "cell_type": "markdown",
   "id": "f7c41bcf",
   "metadata": {},
   "source": [
    "Let's define a uniform distribution for the roll of a single die."
   ]
  },
  {
   "cell_type": "code",
   "execution_count": 9,
   "id": "f398bc19",
   "metadata": {},
   "outputs": [],
   "source": [
    "dice_rolls = stats.randint(1, 7)"
   ]
  },
  {
   "cell_type": "markdown",
   "id": "cd13086d",
   "metadata": {},
   "source": [
    "We can obtain random values from the distribution using the .rvs() method."
   ]
  },
  {
   "cell_type": "code",
   "execution_count": 10,
   "id": "0218bc86",
   "metadata": {},
   "outputs": [
    {
     "data": {
      "text/plain": [
       "array([6, 2, 5, 5, 4, 1, 5, 6, 4, 3])"
      ]
     },
     "execution_count": 10,
     "metadata": {},
     "output_type": "execute_result"
    }
   ],
   "source": [
    "dice_rolls.rvs(10)"
   ]
  },
  {
   "cell_type": "markdown",
   "id": "8a83e162",
   "metadata": {},
   "source": [
    "Let's return a bunch of numbers and visualize them!"
   ]
  },
  {
   "cell_type": "code",
   "execution_count": 11,
   "id": "3fca1b2e",
   "metadata": {},
   "outputs": [],
   "source": [
    "vals = dice_rolls.rvs(10_000)"
   ]
  },
  {
   "cell_type": "code",
   "execution_count": 13,
   "id": "1c84a61c",
   "metadata": {},
   "outputs": [
    {
     "data": {
      "image/png": "[encoded data removed]",
      "text/plain": [
       "<Figure size 640x480 with 1 Axes>"
      ]
     },
     "metadata": {},
     "output_type": "display_data"
    }
   ],
   "source": [
    "plt.hist(vals, bins = range(1,8), align = 'left', color = 'gray', ec = 'black')\n",
    "plt.show()"
   ]
  },
  {
   "cell_type": "markdown",
   "id": "e4c59cb4",
   "metadata": {},
   "source": [
    "The probability mass function accepts a value and returns the probability of getting that specified value for discrete distributions.\n",
    "\n",
    "The probability density function performs the same function for continuous distributions."
   ]
  },
  {
   "cell_type": "code",
   "execution_count": 14,
   "id": "94522111",
   "metadata": {},
   "outputs": [
    {
     "data": {
      "text/plain": [
       "0.16666666666666666"
      ]
     },
     "execution_count": 14,
     "metadata": {},
     "output_type": "execute_result"
    }
   ],
   "source": [
    "dice_rolls.pmf(3)"
   ]
  },
  {
   "cell_type": "code",
   "execution_count": 18,
   "id": "387bf4fc-f05c-44b7-947f-64a4b48a26ef",
   "metadata": {},
   "outputs": [
    {
     "data": {
      "text/plain": [
       "0.16666666666666666"
      ]
     },
     "execution_count": 18,
     "metadata": {},
     "output_type": "execute_result"
    }
   ],
   "source": [
    "dice_rolls.pmf(5)"
   ]
  },
  {
   "cell_type": "markdown",
   "id": "8e4d7bc9",
   "metadata": {},
   "source": [
    "The cumulative density function accepts a value and returns the probability of getting a value up to and including the specified value.\n",
    "\n",
    "The percent point function accepts a proportion and returns the value under which that proportion of values is found."
   ]
  },
  {
   "cell_type": "code",
   "execution_count": 26,
   "id": "d88b052c",
   "metadata": {},
   "outputs": [
    {
     "data": {
      "text/plain": [
       "0.5"
      ]
     },
     "execution_count": 26,
     "metadata": {},
     "output_type": "execute_result"
    }
   ],
   "source": [
    "dice_rolls.cdf(3)"
   ]
  },
  {
   "cell_type": "code",
   "execution_count": 27,
   "id": "646a8be2-f7d6-4eab-8593-5eb34a18b839",
   "metadata": {},
   "outputs": [
    {
     "data": {
      "text/plain": [
       "1.0"
      ]
     },
     "execution_count": 27,
     "metadata": {},
     "output_type": "execute_result"
    }
   ],
   "source": [
    "dice_rolls.cdf(6)"
   ]
  },
  {
   "cell_type": "code",
   "execution_count": 78,
   "id": "bc9b1a14-553d-4ffb-b1fe-3b1eff74f642",
   "metadata": {},
   "outputs": [
    {
     "data": {
      "text/plain": [
       "3.0"
      ]
     },
     "execution_count": 78,
     "metadata": {},
     "output_type": "execute_result"
    }
   ],
   "source": [
    "dice_rolls.ppf(0.5)"
   ]
  },
  {
   "cell_type": "code",
   "execution_count": 36,
   "id": "4a7647ac-eb59-4531-b123-25938262c92e",
   "metadata": {},
   "outputs": [
    {
     "data": {
      "text/plain": [
       "4.0"
      ]
     },
     "execution_count": 36,
     "metadata": {},
     "output_type": "execute_result"
    }
   ],
   "source": [
    "dice_rolls.ppf(2/3)"
   ]
  },
  {
   "cell_type": "markdown",
   "id": "5d8a89d9",
   "metadata": {},
   "source": [
    "The survival function accepts a value and returns the probability of getting a value greater than the one specified.\n",
    "\n",
    "The inverse survival function accepts a proportion and returns the value above which that proportion of values is found."
   ]
  },
  {
   "cell_type": "code",
   "execution_count": 37,
   "id": "6c90d0ba",
   "metadata": {},
   "outputs": [
    {
     "data": {
      "text/plain": [
       "0.33333333333333337"
      ]
     },
     "execution_count": 37,
     "metadata": {},
     "output_type": "execute_result"
    }
   ],
   "source": [
    "dice_rolls.sf(4)"
   ]
  },
  {
   "cell_type": "code",
   "execution_count": 38,
   "id": "c1d8114d-f2d0-4b94-9d9f-bcf5a6686317",
   "metadata": {},
   "outputs": [
    {
     "data": {
      "text/plain": [
       "0.6666666666666666"
      ]
     },
     "execution_count": 38,
     "metadata": {},
     "output_type": "execute_result"
    }
   ],
   "source": [
    "dice_rolls.cdf(4)"
   ]
  },
  {
   "cell_type": "code",
   "execution_count": 42,
   "id": "8ecc573a-2872-493f-b6dd-77361ac29245",
   "metadata": {},
   "outputs": [
    {
     "data": {
      "text/plain": [
       "0.8333333333333334"
      ]
     },
     "execution_count": 42,
     "metadata": {},
     "output_type": "execute_result"
    }
   ],
   "source": [
    "dice_rolls.sf(1)"
   ]
  },
  {
   "cell_type": "code",
   "execution_count": 44,
   "id": "9b3e7565-09ac-464e-9281-4b0fc43d4a69",
   "metadata": {},
   "outputs": [
    {
     "data": {
      "text/plain": [
       "2.0"
      ]
     },
     "execution_count": 44,
     "metadata": {},
     "output_type": "execute_result"
    }
   ],
   "source": [
    "dice_rolls.isf(2/3)"
   ]
  },
  {
   "cell_type": "code",
   "execution_count": 80,
   "id": "2b4ecdd4-76ae-4d67-954c-a6077b470f0e",
   "metadata": {},
   "outputs": [
    {
     "data": {
      "text/plain": [
       "1.0"
      ]
     },
     "execution_count": 80,
     "metadata": {},
     "output_type": "execute_result"
    }
   ],
   "source": [
    "dice_rolls.sf(2/3)"
   ]
  },
  {
   "cell_type": "markdown",
   "id": "8b14ff0c",
   "metadata": {},
   "source": [
    "A binomial (think binary) distribution assumes there are two possible outcomes: success and failure. We create a binomial distribution with the .binom() method, where we specify the number of trials and the probability of success. We can use the familiar methods on these distributions, too!"
   ]
  },
  {
   "cell_type": "code",
   "execution_count": 56,
   "id": "70844f7a",
   "metadata": {},
   "outputs": [
    {
     "data": {
      "text/plain": [
       "<scipy.stats._distn_infrastructure.rv_discrete_frozen at 0x13fefb670>"
      ]
     },
     "execution_count": 56,
     "metadata": {},
     "output_type": "execute_result"
    }
   ],
   "source": [
    "attendance = stats.binom(8, 0.95)\n",
    "attendance"
   ]
  },
  {
   "cell_type": "code",
   "execution_count": 63,
   "id": "ecccf707-c8cb-4b29-8eac-101a7293551c",
   "metadata": {},
   "outputs": [
    {
     "data": {
      "text/plain": [
       "0.6634204312890623"
      ]
     },
     "execution_count": 63,
     "metadata": {},
     "output_type": "execute_result"
    }
   ],
   "source": [
    "attendance.pmf(8)"
   ]
  },
  {
   "cell_type": "code",
   "execution_count": 67,
   "id": "61830d89-26cc-45f3-bb05-17dd473f04d4",
   "metadata": {},
   "outputs": [
    {
     "data": {
      "text/plain": [
       "0.9942117820703125"
      ]
     },
     "execution_count": 67,
     "metadata": {},
     "output_type": "execute_result"
    }
   ],
   "source": [
    "attendance.sf(5)"
   ]
  },
  {
   "cell_type": "code",
   "execution_count": 64,
   "id": "d6e4ba96-7c68-4696-91bc-7094c8e65844",
   "metadata": {},
   "outputs": [
    {
     "data": {
      "text/plain": [
       "array([8, 8, 7, 7, 8, 8, 8, 7, 8, 8])"
      ]
     },
     "execution_count": 64,
     "metadata": {},
     "output_type": "execute_result"
    }
   ],
   "source": [
    "attendance.rvs(10)"
   ]
  },
  {
   "cell_type": "code",
   "execution_count": 70,
   "id": "7c960226-bc02-46cb-a816-ff1aa9a2ffb6",
   "metadata": {},
   "outputs": [
    {
     "data": {
      "text/plain": [
       "[3.906250000000028e-11,\n",
       " 5.937500000000035e-09,\n",
       " 3.948437500000023e-07,\n",
       " 1.5004062500000061e-05,\n",
       " 0.00035634648437500127,\n",
       " 0.005416466562500013,\n",
       " 0.05145643234375009,\n",
       " 0.27933491843750013,\n",
       " 0.6634204312890623]"
      ]
     },
     "execution_count": 70,
     "metadata": {},
     "output_type": "execute_result"
    }
   ],
   "source": [
    "y = [attendance.pmf(i) for i in range(0, 9)]\n",
    "y"
   ]
  },
  {
   "cell_type": "code",
   "execution_count": 74,
   "id": "41a9eda0-60dc-45d5-a510-bb428c50e4d7",
   "metadata": {},
   "outputs": [
    {
     "data": {
      "text/plain": [
       "<BarContainer object of 9 artists>"
      ]
     },
     "execution_count": 74,
     "metadata": {},
     "output_type": "execute_result"
    },
    {
     "data": {
      "image/png": "[encoded data removed]",
      "text/plain": [
       "<Figure size 640x480 with 1 Axes>"
      ]
     },
     "metadata": {},
     "output_type": "display_data"
    }
   ],
   "source": [
    "plt.bar(x = range(0, 9), height = y)"
   ]
  },
  {
   "cell_type": "code",
   "execution_count": 75,
   "id": "6b1a0d07-82f7-47f7-930e-d5584b4ecba8",
   "metadata": {},
   "outputs": [
    {
     "data": {
      "text/plain": [
       "0.005788217929687514"
      ]
     },
     "execution_count": 75,
     "metadata": {},
     "output_type": "execute_result"
    }
   ],
   "source": [
    "attendance.cdf(5)"
   ]
  },
  {
   "cell_type": "markdown",
   "id": "9c147d70",
   "metadata": {},
   "source": [
    "Normal distributions are for continuous variables. We can create a normal distribution with the .norm() method, where we specify the mean and standard deviation for the distribution."
   ]
  },
  {
   "cell_type": "code",
   "execution_count": 81,
   "id": "35116051",
   "metadata": {},
   "outputs": [],
   "source": [
    "monthly_sales = stats.norm(23_000, 2_500)"
   ]
  },
  {
   "cell_type": "code",
   "execution_count": 82,
   "id": "ffa49b83-3421-48bf-ac19-0a7381e998ce",
   "metadata": {},
   "outputs": [
    {
     "data": {
      "text/plain": [
       "0.00014730805612132934"
      ]
     },
     "execution_count": 82,
     "metadata": {},
     "output_type": "execute_result"
    }
   ],
   "source": [
    "monthly_sales.pdf(24_000)"
   ]
  },
  {
   "cell_type": "code",
   "execution_count": 83,
   "id": "981199e7-1c65-486c-a207-c198f409e202",
   "metadata": {},
   "outputs": [
    {
     "data": {
      "text/plain": [
       "0.2118553985833967"
      ]
     },
     "execution_count": 83,
     "metadata": {},
     "output_type": "execute_result"
    }
   ],
   "source": [
    "monthly_sales.sf(25_000)"
   ]
  },
  {
   "cell_type": "code",
   "execution_count": 146,
   "id": "ebbc1986-8714-4772-8aa7-42c960f01ac1",
   "metadata": {},
   "outputs": [
    {
     "data": {
      "text/plain": [
       "26203.878913861503"
      ]
     },
     "execution_count": 146,
     "metadata": {},
     "output_type": "execute_result"
    }
   ],
   "source": [
    "monthly_sales.isf(0.1)"
   ]
  },
  {
   "cell_type": "code",
   "execution_count": 147,
   "id": "33f92c01-f883-419b-b38f-67a1267d2241",
   "metadata": {},
   "outputs": [
    {
     "data": {
      "text/plain": [
       "19796.121086138497"
      ]
     },
     "execution_count": 147,
     "metadata": {},
     "output_type": "execute_result"
    }
   ],
   "source": [
    "monthly_sales.ppf(0.1)"
   ]
  },
  {
   "cell_type": "markdown",
   "id": "83b8d96c",
   "metadata": {},
   "source": [
    "Poisson distributions measure how many events occur over a specific time period. We create a poisson distribution with the .poisson() method, where we only have to specify the expected value."
   ]
  },
  {
   "cell_type": "code",
   "execution_count": 122,
   "id": "fc04a12c",
   "metadata": {},
   "outputs": [],
   "source": [
    "drank_coffee = stats.poisson(15)"
   ]
  },
  {
   "cell_type": "code",
   "execution_count": 104,
   "id": "62cc081f-dc47-4b89-bdeb-e86a26a424d8",
   "metadata": {},
   "outputs": [
    {
     "data": {
      "text/plain": [
       "0.12478121503252496"
      ]
     },
     "execution_count": 104,
     "metadata": {},
     "output_type": "execute_result"
    }
   ],
   "source": [
    "drank_coffee.sf(19)"
   ]
  },
  {
   "cell_type": "code",
   "execution_count": 105,
   "id": "9f6c2e79-d886-493c-9830-ed80cb3dcf8d",
   "metadata": {},
   "outputs": [
    {
     "data": {
      "text/plain": [
       "0.0019357881219256158"
      ]
     },
     "execution_count": 107,
     "metadata": {},
     "output_type": "execute_result"
    }
   ],
   "source": [
    "drank_coffee.pmf(15)"
   ]
  },
  {
   "cell_type": "code",
   "execution_count": 123,
   "id": "77a6d5a8-6d48-4b94-8f45-f98ca8f237b0",
   "metadata": {},
   "outputs": [
    {
     "data": {
      "text/plain": [
       "1.0"
      ]
     },
     "execution_count": 123,
     "metadata": {},
     "output_type": "execute_result"
    }
   ],
   "source": [
    "drank_coffee.cdf(57)"
   ]
  },
  {
   "cell_type": "code",
   "execution_count": 124,
   "id": "ca7a1c20-d9b2-41fd-9d7d-c0271342ee39",
   "metadata": {},
   "outputs": [
    {
     "data": {
      "text/plain": [
       "[3.059023205018258e-07,\n",
       " 4.588534807527389e-06,\n",
       " 3.4414011056455366e-05,\n",
       " 0.00017207005528227702,\n",
       " 0.000645262707308539,\n",
       " 0.0019357881219256158,\n",
       " 0.004839470304814035,\n",
       " 0.010370293510315794,\n",
       " 0.019444300331842114,\n",
       " 0.03240716721973691,\n",
       " 0.04861075082960534,\n",
       " 0.06628738749491639,\n",
       " 0.08285923436864541,\n",
       " 0.09560680888689863,\n",
       " 0.1024358666645339,\n",
       " 0.1024358666645339,\n",
       " 0.09603362499800054,\n",
       " 0.08473555146882411,\n",
       " 0.07061295955735365,\n",
       " 0.055747073334752824,\n",
       " 0.04181030500106466,\n",
       " 0.02986450357218907,\n",
       " 0.02036216152649248,\n",
       " 0.013279670560755972,\n",
       " 0.00829979410047246,\n",
       " 0.004979876460283485]"
      ]
     },
     "execution_count": 124,
     "metadata": {},
     "output_type": "execute_result"
    }
   ],
   "source": [
    "y_poisson = [drank_coffee.pmf(i) for i in range(0, 26)]\n",
    "y_poisson"
   ]
  },
  {
   "cell_type": "code",
   "execution_count": 129,
   "id": "c59e27a6-a283-4c30-9df4-351933ce2e25",
   "metadata": {},
   "outputs": [
    {
     "data": {
      "text/plain": [
       "<BarContainer object of 26 artists>"
      ]
     },
     "execution_count": 129,
     "metadata": {},
     "output_type": "execute_result"
    },
    {
     "data": {
      "image/png": "[encoded data removed]",
      "text/plain": [
       "<Figure size 640x480 with 1 Axes>"
      ]
     },
     "metadata": {},
     "output_type": "display_data"
    }
   ],
   "source": [
    "plt.bar(x = range(0, 26), height = y_poisson, align = 'edge')"
   ]
  },
  {
   "cell_type": "code",
   "execution_count": null,
   "id": "308fca16-b096-4ddc-9efb-1c80f1f2ee52",
   "metadata": {},
   "outputs": [],
   "source": []
  }
 ],
 "metadata": {
  "kernelspec": {
   "display_name": "Python 3 (ipykernel)",
   "language": "python",
   "name": "python3"
  },
  "language_info": {
   "codemirror_mode": {
    "name": "ipython",
    "version": 3
   },
   "file_extension": ".py",
   "mimetype": "text/x-python",
   "name": "python",
   "nbconvert_exporter": "python",
   "pygments_lexer": "ipython3",
   "version": "3.10.9"
  }
 },
 "nbformat": 4,
 "nbformat_minor": 5
}
